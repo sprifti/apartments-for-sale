{
 "cells": [
  {
   "cell_type": "code",
   "execution_count": 1,
   "metadata": {
    "ExecuteTime": {
     "end_time": "2021-05-25T16:40:50.586188Z",
     "start_time": "2021-05-25T16:40:47.224835Z"
    }
   },
   "outputs": [
    {
     "data": {
      "text/html": [
       "<style>.container { width:100% !important; }</style>"
      ],
      "text/plain": [
       "<IPython.core.display.HTML object>"
      ]
     },
     "metadata": {},
     "output_type": "display_data"
    },
    {
     "data": {
      "text/html": [
       "<style>.container { width:100% !important; }</style>"
      ],
      "text/plain": [
       "<IPython.core.display.HTML object>"
      ]
     },
     "metadata": {},
     "output_type": "display_data"
    },
    {
     "ename": "FileNotFoundError",
     "evalue": "[Errno 2] No such file or directory: '../expanded-bonbon-239019-ed390949c71b.json'",
     "output_type": "error",
     "traceback": [
      "\u001b[0;31m---------------------------------------------------------------------------\u001b[0m",
      "\u001b[0;31mFileNotFoundError\u001b[0m                         Traceback (most recent call last)",
      "\u001b[0;32m<ipython-input-1-d680cdb05f72>\u001b[0m in \u001b[0;36m<module>\u001b[0;34m\u001b[0m\n\u001b[1;32m     39\u001b[0m \u001b[0;32mimport\u001b[0m \u001b[0mgspread_dataframe\u001b[0m \u001b[0;32mas\u001b[0m \u001b[0mgd\u001b[0m\u001b[0;34m\u001b[0m\u001b[0;34m\u001b[0m\u001b[0m\n\u001b[1;32m     40\u001b[0m \u001b[0mscope\u001b[0m \u001b[0;34m=\u001b[0m \u001b[0;34m[\u001b[0m\u001b[0;34m'https://www.googleapis.com/auth/drive'\u001b[0m\u001b[0;34m]\u001b[0m\u001b[0;34m\u001b[0m\u001b[0;34m\u001b[0m\u001b[0m\n\u001b[0;32m---> 41\u001b[0;31m \u001b[0mcredentials\u001b[0m \u001b[0;34m=\u001b[0m \u001b[0mServiceAccountCredentials\u001b[0m\u001b[0;34m.\u001b[0m\u001b[0mfrom_json_keyfile_name\u001b[0m\u001b[0;34m(\u001b[0m\u001b[0;34m'../expanded-bonbon-239019-ed390949c71b.json'\u001b[0m\u001b[0;34m,\u001b[0m \u001b[0mscope\u001b[0m\u001b[0;34m)\u001b[0m\u001b[0;34m\u001b[0m\u001b[0;34m\u001b[0m\u001b[0m\n\u001b[0m\u001b[1;32m     42\u001b[0m \u001b[0;34m\u001b[0m\u001b[0m\n\u001b[1;32m     43\u001b[0m \u001b[0mgc\u001b[0m \u001b[0;34m=\u001b[0m \u001b[0mgspread\u001b[0m\u001b[0;34m.\u001b[0m\u001b[0mauthorize\u001b[0m\u001b[0;34m(\u001b[0m\u001b[0mcredentials\u001b[0m\u001b[0;34m)\u001b[0m\u001b[0;34m\u001b[0m\u001b[0;34m\u001b[0m\u001b[0m\n",
      "\u001b[0;32m~/.local/lib/python3.8/site-packages/oauth2client/service_account.py\u001b[0m in \u001b[0;36mfrom_json_keyfile_name\u001b[0;34m(cls, filename, scopes, token_uri, revoke_uri)\u001b[0m\n\u001b[1;32m    217\u001b[0m                 \u001b[0mthe\u001b[0m \u001b[0mkeyfile\u001b[0m\u001b[0;34m.\u001b[0m\u001b[0;34m\u001b[0m\u001b[0;34m\u001b[0m\u001b[0m\n\u001b[1;32m    218\u001b[0m         \"\"\"\n\u001b[0;32m--> 219\u001b[0;31m         \u001b[0;32mwith\u001b[0m \u001b[0mopen\u001b[0m\u001b[0;34m(\u001b[0m\u001b[0mfilename\u001b[0m\u001b[0;34m,\u001b[0m \u001b[0;34m'r'\u001b[0m\u001b[0;34m)\u001b[0m \u001b[0;32mas\u001b[0m \u001b[0mfile_obj\u001b[0m\u001b[0;34m:\u001b[0m\u001b[0;34m\u001b[0m\u001b[0;34m\u001b[0m\u001b[0m\n\u001b[0m\u001b[1;32m    220\u001b[0m             \u001b[0mclient_credentials\u001b[0m \u001b[0;34m=\u001b[0m \u001b[0mjson\u001b[0m\u001b[0;34m.\u001b[0m\u001b[0mload\u001b[0m\u001b[0;34m(\u001b[0m\u001b[0mfile_obj\u001b[0m\u001b[0;34m)\u001b[0m\u001b[0;34m\u001b[0m\u001b[0;34m\u001b[0m\u001b[0m\n\u001b[1;32m    221\u001b[0m         return cls._from_parsed_json_keyfile(client_credentials, scopes,\n",
      "\u001b[0;31mFileNotFoundError\u001b[0m: [Errno 2] No such file or directory: '../expanded-bonbon-239019-ed390949c71b.json'"
     ]
    }
   ],
   "source": [
    "import numpy as np # linear algebra\n",
    "import pandas as pd # data processing, CSV file I/O (e.g. pd.read_csv)\n",
    "import matplotlib.pyplot as plt\n",
    "from sklearn import preprocessing\n",
    "from sklearn import metrics\n",
    "from datetime import datetime as dt, timedelta\n",
    "from pandas_profiling import ProfileReport\n",
    "plt.figure(num=None, figsize=(10, 8), dpi=80, facecolor='w', edgecolor='k')\n",
    "import seaborn as sns; sns.set()  # for plot styling\n",
    "from sklearn.pipeline import Pipeline\n",
    "import plotly.graph_objects as go\n",
    "import datetime\n",
    "%matplotlib inline\n",
    "from IPython.core.display import display, HTML\n",
    "display(HTML(\"<style>.container { width:100% !important; }</style>\"))\n",
    "import warnings\n",
    "warnings.filterwarnings('ignore')\n",
    "from sklearn import preprocessing\n",
    "display(HTML(\"<style>.container { width:100% !important; }</style>\"))\n",
    "from plotly.subplots import make_subplots\n",
    "import plotly.express as px\n",
    "from statsmodels.tsa.stattools import adfuller\n",
    "from sklearn.metrics import mean_squared_error,r2_score\n",
    "import math\n",
    "from sklearn.model_selection import train_test_split\n",
    "import xlsxwriter\n",
    "from numpy import asarray\n",
    "from numpy import mean\n",
    "from numpy import std\n",
    "from sklearn.datasets import make_regression\n",
    "from xgboost import XGBRegressor\n",
    "from sklearn.model_selection import cross_val_score\n",
    "from sklearn.model_selection import RepeatedKFold\n",
    "from matplotlib import pyplot\n",
    "from openpyxl import load_workbook\n",
    "# writer = pd.ExcelWriter('output.xlsx', engine = 'xlsxwriter')\n",
    "import gspread\n",
    "from oauth2client.service_account import ServiceAccountCredentials\n",
    "import gspread_dataframe as gd\n",
    "scope = ['https://www.googleapis.com/auth/drive']\n",
    "credentials = ServiceAccountCredentials.from_json_keyfile_name('../expanded-bonbon-239019-ed390949c71b.json', scope)\n",
    "\n",
    "gc = gspread.authorize(credentials)\n",
    "sps = gc.open('Results Sale Price')\n",
    "\n",
    "#first worksheet = 0\n",
    "# wks = sps.add_worksheet(title=\"A worksheet\", rows=\"100\", cols=\"20\")\n",
    "\n",
    "# wks.update_cell(1,1,\"importing data is working\")\n",
    "\n",
    "# test = wks.cell(1,1).value + \" and reading data is also working\"\n",
    "\n",
    "# wks.update_cell(2,1,test)"
   ]
  },
  {
   "cell_type": "code",
   "execution_count": null,
   "metadata": {
    "ExecuteTime": {
     "end_time": "2021-05-25T16:40:50.591914Z",
     "start_time": "2021-05-25T16:40:47.226Z"
    },
    "code_folding": []
   },
   "outputs": [],
   "source": [
    "#create spreadsheet with training dataset\n",
    "\n",
    "def app_df(df):\n",
    "    scope = ['https://www.googleapis.com/auth/drive']\n",
    "    credentials = ServiceAccountCredentials.from_json_keyfile_name('../expanded-bonbon-239019-ed390949c71b.json', scope)\n",
    "\n",
    "    gc = gspread.authorize(credentials)\n",
    "\n",
    "    sps = gc.open('Results Sale Price')\n",
    "    wks = sps.add_worksheet(title='Training Dataset', rows=2000, cols=5)\n",
    "#     df.to_excel(writer, sheet_name = name)\n",
    "#     existing = gd.get_as_dataframe(wks)\n",
    "    gd.set_with_dataframe(worksheet=wks,dataframe=df,include_index=False,include_column_header=True,resize=True)\n",
    "\n",
    "    return df"
   ]
  },
  {
   "cell_type": "code",
   "execution_count": null,
   "metadata": {
    "ExecuteTime": {
     "end_time": "2021-05-25T16:40:50.594171Z",
     "start_time": "2021-05-25T16:40:47.229Z"
    }
   },
   "outputs": [],
   "source": [
    "# apartments"
   ]
  },
  {
   "cell_type": "code",
   "execution_count": null,
   "metadata": {
    "ExecuteTime": {
     "end_time": "2021-05-25T16:40:50.596138Z",
     "start_time": "2021-05-25T16:40:47.231Z"
    }
   },
   "outputs": [],
   "source": [
    "# df_sell_app.interior_area.loc[df_sell_app.interior_area == 0]\n",
    "# df_sell_app.gros_area.loc[df_sell_app.interior_area == 0]\n",
    "# df_sell_app.gros_area.loc[df_sell_app.gros_area == 0]\n",
    "# df_sell_app.interior_area.loc[df_sell_app.gros_area == 0]"
   ]
  },
  {
   "cell_type": "code",
   "execution_count": null,
   "metadata": {
    "ExecuteTime": {
     "end_time": "2021-05-25T16:40:50.597652Z",
     "start_time": "2021-05-25T16:40:47.234Z"
    }
   },
   "outputs": [],
   "source": [
    "# df_sell_app.loc[(df_sell_app.interior_area > df_sell_app.gros_area) & (df_sell_app.gros_area == 0)]\n",
    "\n",
    "# df_sell_app.loc[(df_sell_app.interior_area > df_sell_app.gros_area) & (df_sell_app.gros_area != 0)]\n",
    "# # df_sell_app.interior_area.loc[(df_sell_app.interior_area > df_sell_app.gros_area)]\n",
    "\n",
    "# df_sell_app.loc[(df_sell_app.interior_area > df_sell_app.temp)]\n",
    "# df_sell_app.loc[(df_sell_app.interior_area > df_sell_app.temp) & (df_sell_app.temp != 0)]\n",
    "# df_sell"
   ]
  },
  {
   "cell_type": "code",
   "execution_count": null,
   "metadata": {
    "ExecuteTime": {
     "end_time": "2021-05-25T16:40:50.599144Z",
     "start_time": "2021-05-25T16:40:47.237Z"
    }
   },
   "outputs": [],
   "source": [
    "# df_sell_app.loc[df_sell_app.other_rooms >=5 ]"
   ]
  },
  {
   "cell_type": "code",
   "execution_count": null,
   "metadata": {
    "ExecuteTime": {
     "end_time": "2021-05-25T16:40:50.600656Z",
     "start_time": "2021-05-25T16:40:47.239Z"
    }
   },
   "outputs": [],
   "source": [
    "# # #distribution of price based on zones\n",
    "# fig = px.scatter(df_sell_app, x='gros_area', y=\"price\")\n",
    "# fig.show()"
   ]
  },
  {
   "cell_type": "code",
   "execution_count": null,
   "metadata": {
    "ExecuteTime": {
     "end_time": "2021-05-25T16:40:50.602476Z",
     "start_time": "2021-05-25T16:40:47.241Z"
    }
   },
   "outputs": [],
   "source": [
    "# df_sell_app"
   ]
  },
  {
   "cell_type": "code",
   "execution_count": null,
   "metadata": {
    "ExecuteTime": {
     "end_time": "2021-05-25T16:40:50.604094Z",
     "start_time": "2021-05-25T16:40:47.244Z"
    }
   },
   "outputs": [],
   "source": [
    "# df_sell_app.loc[~((df_sell_app.bedrooms == 0) & (df_sell_app.bathrooms == 0) & (df_sell_app.other_rooms == 0))]\n",
    "# df_sell_app.loc[~ ((df_sell_app.bedrooms == 0) & (df_sell_app.other_rooms == 0))]"
   ]
  },
  {
   "cell_type": "code",
   "execution_count": null,
   "metadata": {
    "ExecuteTime": {
     "end_time": "2021-05-25T16:40:50.605820Z",
     "start_time": "2021-05-25T16:40:47.247Z"
    }
   },
   "outputs": [],
   "source": [
    "# df_sell_app.loc[df_sell_app.gros_area != 343]"
   ]
  },
  {
   "cell_type": "code",
   "execution_count": null,
   "metadata": {
    "ExecuteTime": {
     "end_time": "2021-05-25T16:40:50.607568Z",
     "start_time": "2021-05-25T16:40:47.250Z"
    }
   },
   "outputs": [],
   "source": [
    "xls = pd.ExcelFile('../Apartments.xlsx')\n",
    "apartments = pd.read_excel(xls, 'properties')\n",
    "apartments.closed_price = apartments.closed_price.fillna(0)"
   ]
  },
  {
   "cell_type": "code",
   "execution_count": null,
   "metadata": {
    "ExecuteTime": {
     "end_time": "2021-05-25T16:40:50.609290Z",
     "start_time": "2021-05-25T16:40:47.254Z"
    }
   },
   "outputs": [],
   "source": [
    "df_sell_app = apartments[['zoneid','property_type','property_status','zone','interior_area','gros_area','bedrooms','bathrooms', 'other_rooms','price','closed_price','closed_date']] \n",
    "\n",
    "\n",
    "# #if one of the areas is 0 it gets the value from the non 0 one, if both are 0 we drop the records\n",
    "# #if gros area is smaller than interior area we replace it with the value of interior area\n",
    "df_sell_app['temp'] = 0\n",
    "df_sell_app.interior_area.loc[df_sell_app.interior_area == 0] = df_sell_app.gros_area.loc[df_sell_app.interior_area == 0]\n",
    "df_sell_app.gros_area.loc[df_sell_app.gros_area == 0] = df_sell_app.interior_area.loc[df_sell_app.gros_area == 0]\n",
    "# df_sell_app.gros_area.loc[(df_sell_app.interior_area > df_sell_app.gros_area)] = df_sell_app.interior_area.loc[(df_sell_app.interior_area > df_sell_app.gros_area)]\n",
    "df_sell_app.gros_area.loc[(df_sell_app.interior_area > df_sell_app.gros_area) & (df_sell_app.gros_area != 0)] = df_sell_app.interior_area.loc[(df_sell_app.interior_area > df_sell_app.gros_area) & (df_sell_app.gros_area != 0)]\n",
    "df_sell_app.interior_area.loc[(df_sell_app.interior_area > df_sell_app.temp) & (df_sell_app.temp != 0)] = df_sell_app.temp.loc[(df_sell_app.interior_area > df_sell_app.temp) & (df_sell_app.temp != 0)]\n",
    "df_sell_app = df_sell_app.loc[df_sell_app.interior_area > 0]\n",
    "df_sell_app = df_sell_app.loc[(df_sell_app.gros_area < 430) & (df_sell_app.gros_area > 15)]\n",
    "df_sell_app.drop('temp',1,inplace=True)\n",
    "\n",
    "# #Keep only the properties with the following statuses\n",
    "df_sell_app.property_status.loc[df_sell_app.property_status == 'Under construction'] = 'Under Construction'\n",
    "# # df_sell_app.groupby('property_status')['zoneid'].count()\n",
    "df_sell_app = df_sell_app.loc[(df_sell_app.property_status == 'Under Construction') | (df_sell_app.property_status == 'Used') | (df_sell_app.property_status == 'New')]\n",
    "\n",
    "# #overwrite the price with the closed price for those properties that are sold\n",
    "df_sell_app.price.loc[(df_sell_app.closed_price != 0) & (df_sell_app.closed_price > 10000)] = df_sell_app.closed_price.loc[(df_sell_app.closed_price != 0) & (df_sell_app.closed_price > 10000)]\n",
    "\n",
    "#apartments cannot have only bathrooms therefore the records where bedrooms and other_rooms are 0 are removed\n",
    "# df_sell_app.loc[(df_sell_app.bedrooms != 0) | (df_sell_app.bathrooms != 0) | (df_sell_app.other_rooms != 0)]\n",
    "\n",
    "#if all three bedroom related fields are 0 we drop the records\n",
    "df_sell_app['rooms'] = df_sell_app['bedrooms'] + df_sell_app['other_rooms']\n",
    "df_sell_app = df_sell_app.loc[~((df_sell_app.bedrooms == 0) & (df_sell_app.bathrooms == 0) & (df_sell_app.other_rooms == 0))]\n",
    "df_sell_app = df_sell_app.loc[~ ((df_sell_app.bedrooms == 0) & (df_sell_app.other_rooms == 0))]\n",
    "df_sell_app = df_sell_app.loc[(df_sell_app.bedrooms != 0 ) & (df_sell_app.bedrooms < 8) ]\n",
    "df_sell_app = df_sell_app.loc[df_sell_app.bathrooms != 6 ]\n",
    "df_sell_app = df_sell_app.loc[df_sell_app.other_rooms < 5 ]\n",
    "#price range should be between [10000,500000] because all the other values are outliers\n",
    "df_sell_app = df_sell_app.loc[(df_sell_app.price >= 15000) & (df_sell_app.price < 750000)]\n",
    "df_sell_app = df_sell_app.sort_values('price')\n",
    "\n",
    "df_sell_app.drop('closed_price',1,inplace=True)\n",
    "df_sell_app.drop('closed_date',1,inplace=True)\n",
    "df_sell_app.drop('other_rooms',1,inplace=True)\n",
    "df_sell_app.drop('bedrooms',1,inplace=True)\n",
    "#let's try and create a new feature called rooms = bedrooms + other_rooms\n",
    "# df_sell_app['rooms']  = df_sell_app['bedrooms'] + df_sell_app['other_rooms']\n",
    "# df_sell_app.drop('bedrooms',1,inplace=True)\n",
    "# df_sell_app.drop('other_rooms',1,inplace=True)\n",
    "\n",
    "# #per secilen zone duhet te kete te pakten 1 rekord\n",
    "zones = df_sell_app.groupby('zoneid', as_index=False).property_type.count().sort_values('property_type')\n",
    "# zones.loc[zones.property_type == 1]['zoneid']\n",
    "df_sell_app = df_sell_app.loc[df_sell_app.zoneid.isin(zones.loc[zones.property_type >= 100]['zoneid'])]\n",
    "df_sell_app = df_sell_app.loc[df_sell_app.gros_area != 343]\n",
    "\n",
    "# #drop duplicates\n",
    "# df_sell_app = df_sell_app.drop_duplicates()\n",
    "# df_sell_app['pricePerM2'] = round(df_sell_app['price']/df_sell_app['gros_area'],2)\n",
    "# df_sell_app.drop('zone',1,inplace=True)\n",
    "# app_df(df_sell_app)df_sell_app"
   ]
  },
  {
   "cell_type": "code",
   "execution_count": null,
   "metadata": {
    "ExecuteTime": {
     "end_time": "2021-05-25T16:40:50.610766Z",
     "start_time": "2021-05-25T16:40:47.259Z"
    }
   },
   "outputs": [],
   "source": [
    "fig = px.scatter(df_sell_app, x='gros_area', y=\"price\")\n",
    "fig.show()"
   ]
  },
  {
   "cell_type": "code",
   "execution_count": null,
   "metadata": {
    "ExecuteTime": {
     "end_time": "2021-05-25T16:40:50.612095Z",
     "start_time": "2021-05-25T16:40:47.262Z"
    }
   },
   "outputs": [],
   "source": [
    "# df = px.data.tips()\n",
    "# fig = px.histogram(df_sell_app, x=\"price\", y=\"zoneid\", color=\"zoneid\",\n",
    "#                    marginal=\"box\", # or violin, rug\n",
    "#                    hover_data=df_sell_app.columns)\n",
    "# fig.show()\n",
    "# # # df_sell_app.loc[df_sell_app.gros_area < 200]\n",
    "# # df_sell_app.loc[df_sell_app.gros_area > 200 ]"
   ]
  },
  {
   "cell_type": "code",
   "execution_count": null,
   "metadata": {
    "ExecuteTime": {
     "end_time": "2021-05-25T16:40:50.615105Z",
     "start_time": "2021-05-25T16:40:47.266Z"
    }
   },
   "outputs": [],
   "source": [
    "print(df_sell_app.gros_area.min())\n",
    "print(df_sell_app.gros_area.median())\n",
    "print(df_sell_app.gros_area.max())"
   ]
  },
  {
   "cell_type": "code",
   "execution_count": null,
   "metadata": {
    "ExecuteTime": {
     "end_time": "2021-05-25T16:40:50.617649Z",
     "start_time": "2021-05-25T16:40:47.271Z"
    }
   },
   "outputs": [],
   "source": [
    "fig = px.scatter(df_sell_app.loc[df_sell_app.gros_area <= 99], x='gros_area', y=\"price\")\n",
    "fig.show()"
   ]
  },
  {
   "cell_type": "code",
   "execution_count": null,
   "metadata": {
    "ExecuteTime": {
     "end_time": "2021-05-25T16:40:50.619197Z",
     "start_time": "2021-05-25T16:40:47.273Z"
    }
   },
   "outputs": [],
   "source": [
    "# df_sell = df_sell_app.copy()\n",
    "# %store df_sell"
   ]
  },
  {
   "cell_type": "code",
   "execution_count": null,
   "metadata": {
    "ExecuteTime": {
     "end_time": "2021-05-25T16:40:50.620780Z",
     "start_time": "2021-05-25T16:40:47.275Z"
    }
   },
   "outputs": [],
   "source": [
    "# zones.loc[zones.property_type >= 100].count()"
   ]
  },
  {
   "cell_type": "code",
   "execution_count": null,
   "metadata": {
    "ExecuteTime": {
     "end_time": "2021-05-25T16:40:50.622448Z",
     "start_time": "2021-05-25T16:40:47.280Z"
    }
   },
   "outputs": [],
   "source": [
    "import seaborn as sns\n",
    "# df_sell_app.drop('other_rooms',1,inplace=True)\n",
    "\n",
    "sns.set(rc={'figure.figsize':(11.7,8.27)})\n",
    "\n",
    "Var_Corr = df_sell_app.corr()\n",
    "# plot the heatmap and annotation on it\n",
    "sns.heatmap(Var_Corr, xticklabels=Var_Corr.columns, yticklabels=Var_Corr.columns, annot=True, cmap=\"Blues\")"
   ]
  },
  {
   "cell_type": "code",
   "execution_count": null,
   "metadata": {
    "ExecuteTime": {
     "end_time": "2021-05-25T16:40:50.624088Z",
     "start_time": "2021-05-25T16:40:47.284Z"
    }
   },
   "outputs": [],
   "source": [
    "# df_sell_app.loc[df_sell_app.other_rooms != 0]"
   ]
  },
  {
   "cell_type": "code",
   "execution_count": null,
   "metadata": {
    "ExecuteTime": {
     "end_time": "2021-05-25T16:40:50.625680Z",
     "start_time": "2021-05-25T16:40:47.291Z"
    }
   },
   "outputs": [],
   "source": [
    "#distribution of price based on zones\n",
    "# fig = px.scatter(df_sell_app.loc[(df_sell_app.price<150000) & (df_sell_app.gros_area<198)].sort_values('price'), x='price', y=\"gros_area\")\n",
    "# fig.show()\n",
    "\n",
    "fig = px.scatter(df_sell_app, x='price', y=\"gros_area\")\n",
    "fig.show()"
   ]
  },
  {
   "cell_type": "code",
   "execution_count": null,
   "metadata": {
    "ExecuteTime": {
     "end_time": "2021-05-25T16:40:50.627841Z",
     "start_time": "2021-05-25T16:40:47.295Z"
    }
   },
   "outputs": [],
   "source": [
    "df_sell = df_sell_app.copy()\n",
    "%store df_sell"
   ]
  },
  {
   "cell_type": "code",
   "execution_count": null,
   "metadata": {
    "ExecuteTime": {
     "end_time": "2021-05-25T16:40:50.629572Z",
     "start_time": "2021-05-25T16:40:47.300Z"
    }
   },
   "outputs": [],
   "source": [
    "#OLD DATASET\n",
    "\n",
    "# df_sell = apartments[['zoneid','property_type','property_status','zone','interior_area','gros_area','bedrooms','bathrooms', 'other_rooms','price','closed_price','closed_date']] \n",
    "\n",
    "# # #only appartments\n",
    "# df_sell_app = df_sell.loc[(df_sell.property_type=='Apartment')]\n",
    "\n",
    "# #if one of the areas is 0 it gets the value from the non 0 one, if both are 0 we drop the records\n",
    "# #if gros area is smaller than interior area we replace it with the value of interior area\n",
    "# df_sell_app['temp'] = 0\n",
    "# df_sell_app.interior_area.loc[df_sell_app.interior_area == 0] = df_sell_app.gros_area.loc[df_sell_app.interior_area == 0]\n",
    "# df_sell_app.gros_area.loc[df_sell_app.gros_area == 0] = df_sell_app.interior_area.loc[df_sell_app.gros_area == 0]\n",
    "# # df_sell_app.gros_area.loc[(df_sell_app.interior_area > df_sell_app.gros_area)] = df_sell_app.interior_area.loc[(df_sell_app.interior_area > df_sell_app.gros_area)]\n",
    "# df_sell_app.gros_area.loc[(df_sell_app.interior_area > df_sell_app.gros_area) & (df_sell_app.gros_area != 0)] = df_sell_app.interior_area.loc[(df_sell_app.interior_area > df_sell_app.gros_area) & (df_sell_app.gros_area != 0)]\n",
    "# df_sell_app.interior_area.loc[(df_sell_app.interior_area > df_sell_app.temp) & (df_sell_app.temp != 0)] = df_sell_app.temp.loc[(df_sell_app.interior_area > df_sell_app.temp) & (df_sell_app.temp != 0)]\n",
    "# df_sell_app = df_sell_app.loc[df_sell_app.interior_area > 0]\n",
    "# df_sell_app = df_sell_app.loc[df_sell_app.gros_area < 500]\n",
    "# df_sell_app.drop('temp',1,inplace=True)\n",
    "\n",
    "# #Keep only the properties with the following statuses\n",
    "# df_sell_app.property_status.loc[df_sell_app.property_status == 'Under construction'] = 'Under Construction'\n",
    "# # df_sell_app.groupby('property_status')['zoneid'].count()\n",
    "# df_sell_app = df_sell_app.loc[(df_sell_app.property_status == 'Under construction') | (df_sell_app.property_status == 'Used') | (df_sell_app.property_status == 'New')]\n",
    "\n",
    "# #overwrite the price with the closed price for those properties that are sold\n",
    "# df_sell_app.price.loc[(df_sell_app.closed_price != 0) & (df_sell_app.closed_price > 10000)] = df_sell_app.closed_price.loc[(df_sell_app.closed_price != 0) & (df_sell_app.closed_price > 10000)]\n",
    "# #apartments cannot have only bathrooms therefore the records where bedrooms and other_rooms are 0 are removed\n",
    "# df_sell_app.loc[(df_sell_app.bedrooms != 0) | (df_sell_app.bathrooms != 0) | (df_sell_app.other_rooms != 0)]\n",
    "\n",
    "# #if all three bedroom related fields are 0 we drop the records\n",
    "# df_sell_app = df_sell_app.loc[~((df_sell_app.bedrooms == 0) & (df_sell_app.bathrooms == 0) & (df_sell_app.other_rooms == 0))]\n",
    "# df_sell_app = df_sell_app.loc[~ ((df_sell_app.bedrooms == 0) & (df_sell_app.other_rooms == 0))]\n",
    "# #price range should be between [10000,500000] because all the other values are outliers\n",
    "# df_sell_app = df_sell_app.loc[(df_sell_app.price > 10000) & (df_sell_app.price < 500000)]\n",
    "\n",
    "# df_sell_app.drop('zone',1,inplace=True)\n",
    "# df_sell_app.drop('closed_price',1,inplace=True)\n",
    "# df_sell_app.drop('closed_date',1,inplace=True)\n",
    "# # df_sell_app.sort_values('price')\n",
    "\n",
    "# #per secilen zone duhet te kete te pakten 1 rekord\n",
    "# zones = df_sell_app.groupby('zoneid', as_index=False).property_type.count().sort_values('property_type')\n",
    "# zones.loc[zones.property_type == 1]['zoneid']\n",
    "# df_sell_app = df_sell_app.loc[df_sell_app.zoneid.isin(zones.loc[zones.property_type > 10]['zoneid'])]\n",
    "\n",
    "# #drop duplicates\n",
    "# df_sell_app = df_sell_app.drop_duplicates()\n",
    "# df_sell_app['pricePerM2'] = round(df_sell_app['price']/df_sell_app['gros_area'],2)\n",
    "\n",
    "# #based on pricePerM2 distribution for each zone we remove the following records\n",
    "# df_sell_app = df_sell_app.loc[df_sell_app.index != 6767]\n",
    "# df_sell_app = df_sell_app.loc[df_sell_app.index != 6809]\n",
    "# df_sell_app = df_sell_app.loc[df_sell_app.index != 2169]\n",
    "# df_sell_app = df_sell_app.loc[df_sell_app.index != 5264]\n",
    "# df_sell_app = df_sell_app.loc[df_sell_app.index != 1674]\n",
    "# df_sell_app = df_sell_app.loc[df_sell_app.index != 5474]\n",
    "# df_sell_app = df_sell_app.loc[df_sell_app.index != 5236]\n",
    "# df_sell_app = df_sell_app.loc[df_sell_app.index != 3053]\n",
    "# df_sell_app = df_sell_app.loc[df_sell_app.index != 7526]\n",
    "# df_sell_app = df_sell_app.loc[df_sell_app.index != 6783]\n",
    "# df_sell_app = df_sell_app.loc[df_sell_app.index != 6179]\n",
    "# df_sell_app = df_sell_app.loc[df_sell_app.index != 3964]\n",
    "# df_sell_app = df_sell_app.loc[df_sell_app.index != 9303]\n",
    "# df_sell_app = df_sell_app.loc[df_sell_app.index != 9243]\n",
    "# df_sell_app = df_sell_app.loc[df_sell_app.index != 9244]\n",
    "# df_sell_app = df_sell_app.loc[df_sell_app.index != 9721]\n",
    "# df_sell_app = df_sell_app.loc[df_sell_app.index != 5947]\n",
    "# df_sell_app = df_sell_app.loc[df_sell_app.index != 6966]\n",
    "# df_sell_app = df_sell_app.loc[df_sell_app.index != 3350]\n",
    "# df_sell_app = df_sell_app.loc[df_sell_app.index != 6482]\n",
    "\n",
    "\n",
    "# df_sell_app"
   ]
  },
  {
   "cell_type": "code",
   "execution_count": null,
   "metadata": {
    "ExecuteTime": {
     "end_time": "2021-05-25T16:40:50.632528Z",
     "start_time": "2021-05-25T16:40:47.305Z"
    }
   },
   "outputs": [],
   "source": [
    "# df_sell_app = df_sell_app.loc[~((df_sell_app.bedrooms == 0) & (df_sell_app.bathrooms == 0) & (df_sell_app.other_rooms == 0))]\n",
    "# df_sell_app.loc[df_sell_app.price < 500000].sort_values('price', ascending=False)"
   ]
  },
  {
   "cell_type": "code",
   "execution_count": null,
   "metadata": {
    "ExecuteTime": {
     "end_time": "2021-05-25T16:40:50.634044Z",
     "start_time": "2021-05-25T16:40:47.310Z"
    }
   },
   "outputs": [],
   "source": [
    "# zones.loc[zones.property_type<10]\n",
    "# # df_sell_app.loc[df_sell_app.zoneid <=5]\n",
    "# df_sell_app.loc[df_sell_app.zoneid.isin(zones.loc[zones.property_type>10]['zoneid'])]\n",
    "# zones.loc[zones.property_type<10]['zoneid']"
   ]
  },
  {
   "cell_type": "code",
   "execution_count": null,
   "metadata": {
    "ExecuteTime": {
     "end_time": "2021-05-25T16:40:50.635739Z",
     "start_time": "2021-05-25T16:40:47.315Z"
    }
   },
   "outputs": [],
   "source": [
    "zones.loc[zones.property_type > 100]"
   ]
  },
  {
   "cell_type": "code",
   "execution_count": null,
   "metadata": {
    "ExecuteTime": {
     "end_time": "2021-05-25T16:40:50.637471Z",
     "start_time": "2021-05-25T16:40:47.322Z"
    }
   },
   "outputs": [],
   "source": [
    "#distribution of how many records has each zone\n",
    "\n",
    "zones = df_sell_app.groupby('zoneid', as_index=False).property_type.count().sort_values('property_type')\n",
    "fig = px.scatter(x=zones['zoneid'], y=zones['property_type'])\n",
    "fig.show()\n"
   ]
  },
  {
   "cell_type": "code",
   "execution_count": null,
   "metadata": {
    "ExecuteTime": {
     "end_time": "2021-05-25T16:40:50.638943Z",
     "start_time": "2021-05-25T16:40:47.326Z"
    }
   },
   "outputs": [],
   "source": [
    "#Checking the distribution of pricePerM2 based on gros_area for each zone\n",
    "\n",
    "# zones.loc[zones.property_type > 100]\n",
    "# zone = 36\n",
    "# df_sell_app.loc[df_sell_app.zoneid == zone].sort_values('pricePerM2', ascending=False)\n",
    "# df_sell_app.loc[df_sell_app.zoneid == zone].sort_values('pricePerM2')\n",
    "# zones.sort_values('property_type', ascending=False)\n",
    "\n",
    "# fig = px.scatter(y=df_sell_app.loc[df_sell_app.zoneid == zone]['gros_area'], x=df_sell_app.loc[df_sell_app.zoneid == zone]['pricePerM2'])\n",
    "# fig.show()"
   ]
  },
  {
   "cell_type": "code",
   "execution_count": null,
   "metadata": {
    "ExecuteTime": {
     "end_time": "2021-05-25T16:40:50.640585Z",
     "start_time": "2021-05-25T16:40:47.330Z"
    }
   },
   "outputs": [],
   "source": [
    "# df_sell_app.sort_values('pricePerM2')"
   ]
  },
  {
   "cell_type": "code",
   "execution_count": null,
   "metadata": {
    "ExecuteTime": {
     "end_time": "2021-05-25T16:40:50.642551Z",
     "start_time": "2021-05-25T16:40:47.335Z"
    },
    "scrolled": false
   },
   "outputs": [],
   "source": [
    "# from dataprep.eda import plot, plot_correlation, create_report, plot_missing\n",
    "# plot(df_sell_app)\n",
    "# create_report(df_sell_app)\n",
    "# plot_correlation(df_sell_app)"
   ]
  },
  {
   "cell_type": "code",
   "execution_count": null,
   "metadata": {
    "ExecuteTime": {
     "end_time": "2021-05-25T16:40:50.643852Z",
     "start_time": "2021-05-25T16:40:47.341Z"
    }
   },
   "outputs": [],
   "source": [
    "df_sell = df_sell_app.copy()\n",
    "%store df_sell"
   ]
  }
 ],
 "metadata": {
  "hide_input": false,
  "kernelspec": {
   "display_name": "Python 3",
   "language": "python",
   "name": "python3"
  },
  "language_info": {
   "codemirror_mode": {
    "name": "ipython",
    "version": 3
   },
   "file_extension": ".py",
   "mimetype": "text/x-python",
   "name": "python",
   "nbconvert_exporter": "python",
   "pygments_lexer": "ipython3",
   "version": "3.8.5"
  },
  "toc": {
   "base_numbering": 1,
   "nav_menu": {},
   "number_sections": true,
   "sideBar": true,
   "skip_h1_title": false,
   "title_cell": "Table of Contents",
   "title_sidebar": "Contents",
   "toc_cell": false,
   "toc_position": {},
   "toc_section_display": true,
   "toc_window_display": false
  },
  "varInspector": {
   "cols": {
    "lenName": 16,
    "lenType": 16,
    "lenVar": 40
   },
   "kernels_config": {
    "python": {
     "delete_cmd_postfix": "",
     "delete_cmd_prefix": "del ",
     "library": "var_list.py",
     "varRefreshCmd": "print(var_dic_list())"
    },
    "r": {
     "delete_cmd_postfix": ") ",
     "delete_cmd_prefix": "rm(",
     "library": "var_list.r",
     "varRefreshCmd": "cat(var_dic_list()) "
    }
   },
   "types_to_exclude": [
    "module",
    "function",
    "builtin_function_or_method",
    "instance",
    "_Feature"
   ],
   "window_display": false
  }
 },
 "nbformat": 4,
 "nbformat_minor": 4
}
