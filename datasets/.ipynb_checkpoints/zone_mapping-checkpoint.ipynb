{
 "cells": [
  {
   "cell_type": "code",
   "execution_count": 23,
   "metadata": {
    "ExecuteTime": {
     "end_time": "2021-05-23T15:05:15.602147Z",
     "start_time": "2021-05-23T15:05:15.574878Z"
    }
   },
   "outputs": [
    {
     "data": {
      "text/html": [
       "<style>.container { width:100% !important; }</style>"
      ],
      "text/plain": [
       "<IPython.core.display.HTML object>"
      ]
     },
     "metadata": {},
     "output_type": "display_data"
    },
    {
     "data": {
      "text/html": [
       "<style>.container { width:100% !important; }</style>"
      ],
      "text/plain": [
       "<IPython.core.display.HTML object>"
      ]
     },
     "metadata": {},
     "output_type": "display_data"
    }
   ],
   "source": [
    "import numpy as np # linear algebra\n",
    "import pandas as pd # data processing, CSV file I/O (e.g. pd.read_csv)\n",
    "import matplotlib.pyplot as plt\n",
    "from sklearn import preprocessing\n",
    "from sklearn import metrics\n",
    "from datetime import datetime as dt, timedelta\n",
    "from pandas_profiling import ProfileReport\n",
    "plt.figure(num=None, figsize=(10, 8), dpi=80, facecolor='w', edgecolor='k')\n",
    "import seaborn as sns; sns.set()  # for plot styling\n",
    "from sklearn.pipeline import Pipeline\n",
    "import plotly.graph_objects as go\n",
    "import datetime\n",
    "%matplotlib inline\n",
    "from IPython.core.display import display, HTML\n",
    "display(HTML(\"<style>.container { width:100% !important; }</style>\"))\n",
    "import warnings\n",
    "warnings.filterwarnings('ignore')\n",
    "from sklearn import preprocessing\n",
    "display(HTML(\"<style>.container { width:100% !important; }</style>\"))\n",
    "from plotly.subplots import make_subplots\n",
    "import plotly.express as px\n",
    "from statsmodels.tsa.stattools import adfuller\n",
    "from sklearn.metrics import mean_squared_error,r2_score\n",
    "import math\n",
    "from sklearn.model_selection import train_test_split\n",
    "import xlsxwriter\n",
    "from numpy import asarray\n",
    "from numpy import mean\n",
    "from numpy import std\n",
    "from sklearn.datasets import make_regression\n",
    "from xgboost import XGBRegressor\n",
    "from sklearn.model_selection import cross_val_score\n",
    "from sklearn.model_selection import RepeatedKFold\n",
    "from matplotlib import pyplot\n",
    "from openpyxl import load_workbook\n",
    "# writer = pd.ExcelWriter('output.xlsx', engine = 'xlsxwriter')\n",
    "import gspread\n",
    "from oauth2client.service_account import ServiceAccountCredentials\n",
    "import gspread_dataframe as gd\n",
    "SCOPE = ['https://www.googleapis.com/auth/drive']\n",
    "CREDENTIALS = ServiceAccountCredentials.from_json_keyfile_name('../expanded-bonbon-239019-ed390949c71b.json', SCOPE)"
   ]
  },
  {
   "cell_type": "code",
   "execution_count": 91,
   "metadata": {
    "ExecuteTime": {
     "end_time": "2021-05-25T16:31:41.853137Z",
     "start_time": "2021-05-25T16:31:41.848658Z"
    }
   },
   "outputs": [],
   "source": [
    "# oc = pd.DataFrame()\n",
    "# for zone in zv_zone.loc[zv_zone[\"Zona në sistem\"] != \"\"][\"Zona në sistem\"]:\n",
    "    \n",
    "# #     Ratios = process.extract(r, path_to_map['Column'].dropna().unique()) # Extracts all matches for the given string\n",
    "#     highest = process.extractOne(zone, elite.loc[elite.century_zone == \"Not mapped\"].zone.drop_duplicates() ) # Extracts the highest match for the given string\n",
    "#     row = {\n",
    "#         'elite': zone,\n",
    "#         'century': highest[0],\n",
    "#         'Percentage': highest[1]\n",
    "#     }\n",
    "#     oc = oc.append(row, ignore_index=True)\n",
    "    \n",
    "# elite_zones = oc.rename(columns={\n",
    "#     'String': 'century'\n",
    "# })[['century', 'elite', 'Percentage']]"
   ]
  },
  {
   "cell_type": "code",
   "execution_count": 57,
   "metadata": {
    "ExecuteTime": {
     "end_time": "2021-05-23T18:24:03.138572Z",
     "start_time": "2021-05-23T18:23:59.285617Z"
    }
   },
   "outputs": [],
   "source": [
    "xls = pd.ExcelFile('Apartments2021.xlsx')\n",
    "century = pd.read_excel(xls, 'century21')\n",
    "elite = pd.read_excel(xls, 'elite')\n",
    "futurehome = pd.read_excel(xls, 'futurehome')\n",
    "mei = pd.read_excel(xls, 'mei')\n",
    "zv_zone = pd.read_excel(xls, 'zevendesimi i zonave')"
   ]
  },
  {
   "cell_type": "code",
   "execution_count": 96,
   "metadata": {
    "ExecuteTime": {
     "end_time": "2021-05-25T16:37:20.161965Z",
     "start_time": "2021-05-25T16:37:20.153983Z"
    }
   },
   "outputs": [],
   "source": [
    "#Remove records with Not Mapped zones\n",
    "elite = elite.loc[elite.century_zone == 'Not mapped']\n",
    "futurehome = futurehome.loc[futurehome.century_zone == 'Not mapped']\n",
    "mei = mei.loc[mei.century_zone == 'Not mapped']"
   ]
  }
 ],
 "metadata": {
  "hide_input": false,
  "kernelspec": {
   "display_name": "Python 3",
   "language": "python",
   "name": "python3"
  },
  "language_info": {
   "codemirror_mode": {
    "name": "ipython",
    "version": 3
   },
   "file_extension": ".py",
   "mimetype": "text/x-python",
   "name": "python",
   "nbconvert_exporter": "python",
   "pygments_lexer": "ipython3",
   "version": "3.8.5"
  },
  "toc": {
   "base_numbering": 1,
   "nav_menu": {},
   "number_sections": true,
   "sideBar": true,
   "skip_h1_title": false,
   "title_cell": "Table of Contents",
   "title_sidebar": "Contents",
   "toc_cell": false,
   "toc_position": {},
   "toc_section_display": true,
   "toc_window_display": false
  }
 },
 "nbformat": 4,
 "nbformat_minor": 4
}
