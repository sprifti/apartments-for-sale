{
 "cells": [
  {
   "cell_type": "code",
   "execution_count": 1,
   "metadata": {
    "ExecuteTime": {
     "end_time": "2021-07-10T12:11:46.223410Z",
     "start_time": "2021-07-10T12:11:43.124867Z"
    }
   },
   "outputs": [
    {
     "data": {
      "text/html": [
       "<style>.container { width:100% !important; }</style>"
      ],
      "text/plain": [
       "<IPython.core.display.HTML object>"
      ]
     },
     "metadata": {},
     "output_type": "display_data"
    },
    {
     "data": {
      "text/html": [
       "<style>.container { width:100% !important; }</style>"
      ],
      "text/plain": [
       "<IPython.core.display.HTML object>"
      ]
     },
     "metadata": {},
     "output_type": "display_data"
    }
   ],
   "source": [
    "import numpy as np # linear algebra\n",
    "import pandas as pd # data processing, CSV file I/O (e.g. pd.read_csv)\n",
    "import matplotlib.pyplot as plt\n",
    "from sklearn import preprocessing\n",
    "from sklearn import metrics\n",
    "from datetime import datetime as dt, timedelta\n",
    "from pandas_profiling import ProfileReport\n",
    "plt.figure(num=None, figsize=(10, 8), dpi=80, facecolor='w', edgecolor='k')\n",
    "import seaborn as sns; sns.set()  # for plot styling\n",
    "from sklearn.pipeline import Pipeline\n",
    "import plotly.graph_objects as go\n",
    "import datetime\n",
    "%matplotlib inline\n",
    "from IPython.core.display import display, HTML\n",
    "display(HTML(\"<style>.container { width:100% !important; }</style>\"))\n",
    "import warnings\n",
    "warnings.filterwarnings('ignore')\n",
    "from sklearn import preprocessing\n",
    "display(HTML(\"<style>.container { width:100% !important; }</style>\"))\n",
    "from plotly.subplots import make_subplots\n",
    "import plotly.express as px\n",
    "from statsmodels.tsa.stattools import adfuller\n",
    "from sklearn.metrics import mean_squared_error,r2_score\n",
    "import math\n",
    "from sklearn.model_selection import train_test_split\n",
    "import xlsxwriter\n",
    "from numpy import asarray\n",
    "from numpy import mean\n",
    "from numpy import std\n",
    "from sklearn.datasets import make_regression\n",
    "from xgboost import XGBRegressor\n",
    "from sklearn.model_selection import cross_val_score\n",
    "from sklearn.model_selection import RepeatedKFold\n",
    "from matplotlib import pyplot\n",
    "from openpyxl import load_workbook\n",
    "from xgboost import XGBRegressor\n",
    "from sklearn.model_selection import cross_val_score\n",
    "from sklearn.model_selection import RepeatedKFold\n",
    "from sklearn.model_selection import GridSearchCV\n",
    "from sklearn.preprocessing import StandardScaler, RobustScaler\n",
    "from sklearn.ensemble import RandomForestClassifier\n",
    "from explainerdashboard import ClassifierExplainer, ExplainerDashboard, RegressionExplainer\n",
    "from sklearn.ensemble import RandomForestRegressor\n",
    "import pickle\n",
    "from sklearn.preprocessing import StandardScaler, RobustScaler\n",
    "# writer = pd.ExcelWriter('output.xlsx', engine = 'xlsxwriter')\n",
    "import gspread\n",
    "from oauth2client.service_account import ServiceAccountCredentials\n",
    "import gspread_dataframe as gd\n",
    "SCOPE = ['https://www.googleapis.com/auth/drive']\n",
    "CREDENTIALS = ServiceAccountCredentials.from_json_keyfile_name('../expanded-bonbon-239019-ed390949c71b.json', SCOPE)"
   ]
  },
  {
   "cell_type": "code",
   "execution_count": 61,
   "metadata": {
    "ExecuteTime": {
     "end_time": "2021-07-10T12:38:35.356191Z",
     "start_time": "2021-07-10T12:38:35.351653Z"
    }
   },
   "outputs": [],
   "source": [
    "def save_model(model, file):\n",
    "    filename = file + '.sav'\n",
    "    pickle.dump(model, open(filename, 'wb'))"
   ]
  },
  {
   "cell_type": "code",
   "execution_count": 2,
   "metadata": {
    "ExecuteTime": {
     "end_time": "2021-07-10T11:44:12.058907Z",
     "start_time": "2021-07-10T11:44:12.047158Z"
    }
   },
   "outputs": [],
   "source": [
    "def plot_results(y_test, predicted, name):\n",
    "    \n",
    "    df = pd.DataFrame({'Actual': y_test, 'Predicted': predicted})\n",
    "    df.to_excel(\"output.xlsx\", sheet_name=name)  \n",
    "    df1 = df.head(50)\n",
    "    df1.plot(kind='bar',figsize=(20,12))\n",
    "    plt.grid(which='major', linestyle='-', linewidth='0.5', color='green')\n",
    "    plt.grid(which='minor', linestyle=':', linewidth='0.5', color='black')\n",
    "    return df"
   ]
  },
  {
   "cell_type": "code",
   "execution_count": 3,
   "metadata": {
    "ExecuteTime": {
     "end_time": "2021-07-10T11:44:12.527847Z",
     "start_time": "2021-07-10T11:44:12.524076Z"
    }
   },
   "outputs": [],
   "source": [
    "def predict(predict_df, scaler, model):\n",
    "    scaler = pickle.load(open('../models/'+ scaler +'.sav', 'rb'))\n",
    "    predict_df_scaled = scaler.transform(predict_df)\n",
    "    predict_df_scaled = pd.DataFrame(data=predict_df_scaled, columns=[predict_df.columns])\n",
    "    # predict_df_scaled\n",
    "    xgb = pickle.load(open('../models/'+ model +'.sav', 'rb'))\n",
    "    predicted = xgb.predict(predict_df_scaled)\n",
    "    print(predicted)"
   ]
  },
  {
   "cell_type": "code",
   "execution_count": 47,
   "metadata": {
    "ExecuteTime": {
     "end_time": "2021-07-10T12:31:22.632923Z",
     "start_time": "2021-07-10T12:31:22.628472Z"
    }
   },
   "outputs": [],
   "source": [
    "%store -r unaza_e_re_new\n",
    "unaza_e_re_df = unaza_e_re_new.copy()"
   ]
  },
  {
   "cell_type": "code",
   "execution_count": 48,
   "metadata": {
    "ExecuteTime": {
     "end_time": "2021-07-10T12:31:24.424389Z",
     "start_time": "2021-07-10T12:31:24.349540Z"
    }
   },
   "outputs": [],
   "source": [
    "# Create new combination for rooms such as 1+1, 1 and so on\n",
    "unaza_e_re_df[\"room_combo\"] = \"\"\n",
    "unaza_e_re_df\n",
    "for room in unaza_e_re_df[\"rooms\"]:\n",
    "    if room%2==0:\n",
    "        unaza_e_re_df[\"room_combo\"] = str(room/2).split(\".\")[0] + \"+\" + str(room-room/2).split(\".\")[0]\n",
    "unaza_e_re_df.room_combo.loc[(unaza_e_re_df.rooms == 1.0)] = \"1\""
   ]
  },
  {
   "cell_type": "code",
   "execution_count": 49,
   "metadata": {
    "ExecuteTime": {
     "end_time": "2021-07-10T12:31:25.626418Z",
     "start_time": "2021-07-10T12:31:25.605885Z"
    }
   },
   "outputs": [
    {
     "data": {
      "text/html": [
       "<div>\n",
       "<style scoped>\n",
       "    .dataframe tbody tr th:only-of-type {\n",
       "        vertical-align: middle;\n",
       "    }\n",
       "\n",
       "    .dataframe tbody tr th {\n",
       "        vertical-align: top;\n",
       "    }\n",
       "\n",
       "    .dataframe thead th {\n",
       "        text-align: right;\n",
       "    }\n",
       "</style>\n",
       "<table border=\"1\" class=\"dataframe\">\n",
       "  <thead>\n",
       "    <tr style=\"text-align: right;\">\n",
       "      <th></th>\n",
       "      <th>propertiesid</th>\n",
       "      <th>price</th>\n",
       "      <th>interior_area</th>\n",
       "      <th>gros_area</th>\n",
       "      <th>bathrooms</th>\n",
       "      <th>rooms</th>\n",
       "      <th>room_combo</th>\n",
       "    </tr>\n",
       "  </thead>\n",
       "  <tbody>\n",
       "    <tr>\n",
       "      <th>19641</th>\n",
       "      <td>4919</td>\n",
       "      <td>65000.0</td>\n",
       "      <td>119.0</td>\n",
       "      <td>119.0</td>\n",
       "      <td>2.0</td>\n",
       "      <td>2.0</td>\n",
       "      <td>1</td>\n",
       "    </tr>\n",
       "    <tr>\n",
       "      <th>19650</th>\n",
       "      <td>4898</td>\n",
       "      <td>41000.0</td>\n",
       "      <td>75.0</td>\n",
       "      <td>75.0</td>\n",
       "      <td>1.0</td>\n",
       "      <td>1.0</td>\n",
       "      <td>0</td>\n",
       "    </tr>\n",
       "    <tr>\n",
       "      <th>19686</th>\n",
       "      <td>4844</td>\n",
       "      <td>46000.0</td>\n",
       "      <td>70.0</td>\n",
       "      <td>70.0</td>\n",
       "      <td>1.0</td>\n",
       "      <td>1.0</td>\n",
       "      <td>0</td>\n",
       "    </tr>\n",
       "    <tr>\n",
       "      <th>13781</th>\n",
       "      <td>28834</td>\n",
       "      <td>55000.0</td>\n",
       "      <td>61.0</td>\n",
       "      <td>61.0</td>\n",
       "      <td>1.0</td>\n",
       "      <td>1.0</td>\n",
       "      <td>0</td>\n",
       "    </tr>\n",
       "    <tr>\n",
       "      <th>11496</th>\n",
       "      <td>425921</td>\n",
       "      <td>100000.0</td>\n",
       "      <td>114.0</td>\n",
       "      <td>114.0</td>\n",
       "      <td>2.0</td>\n",
       "      <td>2.0</td>\n",
       "      <td>1</td>\n",
       "    </tr>\n",
       "    <tr>\n",
       "      <th>...</th>\n",
       "      <td>...</td>\n",
       "      <td>...</td>\n",
       "      <td>...</td>\n",
       "      <td>...</td>\n",
       "      <td>...</td>\n",
       "      <td>...</td>\n",
       "      <td>...</td>\n",
       "    </tr>\n",
       "    <tr>\n",
       "      <th>17373</th>\n",
       "      <td>13090</td>\n",
       "      <td>66960.0</td>\n",
       "      <td>108.0</td>\n",
       "      <td>108.0</td>\n",
       "      <td>2.0</td>\n",
       "      <td>2.0</td>\n",
       "      <td>1</td>\n",
       "    </tr>\n",
       "    <tr>\n",
       "      <th>11572</th>\n",
       "      <td>403397</td>\n",
       "      <td>72000.0</td>\n",
       "      <td>90.0</td>\n",
       "      <td>90.0</td>\n",
       "      <td>2.0</td>\n",
       "      <td>2.0</td>\n",
       "      <td>1</td>\n",
       "    </tr>\n",
       "    <tr>\n",
       "      <th>17374</th>\n",
       "      <td>13089</td>\n",
       "      <td>45500.0</td>\n",
       "      <td>73.0</td>\n",
       "      <td>73.0</td>\n",
       "      <td>1.0</td>\n",
       "      <td>1.0</td>\n",
       "      <td>0</td>\n",
       "    </tr>\n",
       "    <tr>\n",
       "      <th>18158</th>\n",
       "      <td>10190</td>\n",
       "      <td>46600.0</td>\n",
       "      <td>78.0</td>\n",
       "      <td>78.0</td>\n",
       "      <td>1.0</td>\n",
       "      <td>2.0</td>\n",
       "      <td>1</td>\n",
       "    </tr>\n",
       "    <tr>\n",
       "      <th>19368</th>\n",
       "      <td>5493</td>\n",
       "      <td>63000.0</td>\n",
       "      <td>103.0</td>\n",
       "      <td>103.0</td>\n",
       "      <td>1.0</td>\n",
       "      <td>2.0</td>\n",
       "      <td>1</td>\n",
       "    </tr>\n",
       "  </tbody>\n",
       "</table>\n",
       "<p>939 rows × 7 columns</p>\n",
       "</div>"
      ],
      "text/plain": [
       "       propertiesid     price  interior_area  gros_area  bathrooms  rooms  \\\n",
       "19641          4919   65000.0          119.0      119.0        2.0    2.0   \n",
       "19650          4898   41000.0           75.0       75.0        1.0    1.0   \n",
       "19686          4844   46000.0           70.0       70.0        1.0    1.0   \n",
       "13781         28834   55000.0           61.0       61.0        1.0    1.0   \n",
       "11496        425921  100000.0          114.0      114.0        2.0    2.0   \n",
       "...             ...       ...            ...        ...        ...    ...   \n",
       "17373         13090   66960.0          108.0      108.0        2.0    2.0   \n",
       "11572        403397   72000.0           90.0       90.0        2.0    2.0   \n",
       "17374         13089   45500.0           73.0       73.0        1.0    1.0   \n",
       "18158         10190   46600.0           78.0       78.0        1.0    2.0   \n",
       "19368          5493   63000.0          103.0      103.0        1.0    2.0   \n",
       "\n",
       "       room_combo  \n",
       "19641           1  \n",
       "19650           0  \n",
       "19686           0  \n",
       "13781           0  \n",
       "11496           1  \n",
       "...           ...  \n",
       "17373           1  \n",
       "11572           1  \n",
       "17374           0  \n",
       "18158           1  \n",
       "19368           1  \n",
       "\n",
       "[939 rows x 7 columns]"
      ]
     },
     "execution_count": 49,
     "metadata": {},
     "output_type": "execute_result"
    }
   ],
   "source": [
    "#Creating a hierarchical view for room combo so 1+1 is better than 1 and so on\n",
    "from sklearn.preprocessing import LabelEncoder\n",
    "prp_le = LabelEncoder()\n",
    "condition = {\"1\":0, \"1+1\":1}\n",
    "unaza_e_re_df[\"room_combo\"] = prp_le.fit_transform(unaza_e_re_df[\"room_combo\"])\n",
    "unaza_e_re_df"
   ]
  },
  {
   "cell_type": "markdown",
   "metadata": {},
   "source": [
    "# Random Forest Regressor"
   ]
  },
  {
   "cell_type": "code",
   "execution_count": 3,
   "metadata": {
    "ExecuteTime": {
     "end_time": "2021-07-10T12:11:49.874493Z",
     "start_time": "2021-07-10T12:11:49.871161Z"
    }
   },
   "outputs": [],
   "source": [
    "# parameters = {\n",
    "#     'n_estimators': [100, 150, 200, 250, 300],\n",
    "#     'max_depth': [1,2,3,4],\n",
    "# }\n",
    "# regr = RandomForestRegressor(random_state=0)\n",
    "\n",
    "# clf = GridSearchCV(regr, parameters)\n",
    "# clf.fit(X_train, y_train)\n",
    "\n",
    "# print(clf.best_score_)\n",
    "# print(clf.best_params_)"
   ]
  },
  {
   "cell_type": "code",
   "execution_count": 4,
   "metadata": {
    "ExecuteTime": {
     "end_time": "2021-07-10T12:11:52.766146Z",
     "start_time": "2021-07-10T12:11:52.763490Z"
    }
   },
   "outputs": [],
   "source": [
    "# model_rfr = RandomForestRegressor(n_estimators = 100, max_depth=3)\n",
    "# model_rfr.fit(X_train, y_train)\n",
    "# predicted_rfr = model_rfr.predict(X_test)\n",
    "# # save_model(model_rfr, \"../models/rfr\")"
   ]
  },
  {
   "cell_type": "code",
   "execution_count": 5,
   "metadata": {
    "ExecuteTime": {
     "end_time": "2021-07-10T12:11:55.441514Z",
     "start_time": "2021-07-10T12:11:55.435985Z"
    }
   },
   "outputs": [],
   "source": [
    "# predicted = model_rfr.predict(X_test)\n",
    "# print('R Squared:', metrics.r2_score(y_test, predicted))\n",
    "# print('Mean Absolute Error:', metrics.mean_absolute_error(y_test, predicted))  \n",
    "# print('Mean Squared Error:', metrics.mean_squared_error(y_test, predicted))  \n",
    "# print('Root Mean Squared Error:', np.sqrt(metrics.mean_squared_error(y_test, predicted)))"
   ]
  },
  {
   "cell_type": "markdown",
   "metadata": {},
   "source": [
    "# ExplainerDashboard RandomForestClassifier"
   ]
  },
  {
   "cell_type": "code",
   "execution_count": 53,
   "metadata": {
    "ExecuteTime": {
     "end_time": "2021-07-10T12:32:03.487154Z",
     "start_time": "2021-07-10T12:32:03.467278Z"
    }
   },
   "outputs": [
    {
     "data": {
      "text/html": [
       "<div>\n",
       "<style scoped>\n",
       "    .dataframe tbody tr th:only-of-type {\n",
       "        vertical-align: middle;\n",
       "    }\n",
       "\n",
       "    .dataframe tbody tr th {\n",
       "        vertical-align: top;\n",
       "    }\n",
       "\n",
       "    .dataframe thead th {\n",
       "        text-align: right;\n",
       "    }\n",
       "</style>\n",
       "<table border=\"1\" class=\"dataframe\">\n",
       "  <thead>\n",
       "    <tr style=\"text-align: right;\">\n",
       "      <th></th>\n",
       "      <th>interior_area</th>\n",
       "      <th>gros_area</th>\n",
       "      <th>bathrooms</th>\n",
       "      <th>room_combo</th>\n",
       "    </tr>\n",
       "    <tr>\n",
       "      <th>propertiesid</th>\n",
       "      <th></th>\n",
       "      <th></th>\n",
       "      <th></th>\n",
       "      <th></th>\n",
       "    </tr>\n",
       "  </thead>\n",
       "  <tbody>\n",
       "    <tr>\n",
       "      <th>4919</th>\n",
       "      <td>119.0</td>\n",
       "      <td>119.0</td>\n",
       "      <td>2.0</td>\n",
       "      <td>1</td>\n",
       "    </tr>\n",
       "    <tr>\n",
       "      <th>4898</th>\n",
       "      <td>75.0</td>\n",
       "      <td>75.0</td>\n",
       "      <td>1.0</td>\n",
       "      <td>0</td>\n",
       "    </tr>\n",
       "    <tr>\n",
       "      <th>4844</th>\n",
       "      <td>70.0</td>\n",
       "      <td>70.0</td>\n",
       "      <td>1.0</td>\n",
       "      <td>0</td>\n",
       "    </tr>\n",
       "    <tr>\n",
       "      <th>28834</th>\n",
       "      <td>61.0</td>\n",
       "      <td>61.0</td>\n",
       "      <td>1.0</td>\n",
       "      <td>0</td>\n",
       "    </tr>\n",
       "    <tr>\n",
       "      <th>425921</th>\n",
       "      <td>114.0</td>\n",
       "      <td>114.0</td>\n",
       "      <td>2.0</td>\n",
       "      <td>1</td>\n",
       "    </tr>\n",
       "    <tr>\n",
       "      <th>...</th>\n",
       "      <td>...</td>\n",
       "      <td>...</td>\n",
       "      <td>...</td>\n",
       "      <td>...</td>\n",
       "    </tr>\n",
       "    <tr>\n",
       "      <th>13090</th>\n",
       "      <td>108.0</td>\n",
       "      <td>108.0</td>\n",
       "      <td>2.0</td>\n",
       "      <td>1</td>\n",
       "    </tr>\n",
       "    <tr>\n",
       "      <th>403397</th>\n",
       "      <td>90.0</td>\n",
       "      <td>90.0</td>\n",
       "      <td>2.0</td>\n",
       "      <td>1</td>\n",
       "    </tr>\n",
       "    <tr>\n",
       "      <th>13089</th>\n",
       "      <td>73.0</td>\n",
       "      <td>73.0</td>\n",
       "      <td>1.0</td>\n",
       "      <td>0</td>\n",
       "    </tr>\n",
       "    <tr>\n",
       "      <th>10190</th>\n",
       "      <td>78.0</td>\n",
       "      <td>78.0</td>\n",
       "      <td>1.0</td>\n",
       "      <td>1</td>\n",
       "    </tr>\n",
       "    <tr>\n",
       "      <th>5493</th>\n",
       "      <td>103.0</td>\n",
       "      <td>103.0</td>\n",
       "      <td>1.0</td>\n",
       "      <td>1</td>\n",
       "    </tr>\n",
       "  </tbody>\n",
       "</table>\n",
       "<p>939 rows × 4 columns</p>\n",
       "</div>"
      ],
      "text/plain": [
       "              interior_area  gros_area  bathrooms  room_combo\n",
       "propertiesid                                                 \n",
       "4919                  119.0      119.0        2.0           1\n",
       "4898                   75.0       75.0        1.0           0\n",
       "4844                   70.0       70.0        1.0           0\n",
       "28834                  61.0       61.0        1.0           0\n",
       "425921                114.0      114.0        2.0           1\n",
       "...                     ...        ...        ...         ...\n",
       "13090                 108.0      108.0        2.0           1\n",
       "403397                 90.0       90.0        2.0           1\n",
       "13089                  73.0       73.0        1.0           0\n",
       "10190                  78.0       78.0        1.0           1\n",
       "5493                  103.0      103.0        1.0           1\n",
       "\n",
       "[939 rows x 4 columns]"
      ]
     },
     "execution_count": 53,
     "metadata": {},
     "output_type": "execute_result"
    }
   ],
   "source": [
    "X"
   ]
  },
  {
   "cell_type": "code",
   "execution_count": 59,
   "metadata": {
    "ExecuteTime": {
     "end_time": "2021-07-10T12:37:05.238227Z",
     "start_time": "2021-07-10T12:37:05.214508Z"
    }
   },
   "outputs": [],
   "source": [
    "scaler = RobustScaler()\n",
    "\n",
    "X = unaza_e_re_df.drop(['price','rooms'],1)\n",
    "y = unaza_e_re_df['price']\n",
    "\n",
    "columns = ['interior_area','gros_area', 'bathrooms','room_combo']\n",
    "X.set_index('propertiesid', inplace=True)\n",
    "scaler = scaler.fit(X)\n",
    "# save_model(scaler, '../models/scaler')\n",
    "X_scaled = scaler.transform(X)\n",
    "\n",
    "X_df = pd.DataFrame(X_scaled, columns=columns)\n",
    "\n",
    "X.reset_index(inplace=True)\n",
    "properties = X[['propertiesid']]\n",
    "X_new_df = properties.merge(X_df, left_index=True, right_index=True)\n",
    "X_new_df.set_index('propertiesid', inplace=True)"
   ]
  },
  {
   "cell_type": "code",
   "execution_count": 67,
   "metadata": {
    "ExecuteTime": {
     "end_time": "2021-07-10T12:40:47.356337Z",
     "start_time": "2021-07-10T12:40:13.833377Z"
    },
    "scrolled": true
   },
   "outputs": [
    {
     "name": "stdout",
     "output_type": "stream",
     "text": [
      "Changing class type to RandomForestRegressionExplainer...\n",
      "Generating self.shap_explainer = shap.TreeExplainer(model)\n",
      "Building ExplainerDashboard..\n",
      "Detected notebook environment, consider setting mode='external', mode='inline' or mode='jupyterlab' to keep the notebook interactive while the dashboard is running...\n",
      "Warning: calculating shap interaction values can be slow! Pass shap_interaction=False to remove interactions tab.\n",
      "Generating layout...\n",
      "Calculating shap values...\n",
      "Calculating predictions...\n",
      "Calculating residuals...\n",
      "Calculating absolute residuals...\n",
      "Calculating dependencies...\n",
      "Calculating importances...\n",
      "Calculating shap interaction values...\n",
      "Reminder: TreeShap computational complexity is O(TLD^2), where T is the number of trees, L is the maximum number of leaves in any tree and D the maximal depth of any tree. So reducing these will speed up the calculation.\n",
      "Calculating ShadowDecTree for each individual decision tree...\n",
      "Reminder: you can store the explainer (including calculated dependencies) with explainer.dump('explainer.joblib') and reload with e.g. ClassifierExplainer.from_file('explainer.joblib')\n",
      "Registering callbacks...\n",
      "Starting ExplainerDashboard on http://192.168.8.192:8050\n",
      "Dash is running on http://0.0.0.0:8050/\n",
      "\n",
      "Dash is running on http://0.0.0.0:8050/\n",
      "\n",
      "Dash is running on http://0.0.0.0:8050/\n",
      "\n",
      "Dash is running on http://0.0.0.0:8050/\n",
      "\n",
      "Dash is running on http://0.0.0.0:8050/\n",
      "\n",
      " * Serving Flask app \"explainerdashboard.dashboards\" (lazy loading)\n",
      " * Environment: production\n",
      "\u001b[31m   WARNING: This is a development server. Do not use it in a production deployment.\u001b[0m\n",
      "\u001b[2m   Use a production WSGI server instead.\u001b[0m\n",
      " * Debug mode: off\n"
     ]
    },
    {
     "name": "stderr",
     "output_type": "stream",
     "text": [
      " * Running on http://0.0.0.0:8050/ (Press CTRL+C to quit)\n",
      "192.168.8.192 - - [10/Jul/2021 14:40:16] \"\u001b[37mGET / HTTP/1.1\u001b[0m\" 200 -\n",
      "192.168.8.192 - - [10/Jul/2021 14:40:16] \"\u001b[37mGET /_dash-dependencies HTTP/1.1\u001b[0m\" 200 -\n",
      "192.168.8.192 - - [10/Jul/2021 14:40:16] \"\u001b[37mGET /assets/favicon.ico?m=1623491275.4921412 HTTP/1.1\u001b[0m\" 200 -\n",
      "192.168.8.192 - - [10/Jul/2021 14:40:16] \"\u001b[37mGET /_dash-layout HTTP/1.1\u001b[0m\" 200 -\n",
      "192.168.8.192 - - [10/Jul/2021 14:40:16] \"\u001b[37mPOST /_dash-update-component HTTP/1.1\u001b[0m\" 200 -\n",
      "192.168.8.192 - - [10/Jul/2021 14:40:16] \"\u001b[37mPOST /_dash-update-component HTTP/1.1\u001b[0m\" 200 -\n",
      "192.168.8.192 - - [10/Jul/2021 14:40:16] \"\u001b[37mPOST /_dash-update-component HTTP/1.1\u001b[0m\" 200 -\n",
      "192.168.8.192 - - [10/Jul/2021 14:40:16] \"\u001b[37mPOST /_dash-update-component HTTP/1.1\u001b[0m\" 200 -\n",
      "192.168.8.192 - - [10/Jul/2021 14:40:16] \"\u001b[37mPOST /_dash-update-component HTTP/1.1\u001b[0m\" 200 -\n",
      "192.168.8.192 - - [10/Jul/2021 14:40:16] \"\u001b[37mPOST /_dash-update-component HTTP/1.1\u001b[0m\" 200 -\n",
      "192.168.8.192 - - [10/Jul/2021 14:40:16] \"\u001b[37mPOST /_dash-update-component HTTP/1.1\u001b[0m\" 200 -\n",
      "192.168.8.192 - - [10/Jul/2021 14:40:16] \"\u001b[37mPOST /_dash-update-component HTTP/1.1\u001b[0m\" 200 -\n",
      "192.168.8.192 - - [10/Jul/2021 14:40:16] \"\u001b[37mPOST /_dash-update-component HTTP/1.1\u001b[0m\" 200 -\n",
      "192.168.8.192 - - [10/Jul/2021 14:40:16] \"\u001b[37mPOST /_dash-update-component HTTP/1.1\u001b[0m\" 200 -\n",
      "192.168.8.192 - - [10/Jul/2021 14:40:16] \"\u001b[37mPOST /_dash-update-component HTTP/1.1\u001b[0m\" 200 -\n",
      "192.168.8.192 - - [10/Jul/2021 14:40:16] \"\u001b[37mPOST /_dash-update-component HTTP/1.1\u001b[0m\" 200 -\n",
      "192.168.8.192 - - [10/Jul/2021 14:40:16] \"\u001b[37mPOST /_dash-update-component HTTP/1.1\u001b[0m\" 200 -\n",
      "192.168.8.192 - - [10/Jul/2021 14:40:16] \"\u001b[37mPOST /_dash-update-component HTTP/1.1\u001b[0m\" 200 -\n",
      "192.168.8.192 - - [10/Jul/2021 14:40:16] \"\u001b[37mPOST /_dash-update-component HTTP/1.1\u001b[0m\" 200 -\n",
      "192.168.8.192 - - [10/Jul/2021 14:40:16] \"\u001b[37mPOST /_dash-update-component HTTP/1.1\u001b[0m\" 200 -\n",
      "192.168.8.192 - - [10/Jul/2021 14:40:16] \"\u001b[37mPOST /_dash-update-component HTTP/1.1\u001b[0m\" 200 -\n",
      "192.168.8.192 - - [10/Jul/2021 14:40:17] \"\u001b[37mPOST /_dash-update-component HTTP/1.1\u001b[0m\" 200 -\n",
      "192.168.8.192 - - [10/Jul/2021 14:40:17] \"\u001b[37mPOST /_dash-update-component HTTP/1.1\u001b[0m\" 200 -\n",
      "192.168.8.192 - - [10/Jul/2021 14:40:17] \"\u001b[37mPOST /_dash-update-component HTTP/1.1\u001b[0m\" 200 -\n",
      "192.168.8.192 - - [10/Jul/2021 14:40:17] \"\u001b[37mPOST /_dash-update-component HTTP/1.1\u001b[0m\" 200 -\n",
      "192.168.8.192 - - [10/Jul/2021 14:40:17] \"\u001b[37mPOST /_dash-update-component HTTP/1.1\u001b[0m\" 200 -\n",
      "192.168.8.192 - - [10/Jul/2021 14:40:17] \"\u001b[37mPOST /_dash-update-component HTTP/1.1\u001b[0m\" 200 -\n",
      "192.168.8.192 - - [10/Jul/2021 14:40:17] \"\u001b[37mPOST /_dash-update-component HTTP/1.1\u001b[0m\" 200 -\n",
      "192.168.8.192 - - [10/Jul/2021 14:40:17] \"\u001b[37mPOST /_dash-update-component HTTP/1.1\u001b[0m\" 200 -\n",
      "192.168.8.192 - - [10/Jul/2021 14:40:17] \"\u001b[37mPOST /_dash-update-component HTTP/1.1\u001b[0m\" 200 -\n",
      "192.168.8.192 - - [10/Jul/2021 14:40:17] \"\u001b[37mPOST /_dash-update-component HTTP/1.1\u001b[0m\" 200 -\n",
      "192.168.8.192 - - [10/Jul/2021 14:40:17] \"\u001b[37mPOST /_dash-update-component HTTP/1.1\u001b[0m\" 200 -\n",
      "192.168.8.192 - - [10/Jul/2021 14:40:17] \"\u001b[37mPOST /_dash-update-component HTTP/1.1\u001b[0m\" 200 -\n",
      "192.168.8.192 - - [10/Jul/2021 14:40:17] \"\u001b[37mPOST /_dash-update-component HTTP/1.1\u001b[0m\" 200 -\n",
      "192.168.8.192 - - [10/Jul/2021 14:40:17] \"\u001b[37mPOST /_dash-update-component HTTP/1.1\u001b[0m\" 200 -\n",
      "192.168.8.192 - - [10/Jul/2021 14:40:18] \"\u001b[37mPOST /_dash-update-component HTTP/1.1\u001b[0m\" 200 -\n",
      "192.168.8.192 - - [10/Jul/2021 14:40:18] \"\u001b[37mPOST /_dash-update-component HTTP/1.1\u001b[0m\" 204 -\n",
      "192.168.8.192 - - [10/Jul/2021 14:40:18] \"\u001b[37mPOST /_dash-update-component HTTP/1.1\u001b[0m\" 204 -\n",
      "192.168.8.192 - - [10/Jul/2021 14:40:18] \"\u001b[37mPOST /_dash-update-component HTTP/1.1\u001b[0m\" 200 -\n",
      "192.168.8.192 - - [10/Jul/2021 14:40:18] \"\u001b[37mPOST /_dash-update-component HTTP/1.1\u001b[0m\" 204 -\n",
      "192.168.8.192 - - [10/Jul/2021 14:40:18] \"\u001b[37mPOST /_dash-update-component HTTP/1.1\u001b[0m\" 204 -\n",
      "192.168.8.192 - - [10/Jul/2021 14:40:18] \"\u001b[37mPOST /_dash-update-component HTTP/1.1\u001b[0m\" 200 -\n",
      "192.168.8.192 - - [10/Jul/2021 14:40:18] \"\u001b[37mPOST /_dash-update-component HTTP/1.1\u001b[0m\" 200 -\n",
      "192.168.8.192 - - [10/Jul/2021 14:40:18] \"\u001b[37mPOST /_dash-update-component HTTP/1.1\u001b[0m\" 200 -\n",
      "192.168.8.192 - - [10/Jul/2021 14:40:18] \"\u001b[37mPOST /_dash-update-component HTTP/1.1\u001b[0m\" 200 -\n",
      "192.168.8.192 - - [10/Jul/2021 14:40:18] \"\u001b[37mPOST /_dash-update-component HTTP/1.1\u001b[0m\" 200 -\n",
      "192.168.8.192 - - [10/Jul/2021 14:40:18] \"\u001b[37mPOST /_dash-update-component HTTP/1.1\u001b[0m\" 200 -\n",
      "192.168.8.192 - - [10/Jul/2021 14:40:18] \"\u001b[37mPOST /_dash-update-component HTTP/1.1\u001b[0m\" 200 -\n",
      "192.168.8.192 - - [10/Jul/2021 14:40:18] \"\u001b[37mPOST /_dash-update-component HTTP/1.1\u001b[0m\" 200 -\n",
      "192.168.8.192 - - [10/Jul/2021 14:40:18] \"\u001b[37mPOST /_dash-update-component HTTP/1.1\u001b[0m\" 200 -\n",
      "192.168.8.192 - - [10/Jul/2021 14:40:18] \"\u001b[37mPOST /_dash-update-component HTTP/1.1\u001b[0m\" 200 -\n",
      "192.168.8.192 - - [10/Jul/2021 14:40:18] \"\u001b[37mPOST /_dash-update-component HTTP/1.1\u001b[0m\" 200 -\n",
      "192.168.8.192 - - [10/Jul/2021 14:40:18] \"\u001b[37mPOST /_dash-update-component HTTP/1.1\u001b[0m\" 200 -\n",
      "192.168.8.192 - - [10/Jul/2021 14:40:18] \"\u001b[37mPOST /_dash-update-component HTTP/1.1\u001b[0m\" 200 -\n",
      "192.168.8.192 - - [10/Jul/2021 14:40:18] \"\u001b[37mPOST /_dash-update-component HTTP/1.1\u001b[0m\" 200 -\n",
      "192.168.8.192 - - [10/Jul/2021 14:40:18] \"\u001b[37mPOST /_dash-update-component HTTP/1.1\u001b[0m\" 200 -\n",
      "192.168.8.192 - - [10/Jul/2021 14:40:18] \"\u001b[37mPOST /_dash-update-component HTTP/1.1\u001b[0m\" 200 -\n",
      "192.168.8.192 - - [10/Jul/2021 14:40:18] \"\u001b[37mPOST /_dash-update-component HTTP/1.1\u001b[0m\" 200 -\n",
      "192.168.8.192 - - [10/Jul/2021 14:40:18] \"\u001b[37mPOST /_dash-update-component HTTP/1.1\u001b[0m\" 200 -\n",
      "192.168.8.192 - - [10/Jul/2021 14:40:18] \"\u001b[37mPOST /_dash-update-component HTTP/1.1\u001b[0m\" 204 -\n",
      "192.168.8.192 - - [10/Jul/2021 14:40:18] \"\u001b[37mPOST /_dash-update-component HTTP/1.1\u001b[0m\" 200 -\n",
      "192.168.8.192 - - [10/Jul/2021 14:40:18] \"\u001b[37mPOST /_dash-update-component HTTP/1.1\u001b[0m\" 200 -\n",
      "192.168.8.192 - - [10/Jul/2021 14:40:18] \"\u001b[37mPOST /_dash-update-component HTTP/1.1\u001b[0m\" 200 -\n",
      "192.168.8.192 - - [10/Jul/2021 14:40:18] \"\u001b[37mPOST /_dash-update-component HTTP/1.1\u001b[0m\" 200 -\n",
      "192.168.8.192 - - [10/Jul/2021 14:40:18] \"\u001b[37mPOST /_dash-update-component HTTP/1.1\u001b[0m\" 204 -\n",
      "192.168.8.192 - - [10/Jul/2021 14:40:19] \"\u001b[37mPOST /_dash-update-component HTTP/1.1\u001b[0m\" 200 -\n",
      "192.168.8.192 - - [10/Jul/2021 14:40:19] \"\u001b[37mPOST /_dash-update-component HTTP/1.1\u001b[0m\" 200 -\n",
      "192.168.8.192 - - [10/Jul/2021 14:40:19] \"\u001b[37mPOST /_dash-update-component HTTP/1.1\u001b[0m\" 200 -\n",
      "192.168.8.192 - - [10/Jul/2021 14:40:19] \"\u001b[37mPOST /_dash-update-component HTTP/1.1\u001b[0m\" 200 -\n",
      "192.168.8.192 - - [10/Jul/2021 14:40:19] \"\u001b[37mPOST /_dash-update-component HTTP/1.1\u001b[0m\" 200 -\n",
      "192.168.8.192 - - [10/Jul/2021 14:40:19] \"\u001b[37mPOST /_dash-update-component HTTP/1.1\u001b[0m\" 200 -\n",
      "192.168.8.192 - - [10/Jul/2021 14:40:19] \"\u001b[37mPOST /_dash-update-component HTTP/1.1\u001b[0m\" 200 -\n",
      "192.168.8.192 - - [10/Jul/2021 14:40:19] \"\u001b[37mPOST /_dash-update-component HTTP/1.1\u001b[0m\" 200 -\n",
      "192.168.8.192 - - [10/Jul/2021 14:40:19] \"\u001b[37mPOST /_dash-update-component HTTP/1.1\u001b[0m\" 200 -\n",
      "192.168.8.192 - - [10/Jul/2021 14:40:20] \"\u001b[37mPOST /_dash-update-component HTTP/1.1\u001b[0m\" 200 -\n",
      "192.168.8.192 - - [10/Jul/2021 14:40:20] \"\u001b[37mPOST /_dash-update-component HTTP/1.1\u001b[0m\" 200 -\n",
      "192.168.8.192 - - [10/Jul/2021 14:40:20] \"\u001b[37mPOST /_dash-update-component HTTP/1.1\u001b[0m\" 200 -\n",
      "192.168.8.192 - - [10/Jul/2021 14:40:20] \"\u001b[37mGET / HTTP/1.1\u001b[0m\" 200 -\n",
      "192.168.8.192 - - [10/Jul/2021 14:40:21] \"\u001b[37mGET /_dash-dependencies HTTP/1.1\u001b[0m\" 200 -\n",
      "192.168.8.192 - - [10/Jul/2021 14:40:21] \"\u001b[37mGET /assets/favicon.ico?m=1623491275.4921412 HTTP/1.1\u001b[0m\" 200 -\n",
      "192.168.8.192 - - [10/Jul/2021 14:40:21] \"\u001b[37mGET /_dash-layout HTTP/1.1\u001b[0m\" 200 -\n",
      "192.168.8.192 - - [10/Jul/2021 14:40:21] \"\u001b[37mPOST /_dash-update-component HTTP/1.1\u001b[0m\" 200 -\n",
      "192.168.8.192 - - [10/Jul/2021 14:40:21] \"\u001b[37mPOST /_dash-update-component HTTP/1.1\u001b[0m\" 200 -\n",
      "192.168.8.192 - - [10/Jul/2021 14:40:21] \"\u001b[37mPOST /_dash-update-component HTTP/1.1\u001b[0m\" 200 -\n",
      "192.168.8.192 - - [10/Jul/2021 14:40:21] \"\u001b[37mPOST /_dash-update-component HTTP/1.1\u001b[0m\" 200 -\n",
      "192.168.8.192 - - [10/Jul/2021 14:40:21] \"\u001b[37mPOST /_dash-update-component HTTP/1.1\u001b[0m\" 200 -\n"
     ]
    },
    {
     "name": "stderr",
     "output_type": "stream",
     "text": [
      "192.168.8.192 - - [10/Jul/2021 14:40:21] \"\u001b[37mPOST /_dash-update-component HTTP/1.1\u001b[0m\" 200 -\n",
      "192.168.8.192 - - [10/Jul/2021 14:40:21] \"\u001b[37mPOST /_dash-update-component HTTP/1.1\u001b[0m\" 200 -\n",
      "192.168.8.192 - - [10/Jul/2021 14:40:21] \"\u001b[37mPOST /_dash-update-component HTTP/1.1\u001b[0m\" 200 -\n",
      "192.168.8.192 - - [10/Jul/2021 14:40:21] \"\u001b[37mPOST /_dash-update-component HTTP/1.1\u001b[0m\" 200 -\n",
      "192.168.8.192 - - [10/Jul/2021 14:40:21] \"\u001b[37mPOST /_dash-update-component HTTP/1.1\u001b[0m\" 200 -\n",
      "192.168.8.192 - - [10/Jul/2021 14:40:21] \"\u001b[37mPOST /_dash-update-component HTTP/1.1\u001b[0m\" 200 -\n",
      "192.168.8.192 - - [10/Jul/2021 14:40:21] \"\u001b[37mPOST /_dash-update-component HTTP/1.1\u001b[0m\" 200 -\n",
      "192.168.8.192 - - [10/Jul/2021 14:40:21] \"\u001b[37mPOST /_dash-update-component HTTP/1.1\u001b[0m\" 200 -\n",
      "192.168.8.192 - - [10/Jul/2021 14:40:21] \"\u001b[37mPOST /_dash-update-component HTTP/1.1\u001b[0m\" 200 -\n",
      "192.168.8.192 - - [10/Jul/2021 14:40:21] \"\u001b[37mPOST /_dash-update-component HTTP/1.1\u001b[0m\" 200 -\n",
      "192.168.8.192 - - [10/Jul/2021 14:40:21] \"\u001b[37mPOST /_dash-update-component HTTP/1.1\u001b[0m\" 200 -\n",
      "192.168.8.192 - - [10/Jul/2021 14:40:21] \"\u001b[37mPOST /_dash-update-component HTTP/1.1\u001b[0m\" 200 -\n",
      "192.168.8.192 - - [10/Jul/2021 14:40:21] \"\u001b[37mPOST /_dash-update-component HTTP/1.1\u001b[0m\" 200 -\n",
      "192.168.8.192 - - [10/Jul/2021 14:40:21] \"\u001b[37mPOST /_dash-update-component HTTP/1.1\u001b[0m\" 200 -\n",
      "192.168.8.192 - - [10/Jul/2021 14:40:21] \"\u001b[37mPOST /_dash-update-component HTTP/1.1\u001b[0m\" 200 -\n",
      "192.168.8.192 - - [10/Jul/2021 14:40:21] \"\u001b[37mPOST /_dash-update-component HTTP/1.1\u001b[0m\" 200 -\n",
      "192.168.8.192 - - [10/Jul/2021 14:40:21] \"\u001b[37mPOST /_dash-update-component HTTP/1.1\u001b[0m\" 200 -\n",
      "192.168.8.192 - - [10/Jul/2021 14:40:21] \"\u001b[37mPOST /_dash-update-component HTTP/1.1\u001b[0m\" 200 -\n",
      "192.168.8.192 - - [10/Jul/2021 14:40:21] \"\u001b[37mPOST /_dash-update-component HTTP/1.1\u001b[0m\" 200 -\n",
      "192.168.8.192 - - [10/Jul/2021 14:40:21] \"\u001b[37mPOST /_dash-update-component HTTP/1.1\u001b[0m\" 200 -\n",
      "192.168.8.192 - - [10/Jul/2021 14:40:22] \"\u001b[37mPOST /_dash-update-component HTTP/1.1\u001b[0m\" 200 -\n",
      "192.168.8.192 - - [10/Jul/2021 14:40:22] \"\u001b[37mPOST /_dash-update-component HTTP/1.1\u001b[0m\" 200 -\n",
      "192.168.8.192 - - [10/Jul/2021 14:40:22] \"\u001b[37mPOST /_dash-update-component HTTP/1.1\u001b[0m\" 200 -\n",
      "192.168.8.192 - - [10/Jul/2021 14:40:22] \"\u001b[37mPOST /_dash-update-component HTTP/1.1\u001b[0m\" 200 -\n",
      "192.168.8.192 - - [10/Jul/2021 14:40:22] \"\u001b[37mPOST /_dash-update-component HTTP/1.1\u001b[0m\" 200 -\n",
      "192.168.8.192 - - [10/Jul/2021 14:40:22] \"\u001b[37mPOST /_dash-update-component HTTP/1.1\u001b[0m\" 204 -\n",
      "192.168.8.192 - - [10/Jul/2021 14:40:22] \"\u001b[37mPOST /_dash-update-component HTTP/1.1\u001b[0m\" 204 -\n",
      "192.168.8.192 - - [10/Jul/2021 14:40:22] \"\u001b[37mPOST /_dash-update-component HTTP/1.1\u001b[0m\" 200 -\n",
      "192.168.8.192 - - [10/Jul/2021 14:40:22] \"\u001b[37mPOST /_dash-update-component HTTP/1.1\u001b[0m\" 200 -\n",
      "192.168.8.192 - - [10/Jul/2021 14:40:22] \"\u001b[37mPOST /_dash-update-component HTTP/1.1\u001b[0m\" 204 -\n",
      "192.168.8.192 - - [10/Jul/2021 14:40:22] \"\u001b[37mPOST /_dash-update-component HTTP/1.1\u001b[0m\" 204 -\n",
      "192.168.8.192 - - [10/Jul/2021 14:40:22] \"\u001b[37mPOST /_dash-update-component HTTP/1.1\u001b[0m\" 200 -\n",
      "192.168.8.192 - - [10/Jul/2021 14:40:22] \"\u001b[37mPOST /_dash-update-component HTTP/1.1\u001b[0m\" 200 -\n",
      "192.168.8.192 - - [10/Jul/2021 14:40:22] \"\u001b[37mPOST /_dash-update-component HTTP/1.1\u001b[0m\" 200 -\n",
      "192.168.8.192 - - [10/Jul/2021 14:40:22] \"\u001b[37mPOST /_dash-update-component HTTP/1.1\u001b[0m\" 200 -\n",
      "192.168.8.192 - - [10/Jul/2021 14:40:22] \"\u001b[37mPOST /_dash-update-component HTTP/1.1\u001b[0m\" 200 -\n",
      "192.168.8.192 - - [10/Jul/2021 14:40:22] \"\u001b[37mPOST /_dash-update-component HTTP/1.1\u001b[0m\" 200 -\n",
      "192.168.8.192 - - [10/Jul/2021 14:40:22] \"\u001b[37mPOST /_dash-update-component HTTP/1.1\u001b[0m\" 200 -\n",
      "192.168.8.192 - - [10/Jul/2021 14:40:22] \"\u001b[37mPOST /_dash-update-component HTTP/1.1\u001b[0m\" 200 -\n",
      "192.168.8.192 - - [10/Jul/2021 14:40:22] \"\u001b[37mPOST /_dash-update-component HTTP/1.1\u001b[0m\" 200 -\n",
      "192.168.8.192 - - [10/Jul/2021 14:40:22] \"\u001b[37mPOST /_dash-update-component HTTP/1.1\u001b[0m\" 200 -\n",
      "192.168.8.192 - - [10/Jul/2021 14:40:22] \"\u001b[37mPOST /_dash-update-component HTTP/1.1\u001b[0m\" 200 -\n",
      "192.168.8.192 - - [10/Jul/2021 14:40:22] \"\u001b[37mPOST /_dash-update-component HTTP/1.1\u001b[0m\" 200 -\n",
      "192.168.8.192 - - [10/Jul/2021 14:40:22] \"\u001b[37mPOST /_dash-update-component HTTP/1.1\u001b[0m\" 200 -\n",
      "192.168.8.192 - - [10/Jul/2021 14:40:22] \"\u001b[37mPOST /_dash-update-component HTTP/1.1\u001b[0m\" 200 -\n",
      "192.168.8.192 - - [10/Jul/2021 14:40:22] \"\u001b[37mPOST /_dash-update-component HTTP/1.1\u001b[0m\" 200 -\n",
      "192.168.8.192 - - [10/Jul/2021 14:40:22] \"\u001b[37mPOST /_dash-update-component HTTP/1.1\u001b[0m\" 200 -\n",
      "192.168.8.192 - - [10/Jul/2021 14:40:22] \"\u001b[37mPOST /_dash-update-component HTTP/1.1\u001b[0m\" 200 -\n",
      "192.168.8.192 - - [10/Jul/2021 14:40:22] \"\u001b[37mPOST /_dash-update-component HTTP/1.1\u001b[0m\" 200 -\n",
      "192.168.8.192 - - [10/Jul/2021 14:40:23] \"\u001b[37mPOST /_dash-update-component HTTP/1.1\u001b[0m\" 200 -\n",
      "192.168.8.192 - - [10/Jul/2021 14:40:23] \"\u001b[37mPOST /_dash-update-component HTTP/1.1\u001b[0m\" 204 -\n",
      "192.168.8.192 - - [10/Jul/2021 14:40:23] \"\u001b[37mPOST /_dash-update-component HTTP/1.1\u001b[0m\" 200 -\n",
      "192.168.8.192 - - [10/Jul/2021 14:40:23] \"\u001b[37mPOST /_dash-update-component HTTP/1.1\u001b[0m\" 200 -\n",
      "192.168.8.192 - - [10/Jul/2021 14:40:23] \"\u001b[37mPOST /_dash-update-component HTTP/1.1\u001b[0m\" 204 -\n",
      "192.168.8.192 - - [10/Jul/2021 14:40:23] \"\u001b[37mPOST /_dash-update-component HTTP/1.1\u001b[0m\" 200 -\n",
      "192.168.8.192 - - [10/Jul/2021 14:40:23] \"\u001b[37mPOST /_dash-update-component HTTP/1.1\u001b[0m\" 200 -\n",
      "192.168.8.192 - - [10/Jul/2021 14:40:24] \"\u001b[37mPOST /_dash-update-component HTTP/1.1\u001b[0m\" 200 -\n",
      "192.168.8.192 - - [10/Jul/2021 14:40:24] \"\u001b[37mPOST /_dash-update-component HTTP/1.1\u001b[0m\" 200 -\n",
      "192.168.8.192 - - [10/Jul/2021 14:40:24] \"\u001b[37mPOST /_dash-update-component HTTP/1.1\u001b[0m\" 200 -\n",
      "192.168.8.192 - - [10/Jul/2021 14:40:24] \"\u001b[37mPOST /_dash-update-component HTTP/1.1\u001b[0m\" 200 -\n",
      "192.168.8.192 - - [10/Jul/2021 14:40:24] \"\u001b[37mPOST /_dash-update-component HTTP/1.1\u001b[0m\" 200 -\n",
      "192.168.8.192 - - [10/Jul/2021 14:40:24] \"\u001b[37mPOST /_dash-update-component HTTP/1.1\u001b[0m\" 200 -\n",
      "192.168.8.192 - - [10/Jul/2021 14:40:24] \"\u001b[37mPOST /_dash-update-component HTTP/1.1\u001b[0m\" 200 -\n",
      "192.168.8.192 - - [10/Jul/2021 14:40:24] \"\u001b[37mPOST /_dash-update-component HTTP/1.1\u001b[0m\" 200 -\n",
      "192.168.8.192 - - [10/Jul/2021 14:40:24] \"\u001b[37mPOST /_dash-update-component HTTP/1.1\u001b[0m\" 200 -\n",
      "192.168.8.192 - - [10/Jul/2021 14:40:24] \"\u001b[37mPOST /_dash-update-component HTTP/1.1\u001b[0m\" 200 -\n",
      "192.168.8.192 - - [10/Jul/2021 14:40:25] \"\u001b[37mPOST /_dash-update-component HTTP/1.1\u001b[0m\" 200 -\n",
      "192.168.8.192 - - [10/Jul/2021 14:40:25] \"\u001b[37mPOST /_dash-update-component HTTP/1.1\u001b[0m\" 200 -\n"
     ]
    }
   ],
   "source": [
    "# from sklearn.ensemble import RandomForestClassifier\n",
    "# from explainerdashboard import ClassifierExplainer, ExplainerDashboard, RegressionExplainer\n",
    "# X_train, X_test, y_train, y_test = train_test_split(X_new_df, y, test_size = 0.20)\n",
    "# model = RandomForestRegressor(n_estimators = 300, max_depth=4)\n",
    "# model.fit(X_train,y_train)\n",
    "model = pickle.load(open(\"RandomForestComboRoom\" +'.sav', 'rb'))\n",
    "feature_descriptions = {\n",
    "    \"interior_area\": \"Interior Area of the Apartment\",\n",
    "    \"gros_area\": \"Gross Area of the Apartment\",\n",
    "    \"bathrooms\": \"Number of bathrooms\",\n",
    "    \"room_combo\": \"Number of rooms, includes bedrooms and other rooms\"}\n",
    "\n",
    "explainer = RegressionExplainer(model, X_test, y_test, \n",
    "       descriptions=feature_descriptions,\n",
    "       index_name = \"propertiesid\"# defaults to None\n",
    "                                )\n",
    "explainer.dump(\"randomforest.joblib\")\n",
    "db = ExplainerDashboard(explainer).run()"
   ]
  },
  {
   "cell_type": "code",
   "execution_count": 68,
   "metadata": {
    "ExecuteTime": {
     "end_time": "2021-07-10T12:40:50.497139Z",
     "start_time": "2021-07-10T12:40:50.216952Z"
    }
   },
   "outputs": [
    {
     "name": "stdout",
     "output_type": "stream",
     "text": [
      "Building ExplainerDashboard..\n",
      "Detected notebook environment, consider setting mode='external', mode='inline' or mode='jupyterlab' to keep the notebook interactive while the dashboard is running...\n",
      "Warning: calculating shap interaction values can be slow! Pass shap_interaction=False to remove interactions tab.\n",
      "Generating layout...\n",
      "Calculating dependencies...\n",
      "Reminder: you can store the explainer (including calculated dependencies) with explainer.dump('explainer.joblib') and reload with e.g. ClassifierExplainer.from_file('explainer.joblib')\n",
      "Registering callbacks...\n",
      "Trying to shut down dashboard on port 8050...\n",
      "Something seems to have failed: HTTPConnectionPool(host='localhost', port=8050): Max retries exceeded with url: /_shutdown_a6e2ec07-157d-449e-843c-e5aa2dce60e7 (Caused by NewConnectionError('<urllib3.connection.HTTPConnection object at 0x7f2234da5640>: Failed to establish a new connection: [Errno 111] Connection refused'))\n"
     ]
    }
   ],
   "source": [
    "ExplainerDashboard(explainer).terminate(8050)"
   ]
  },
  {
   "cell_type": "code",
   "execution_count": 62,
   "metadata": {
    "ExecuteTime": {
     "end_time": "2021-07-10T12:38:35.394789Z",
     "start_time": "2021-07-10T12:38:35.360965Z"
    }
   },
   "outputs": [],
   "source": [
    "save_model(model, \"RandomForestComboRoom\")"
   ]
  },
  {
   "cell_type": "code",
   "execution_count": 229,
   "metadata": {
    "ExecuteTime": {
     "end_time": "2021-06-12T11:00:14.488685Z",
     "start_time": "2021-06-12T11:00:14.484322Z"
    }
   },
   "outputs": [],
   "source": [
    "# predict_df = pd.DataFrame(data=[{'interior_area':70, 'gros_area':78,'bathrooms':1, 'rooms':2}])\n",
    "# predict(predict_df,'scaler','rfr')"
   ]
  },
  {
   "cell_type": "markdown",
   "metadata": {},
   "source": [
    "# ExplainerDashboard XGBRegressor"
   ]
  },
  {
   "cell_type": "code",
   "execution_count": 28,
   "metadata": {
    "ExecuteTime": {
     "end_time": "2021-06-12T18:10:06.902506Z",
     "start_time": "2021-06-12T18:09:58.738673Z"
    },
    "scrolled": true
   },
   "outputs": [
    {
     "name": "stdout",
     "output_type": "stream",
     "text": [
      "[20:09:58] WARNING: ../src/objective/regression_obj.cu:170: reg:linear is now deprecated in favor of reg:squarederror.\n",
      "[20:09:58] WARNING: ../src/learner.cc:541: \n",
      "Parameters: { silent } might not be used.\n",
      "\n",
      "  This may not be accurate due to some parameters are only used in language bindings but\n",
      "  passed down to XGBoost core.  Or some parameters are not used but slip through this\n",
      "  verification. Please open an issue if you find above cases.\n",
      "\n",
      "\n",
      "Changing class type to XGBRegressionExplainer...\n",
      "Generating self.shap_explainer = shap.TreeExplainer(model)\n",
      "Building ExplainerDashboard..\n",
      "Detected notebook environment, consider setting mode='external', mode='inline' or mode='jupyterlab' to keep the notebook interactive while the dashboard is running...\n",
      "Warning: calculating shap interaction values can be slow! Pass shap_interaction=False to remove interactions tab.\n",
      "Generating layout...\n",
      "Calculating shap values...\n",
      "Calculating predictions...\n",
      "Calculating residuals...\n",
      "Calculating absolute residuals...\n",
      "Generating xgboost model dump...\n",
      "Calculating dependencies...\n",
      "Calculating importances...\n",
      "Calculating shap interaction values...\n",
      "Reminder: TreeShap computational complexity is O(TLD^2), where T is the number of trees, L is the maximum number of leaves in any tree and D the maximal depth of any tree. So reducing these will speed up the calculation.\n",
      "Calculating ShadowDecTree for each individual decision tree...\n",
      "Reminder: you can store the explainer (including calculated dependencies) with explainer.dump('explainer.joblib') and reload with e.g. ClassifierExplainer.from_file('explainer.joblib')\n",
      "Registering callbacks...\n",
      "Starting ExplainerDashboard on http://192.168.1.225:8050\n",
      "Dash is running on http://0.0.0.0:8050/\n",
      "\n",
      "Dash is running on http://0.0.0.0:8050/\n",
      "\n",
      "Dash is running on http://0.0.0.0:8050/\n",
      "\n",
      "Dash is running on http://0.0.0.0:8050/\n",
      "\n",
      "Dash is running on http://0.0.0.0:8050/\n",
      "\n",
      " * Serving Flask app \"explainerdashboard.dashboards\" (lazy loading)\n",
      " * Environment: production\n",
      "\u001b[31m   WARNING: This is a development server. Do not use it in a production deployment.\u001b[0m\n",
      "\u001b[2m   Use a production WSGI server instead.\u001b[0m\n",
      " * Debug mode: off\n"
     ]
    },
    {
     "name": "stderr",
     "output_type": "stream",
     "text": [
      " * Running on http://0.0.0.0:8050/ (Press CTRL+C to quit)\n"
     ]
    }
   ],
   "source": [
    "\n",
    "X_train, X_test, y_train, y_test = train_test_split(X_new_df, y, test_size = 0.20)\n",
    "model = XGBRegressor(colsample_bytree= 0.7, learning_rate= 0.03, max_depth= 5, min_child_weight= 4, n_estimators= 500, nthread= 4, objective= 'reg:linear', silent= 1, subsample= 0.7)\n",
    "model.fit(X_train,y_train)\n",
    "feature_descriptions = {\n",
    "    \"interior_area\": \"Interior Area of the Apartment\",\n",
    "    \"gros_area\": \"Gross Area of the Apartment\",\n",
    "    \"bathrooms\": \"Number of bathrooms\",\n",
    "    \"rooms\": \"Number of rooms, includes bedrooms and other rooms\"}\n",
    "\n",
    "explainer = RegressionExplainer(model, X_test, y_test, \n",
    "       descriptions=feature_descriptions,\n",
    "       index_name = \"propertiesid\"# defaults to None\n",
    "                                )\n",
    "explainer.dump(\"xgbregressor.joblib\")\n",
    "db = ExplainerDashboard(explainer).run()"
   ]
  },
  {
   "cell_type": "code",
   "execution_count": null,
   "metadata": {
    "ExecuteTime": {
     "start_time": "2021-06-16T21:38:48.315Z"
    }
   },
   "outputs": [],
   "source": [
    "# Importing the packages that we will use\n",
    "import lazypredict\n",
    "from lazypredict.Supervised import LazyRegressor\n",
    "# Running all the models\n",
    "# clf = LazyRegressor(verbose=0,ignore_warnings=True)\n",
    "# models, predictions = clf.fit(X_train, X_test, y_train, y_test)\n",
    "# models"
   ]
  }
 ],
 "metadata": {
  "hide_input": false,
  "kernelspec": {
   "display_name": "Python 3",
   "language": "python",
   "name": "python3"
  },
  "language_info": {
   "codemirror_mode": {
    "name": "ipython",
    "version": 3
   },
   "file_extension": ".py",
   "mimetype": "text/x-python",
   "name": "python",
   "nbconvert_exporter": "python",
   "pygments_lexer": "ipython3",
   "version": "3.8.10"
  },
  "toc": {
   "base_numbering": 1,
   "nav_menu": {},
   "number_sections": true,
   "sideBar": true,
   "skip_h1_title": false,
   "title_cell": "Table of Contents",
   "title_sidebar": "Contents",
   "toc_cell": false,
   "toc_position": {},
   "toc_section_display": true,
   "toc_window_display": false
  }
 },
 "nbformat": 4,
 "nbformat_minor": 4
}
