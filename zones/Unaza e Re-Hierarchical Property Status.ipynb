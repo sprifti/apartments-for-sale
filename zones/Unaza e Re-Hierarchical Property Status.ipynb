{
 "cells": [
  {
   "cell_type": "code",
   "execution_count": 8,
   "metadata": {
    "ExecuteTime": {
     "end_time": "2021-07-10T11:51:25.917563Z",
     "start_time": "2021-07-10T11:51:25.895531Z"
    }
   },
   "outputs": [
    {
     "data": {
      "text/html": [
       "<style>.container { width:100% !important; }</style>"
      ],
      "text/plain": [
       "<IPython.core.display.HTML object>"
      ]
     },
     "metadata": {},
     "output_type": "display_data"
    },
    {
     "data": {
      "text/html": [
       "<style>.container { width:100% !important; }</style>"
      ],
      "text/plain": [
       "<IPython.core.display.HTML object>"
      ]
     },
     "metadata": {},
     "output_type": "display_data"
    }
   ],
   "source": [
    "import numpy as np # linear algebra\n",
    "import pandas as pd # data processing, CSV file I/O (e.g. pd.read_csv)\n",
    "import matplotlib.pyplot as plt\n",
    "from sklearn import preprocessing\n",
    "from sklearn import metrics\n",
    "from datetime import datetime as dt, timedelta\n",
    "from pandas_profiling import ProfileReport\n",
    "plt.figure(num=None, figsize=(10, 8), dpi=80, facecolor='w', edgecolor='k')\n",
    "import seaborn as sns; sns.set()  # for plot styling\n",
    "from sklearn.pipeline import Pipeline\n",
    "import plotly.graph_objects as go\n",
    "import datetime\n",
    "%matplotlib inline\n",
    "from IPython.core.display import display, HTML\n",
    "display(HTML(\"<style>.container { width:100% !important; }</style>\"))\n",
    "import warnings\n",
    "warnings.filterwarnings('ignore')\n",
    "from sklearn import preprocessing\n",
    "display(HTML(\"<style>.container { width:100% !important; }</style>\"))\n",
    "from plotly.subplots import make_subplots\n",
    "import plotly.express as px\n",
    "from statsmodels.tsa.stattools import adfuller\n",
    "from sklearn.metrics import mean_squared_error,r2_score\n",
    "import math\n",
    "from sklearn.model_selection import train_test_split\n",
    "import xlsxwriter\n",
    "from numpy import asarray\n",
    "from numpy import mean\n",
    "from numpy import std\n",
    "from sklearn.datasets import make_regression\n",
    "from xgboost import XGBRegressor\n",
    "from sklearn.model_selection import cross_val_score\n",
    "from sklearn.model_selection import RepeatedKFold\n",
    "from matplotlib import pyplot\n",
    "from openpyxl import load_workbook\n",
    "from xgboost import XGBRegressor\n",
    "from sklearn.model_selection import cross_val_score\n",
    "from sklearn.model_selection import RepeatedKFold\n",
    "from sklearn.model_selection import GridSearchCV\n",
    "from sklearn.preprocessing import StandardScaler, RobustScaler\n",
    "import pickle\n",
    "from sklearn.ensemble import RandomForestRegressor\n",
    "# writer = pd.ExcelWriter('output.xlsx', engine = 'xlsxwriter')\n",
    "import gspread\n",
    "from oauth2client.service_account import ServiceAccountCredentials\n",
    "import gspread_dataframe as gd\n",
    "SCOPE = ['https://www.googleapis.com/auth/drive']\n",
    "CREDENTIALS = ServiceAccountCredentials.from_json_keyfile_name('../expanded-bonbon-239019-ed390949c71b.json', SCOPE)"
   ]
  },
  {
   "cell_type": "code",
   "execution_count": 2,
   "metadata": {
    "ExecuteTime": {
     "end_time": "2021-06-12T17:30:31.916156Z",
     "start_time": "2021-06-12T17:30:31.912750Z"
    }
   },
   "outputs": [],
   "source": [
    "def save_model(model, file):\n",
    "    filename = file + '.sav'\n",
    "    pickle.dump(model, open(filename, 'wb'))"
   ]
  },
  {
   "cell_type": "code",
   "execution_count": 3,
   "metadata": {
    "ExecuteTime": {
     "end_time": "2021-06-12T17:30:31.934558Z",
     "start_time": "2021-06-12T17:30:31.919270Z"
    }
   },
   "outputs": [],
   "source": [
    "def plot_results(y_test, predicted, name):\n",
    "    \n",
    "    df = pd.DataFrame({'Actual': y_test, 'Predicted': predicted})\n",
    "    df.to_excel(\"output.xlsx\", sheet_name=name)  \n",
    "    df1 = df.head(50)\n",
    "    df1.plot(kind='bar',figsize=(20,12))\n",
    "    plt.grid(which='major', linestyle='-', linewidth='0.5', color='green')\n",
    "    plt.grid(which='minor', linestyle=':', linewidth='0.5', color='black')\n",
    "    return df"
   ]
  },
  {
   "cell_type": "code",
   "execution_count": 4,
   "metadata": {
    "ExecuteTime": {
     "end_time": "2021-06-12T17:30:32.645209Z",
     "start_time": "2021-06-12T17:30:32.640228Z"
    }
   },
   "outputs": [],
   "source": [
    "def predict(predict_df, scaler, model):\n",
    "    scaler = pickle.load(open('../models/'+ scaler +'.sav', 'rb'))\n",
    "    predict_df_scaled = scaler.transform(predict_df)\n",
    "    predict_df_scaled = pd.DataFrame(data=predict_df_scaled, columns=[predict_df.columns])\n",
    "    # predict_df_scaled\n",
    "    xgb = pickle.load(open('../models/'+ model +'.sav', 'rb'))\n",
    "    predicted = xgb.predict(predict_df_scaled)\n",
    "    print(predicted)"
   ]
  },
  {
   "cell_type": "code",
   "execution_count": 54,
   "metadata": {
    "ExecuteTime": {
     "end_time": "2021-07-10T12:10:18.611781Z",
     "start_time": "2021-07-10T12:10:18.604307Z"
    }
   },
   "outputs": [],
   "source": [
    "%store -r unaza_e_re_new\n",
    "%store -r unaza_e_re\n",
    "unaza_e_re_df = unaza_e_re.copy()"
   ]
  },
  {
   "cell_type": "markdown",
   "metadata": {},
   "source": [
    "# Scaling"
   ]
  },
  {
   "cell_type": "code",
   "execution_count": 62,
   "metadata": {
    "ExecuteTime": {
     "end_time": "2021-06-12T12:13:46.770496Z",
     "start_time": "2021-06-12T12:13:46.768268Z"
    }
   },
   "outputs": [],
   "source": [
    "# unaza_e_re_df.property_status.loc[unaza_e_re_df.property_status.isin(['Under Construction'])].count()\n",
    "# unaza_e_re_df.property_status.unique()\n",
    "# unaza_e_re_df.property_status[unaza_e_re_df.property_status == \"Not Applicable\"] = \"\"\n",
    "# from sklearn.preprocessing import SimpleImputer\n",
    "# imp = SimpleImputer(missing_values='NaN', strategy='most_frequent', axis=0)\n",
    "# unaza_e_re_df.property_status[unaza_e_re_df.property_status == \"Not Applicable\"] = \"\"\n",
    "# from sklearn.preprocessing import SimpleImputer\n",
    "# imp = SimpleImputer(missing_values='NaN', strategy='most_frequent', axis=0)"
   ]
  },
  {
   "cell_type": "code",
   "execution_count": 55,
   "metadata": {
    "ExecuteTime": {
     "end_time": "2021-07-10T12:10:22.556913Z",
     "start_time": "2021-07-10T12:10:22.529087Z"
    }
   },
   "outputs": [
    {
     "data": {
      "text/html": [
       "<div>\n",
       "<style scoped>\n",
       "    .dataframe tbody tr th:only-of-type {\n",
       "        vertical-align: middle;\n",
       "    }\n",
       "\n",
       "    .dataframe tbody tr th {\n",
       "        vertical-align: top;\n",
       "    }\n",
       "\n",
       "    .dataframe thead th {\n",
       "        text-align: right;\n",
       "    }\n",
       "</style>\n",
       "<table border=\"1\" class=\"dataframe\">\n",
       "  <thead>\n",
       "    <tr style=\"text-align: right;\">\n",
       "      <th></th>\n",
       "      <th>propertiesid</th>\n",
       "      <th>property_status</th>\n",
       "      <th>price</th>\n",
       "      <th>interior_area</th>\n",
       "      <th>gros_area</th>\n",
       "      <th>bathrooms</th>\n",
       "      <th>rooms</th>\n",
       "    </tr>\n",
       "  </thead>\n",
       "  <tbody>\n",
       "    <tr>\n",
       "      <th>19641</th>\n",
       "      <td>4919</td>\n",
       "      <td>2</td>\n",
       "      <td>65000.0</td>\n",
       "      <td>119.0</td>\n",
       "      <td>119.0</td>\n",
       "      <td>2.0</td>\n",
       "      <td>2.0</td>\n",
       "    </tr>\n",
       "    <tr>\n",
       "      <th>19650</th>\n",
       "      <td>4898</td>\n",
       "      <td>0</td>\n",
       "      <td>41000.0</td>\n",
       "      <td>75.0</td>\n",
       "      <td>75.0</td>\n",
       "      <td>1.0</td>\n",
       "      <td>1.0</td>\n",
       "    </tr>\n",
       "    <tr>\n",
       "      <th>19686</th>\n",
       "      <td>4844</td>\n",
       "      <td>0</td>\n",
       "      <td>46000.0</td>\n",
       "      <td>70.0</td>\n",
       "      <td>70.0</td>\n",
       "      <td>1.0</td>\n",
       "      <td>1.0</td>\n",
       "    </tr>\n",
       "    <tr>\n",
       "      <th>13781</th>\n",
       "      <td>28834</td>\n",
       "      <td>2</td>\n",
       "      <td>55000.0</td>\n",
       "      <td>61.0</td>\n",
       "      <td>61.0</td>\n",
       "      <td>1.0</td>\n",
       "      <td>1.0</td>\n",
       "    </tr>\n",
       "    <tr>\n",
       "      <th>11496</th>\n",
       "      <td>425921</td>\n",
       "      <td>1</td>\n",
       "      <td>100000.0</td>\n",
       "      <td>114.0</td>\n",
       "      <td>114.0</td>\n",
       "      <td>2.0</td>\n",
       "      <td>2.0</td>\n",
       "    </tr>\n",
       "    <tr>\n",
       "      <th>...</th>\n",
       "      <td>...</td>\n",
       "      <td>...</td>\n",
       "      <td>...</td>\n",
       "      <td>...</td>\n",
       "      <td>...</td>\n",
       "      <td>...</td>\n",
       "      <td>...</td>\n",
       "    </tr>\n",
       "    <tr>\n",
       "      <th>17373</th>\n",
       "      <td>13090</td>\n",
       "      <td>2</td>\n",
       "      <td>66960.0</td>\n",
       "      <td>108.0</td>\n",
       "      <td>108.0</td>\n",
       "      <td>2.0</td>\n",
       "      <td>2.0</td>\n",
       "    </tr>\n",
       "    <tr>\n",
       "      <th>11572</th>\n",
       "      <td>403397</td>\n",
       "      <td>1</td>\n",
       "      <td>72000.0</td>\n",
       "      <td>90.0</td>\n",
       "      <td>90.0</td>\n",
       "      <td>2.0</td>\n",
       "      <td>2.0</td>\n",
       "    </tr>\n",
       "    <tr>\n",
       "      <th>17374</th>\n",
       "      <td>13089</td>\n",
       "      <td>2</td>\n",
       "      <td>45500.0</td>\n",
       "      <td>73.0</td>\n",
       "      <td>73.0</td>\n",
       "      <td>1.0</td>\n",
       "      <td>1.0</td>\n",
       "    </tr>\n",
       "    <tr>\n",
       "      <th>18158</th>\n",
       "      <td>10190</td>\n",
       "      <td>2</td>\n",
       "      <td>46600.0</td>\n",
       "      <td>78.0</td>\n",
       "      <td>78.0</td>\n",
       "      <td>1.0</td>\n",
       "      <td>2.0</td>\n",
       "    </tr>\n",
       "    <tr>\n",
       "      <th>19368</th>\n",
       "      <td>5493</td>\n",
       "      <td>2</td>\n",
       "      <td>63000.0</td>\n",
       "      <td>103.0</td>\n",
       "      <td>103.0</td>\n",
       "      <td>1.0</td>\n",
       "      <td>2.0</td>\n",
       "    </tr>\n",
       "  </tbody>\n",
       "</table>\n",
       "<p>939 rows × 7 columns</p>\n",
       "</div>"
      ],
      "text/plain": [
       "       propertiesid  property_status     price  interior_area  gros_area  \\\n",
       "19641          4919                2   65000.0          119.0      119.0   \n",
       "19650          4898                0   41000.0           75.0       75.0   \n",
       "19686          4844                0   46000.0           70.0       70.0   \n",
       "13781         28834                2   55000.0           61.0       61.0   \n",
       "11496        425921                1  100000.0          114.0      114.0   \n",
       "...             ...              ...       ...            ...        ...   \n",
       "17373         13090                2   66960.0          108.0      108.0   \n",
       "11572        403397                1   72000.0           90.0       90.0   \n",
       "17374         13089                2   45500.0           73.0       73.0   \n",
       "18158         10190                2   46600.0           78.0       78.0   \n",
       "19368          5493                2   63000.0          103.0      103.0   \n",
       "\n",
       "       bathrooms  rooms  \n",
       "19641        2.0    2.0  \n",
       "19650        1.0    1.0  \n",
       "19686        1.0    1.0  \n",
       "13781        1.0    1.0  \n",
       "11496        2.0    2.0  \n",
       "...          ...    ...  \n",
       "17373        2.0    2.0  \n",
       "11572        2.0    2.0  \n",
       "17374        1.0    1.0  \n",
       "18158        1.0    2.0  \n",
       "19368        1.0    2.0  \n",
       "\n",
       "[939 rows x 7 columns]"
      ]
     },
     "execution_count": 55,
     "metadata": {},
     "output_type": "execute_result"
    }
   ],
   "source": [
    "from sklearn.preprocessing import LabelEncoder\n",
    "prp_le = LabelEncoder()\n",
    "unaza_e_re_df.property_status[unaza_e_re_df.property_status == \"Under Construction\"] = \"Used\"\n",
    "unaza_e_re_df.property_status[unaza_e_re_df.property_status == \"\"] = \"Used\"\n",
    "condition = {\"Used\":0, \"New\":1}\n",
    "unaza_e_re_df[\"property_status\"] = prp_le.fit_transform(unaza_e_re_df[\"property_status\"])\n",
    "unaza_e_re_df"
   ]
  },
  {
   "cell_type": "code",
   "execution_count": 45,
   "metadata": {
    "ExecuteTime": {
     "end_time": "2021-07-10T12:03:03.439248Z",
     "start_time": "2021-07-10T12:03:03.419470Z"
    }
   },
   "outputs": [],
   "source": [
    "# from sklearn.preprocessing import StandardScaler, RobustScaler\n",
    "\n",
    "# scaler = RobustScaler()\n",
    "\n",
    "# X = unaza_e_re_df.drop(['price','propertiesid'],1)\n",
    "\n",
    "# y = unaza_e_re_df['price']\n",
    "# columns = X.columns \n",
    "\n",
    "# scaler = scaler.fit(X)\n",
    "# # save_model(scaler, '../models/scaler')\n",
    "# X = scaler.transform(X)\n",
    "# X = pd.DataFrame(X, columns=[columns])\n",
    "# # X_train\n",
    "# X_train, X_test, y_train, y_test = train_test_split(X, y, test_size = 0.20)"
   ]
  },
  {
   "cell_type": "markdown",
   "metadata": {
    "ExecuteTime": {
     "end_time": "2021-06-06T20:42:19.813780Z",
     "start_time": "2021-06-06T20:42:19.811556Z"
    }
   },
   "source": [
    "# XGBoost"
   ]
  },
  {
   "cell_type": "markdown",
   "metadata": {},
   "source": [
    "## GridSearch"
   ]
  },
  {
   "cell_type": "code",
   "execution_count": 8,
   "metadata": {
    "ExecuteTime": {
     "end_time": "2021-06-12T09:33:56.898792Z",
     "start_time": "2021-06-12T09:33:56.873478Z"
    }
   },
   "outputs": [],
   "source": [
    "# xgb1 = XGBRegressor()\n",
    "# parameters = {'nthread':[4], #when use hyperthread, xgboost may become slower\n",
    "#               'objective':['reg:linear'],\n",
    "#               'learning_rate': [.03, 0.05, .07], #so called `eta` value\n",
    "#               'max_depth': [5, 6, 7],\n",
    "#               'min_child_weight': [4],\n",
    "#               'silent': [1],\n",
    "#               'subsample': [0.7],\n",
    "#               'colsample_bytree': [0.7],\n",
    "#               'n_estimators': [500]}\n",
    "\n",
    "# xgb_grid = GridSearchCV(xgb1,\n",
    "#                         parameters,\n",
    "#                         cv = 2,\n",
    "#                         n_jobs = 5,\n",
    "#                         verbose=True)\n",
    "\n",
    "# xgb_grid.fit(X_train, y_train)\n",
    "\n",
    "# print(xgb_grid.best_score_)\n",
    "# print(xgb_grid.best_params_)"
   ]
  },
  {
   "cell_type": "markdown",
   "metadata": {},
   "source": [
    "## CrossFold Validation"
   ]
  },
  {
   "cell_type": "code",
   "execution_count": 9,
   "metadata": {
    "ExecuteTime": {
     "end_time": "2021-06-12T09:33:56.929592Z",
     "start_time": "2021-06-12T09:33:56.901503Z"
    }
   },
   "outputs": [],
   "source": [
    "# model = XGBRegressor(colsample_bytree= 0.7, learning_rate= 0.03, max_depth= 5, min_child_weight= 4, n_estimators= 500, nthread= 4, objective= 'reg:linear', silent= 1, subsample= 0.7)\n",
    "# cv = RepeatedKFold(n_splits=10, n_repeats=3, random_state=1)\n",
    "# n_scores = cross_val_score(model, X, y, scoring='neg_mean_absolute_error', cv=cv, n_jobs=-1, error_score='raise')\n",
    "# print('MAE: %.3f (%.3f)' % (mean(n_scores), std(n_scores)))"
   ]
  },
  {
   "cell_type": "code",
   "execution_count": 14,
   "metadata": {
    "ExecuteTime": {
     "end_time": "2021-07-10T11:53:23.302342Z",
     "start_time": "2021-07-10T11:53:23.296610Z"
    }
   },
   "outputs": [],
   "source": [
    "# model = XGBRegressor(colsample_bytree= 0.7, learning_rate= 0.03, max_depth= 5, min_child_weight= 4, n_estimators= 500, nthread= 4, objective= 'reg:linear', silent= 1, subsample= 0.7)\n",
    "# model.fit(X_train, y_train)\n",
    "# save_model(model, \"../models/xgbregressor\")"
   ]
  },
  {
   "cell_type": "code",
   "execution_count": 15,
   "metadata": {
    "ExecuteTime": {
     "end_time": "2021-07-10T11:53:23.320393Z",
     "start_time": "2021-07-10T11:53:23.307548Z"
    },
    "scrolled": true
   },
   "outputs": [],
   "source": [
    "# predicted = model.predict(X_test)\n",
    "# print('R Squared:', metrics.r2_score(y_test, predicted))\n",
    "# print('Mean Absolute Error:', metrics.mean_absolute_error(y_test, predicted))  \n",
    "# print('Mean Squared Error:', metrics.mean_squared_error(y_test, predicted))  \n",
    "# print('Root Mean Squared Error:', np.sqrt(metrics.mean_squared_error(y_test, predicted)))"
   ]
  },
  {
   "cell_type": "code",
   "execution_count": 16,
   "metadata": {
    "ExecuteTime": {
     "end_time": "2021-07-10T11:53:23.338489Z",
     "start_time": "2021-07-10T11:53:23.324830Z"
    }
   },
   "outputs": [],
   "source": [
    "# predict_df = pd.DataFrame(data=[{'interior_area':70, 'gros_area':78,'bathrooms':1, 'rooms':2}])\n",
    "# predict(predict_df,'scaler','xgbregressor')"
   ]
  },
  {
   "cell_type": "markdown",
   "metadata": {},
   "source": [
    "# Scaling Data"
   ]
  },
  {
   "cell_type": "code",
   "execution_count": 56,
   "metadata": {
    "ExecuteTime": {
     "end_time": "2021-07-10T12:10:26.263033Z",
     "start_time": "2021-07-10T12:10:26.246658Z"
    }
   },
   "outputs": [],
   "source": [
    "scaler = RobustScaler()\n",
    "\n",
    "X = unaza_e_re_df.drop('price',1)\n",
    "y = unaza_e_re_df['price']\n",
    "\n",
    "columns = ['property_status','interior_area', 'gros_area', 'bathrooms','rooms']\n",
    "X.set_index('propertiesid', inplace=True)\n",
    "scaler = scaler.fit(X)\n",
    "# save_model(scaler, '../models/scaler')\n",
    "X_scaled = scaler.transform(X)\n",
    "\n",
    "X_df = pd.DataFrame(X_scaled, columns=columns)\n",
    "\n",
    "X.reset_index(inplace=True)\n",
    "properties = X[['propertiesid']]\n",
    "X_new_df = properties.merge(X_df, left_index=True, right_index=True)\n",
    "X_new_df.set_index('propertiesid', inplace=True)"
   ]
  },
  {
   "cell_type": "markdown",
   "metadata": {},
   "source": [
    "# Random Forest Regressor"
   ]
  },
  {
   "cell_type": "code",
   "execution_count": 38,
   "metadata": {
    "ExecuteTime": {
     "end_time": "2021-07-10T12:02:29.822123Z",
     "start_time": "2021-07-10T12:02:29.819361Z"
    }
   },
   "outputs": [],
   "source": [
    "# parameters = {\n",
    "#     'n_estimators': [100, 150, 200, 250, 300],\n",
    "#     'max_depth': [1,2,3,4],\n",
    "# }\n",
    "# regr = RandomForestRegressor(random_state=0)\n",
    "\n",
    "# clf = GridSearchCV(regr, parameters)\n",
    "# clf.fit(X_train, y_train)\n",
    "\n",
    "# print(clf.best_score_)\n",
    "# print(clf.best_params_)"
   ]
  },
  {
   "cell_type": "code",
   "execution_count": 39,
   "metadata": {
    "ExecuteTime": {
     "end_time": "2021-07-10T12:02:30.864987Z",
     "start_time": "2021-07-10T12:02:30.859482Z"
    }
   },
   "outputs": [],
   "source": [
    "# model_rfr = RandomForestRegressor(n_estimators = 100, max_depth=4)\n",
    "# model_rfr.fit(X_train, y_train)\n",
    "# predicted_rfr = model_rfr.predict(X_test)\n",
    "# # save_model(model_rfr, \"../models/rfr\")"
   ]
  },
  {
   "cell_type": "code",
   "execution_count": 40,
   "metadata": {
    "ExecuteTime": {
     "end_time": "2021-07-10T12:02:31.443526Z",
     "start_time": "2021-07-10T12:02:31.440817Z"
    }
   },
   "outputs": [],
   "source": [
    "# predicted = model_rfr.predict(X_test)\n",
    "# print('R Squared:', metrics.r2_score(y_test, predicted))\n",
    "# print('Mean Absolute Error:', metrics.mean_absolute_error(y_test, predicted))  \n",
    "# print('Mean Squared Error:', metrics.mean_squared_error(y_test, predicted))  \n",
    "# print('Root Mean Squared Error:', np.sqrt(metrics.mean_squared_error(y_test, predicted)))"
   ]
  },
  {
   "cell_type": "code",
   "execution_count": 57,
   "metadata": {
    "ExecuteTime": {
     "end_time": "2021-07-10T12:28:12.022068Z",
     "start_time": "2021-07-10T12:10:28.771787Z"
    },
    "scrolled": true
   },
   "outputs": [
    {
     "name": "stdout",
     "output_type": "stream",
     "text": [
      "Changing class type to RandomForestRegressionExplainer...\n",
      "Generating self.shap_explainer = shap.TreeExplainer(model)\n",
      "Building ExplainerDashboard..\n",
      "Detected notebook environment, consider setting mode='external', mode='inline' or mode='jupyterlab' to keep the notebook interactive while the dashboard is running...\n",
      "Warning: calculating shap interaction values can be slow! Pass shap_interaction=False to remove interactions tab.\n",
      "Generating layout...\n",
      "Calculating shap values...\n",
      "Calculating predictions...\n",
      "Calculating residuals...\n",
      "Calculating absolute residuals...\n",
      "Calculating dependencies...\n",
      "Calculating importances...\n",
      "Calculating shap interaction values...\n",
      "Reminder: TreeShap computational complexity is O(TLD^2), where T is the number of trees, L is the maximum number of leaves in any tree and D the maximal depth of any tree. So reducing these will speed up the calculation.\n",
      "Calculating ShadowDecTree for each individual decision tree...\n",
      "Reminder: you can store the explainer (including calculated dependencies) with explainer.dump('explainer.joblib') and reload with e.g. ClassifierExplainer.from_file('explainer.joblib')\n",
      "Registering callbacks...\n",
      "Starting ExplainerDashboard on http://192.168.8.192:8050\n",
      "Dash is running on http://0.0.0.0:8050/\n",
      "\n",
      "Dash is running on http://0.0.0.0:8050/\n",
      "\n",
      "Dash is running on http://0.0.0.0:8050/\n",
      "\n",
      "Dash is running on http://0.0.0.0:8050/\n",
      "\n",
      "Dash is running on http://0.0.0.0:8050/\n",
      "\n",
      "Dash is running on http://0.0.0.0:8050/\n",
      "\n",
      "Dash is running on http://0.0.0.0:8050/\n",
      "\n",
      "Dash is running on http://0.0.0.0:8050/\n",
      "\n",
      "Dash is running on http://0.0.0.0:8050/\n",
      "\n",
      "Dash is running on http://0.0.0.0:8050/\n",
      "\n",
      "Dash is running on http://0.0.0.0:8050/\n",
      "\n",
      "Dash is running on http://0.0.0.0:8050/\n",
      "\n",
      "Dash is running on http://0.0.0.0:8050/\n",
      "\n",
      "Dash is running on http://0.0.0.0:8050/\n",
      "\n",
      "Dash is running on http://0.0.0.0:8050/\n",
      "\n",
      "Dash is running on http://0.0.0.0:8050/\n",
      "\n",
      "Dash is running on http://0.0.0.0:8050/\n",
      "\n",
      " * Serving Flask app \"explainerdashboard.dashboards\" (lazy loading)\n",
      " * Environment: production\n",
      "\u001b[31m   WARNING: This is a development server. Do not use it in a production deployment.\u001b[0m\n",
      "\u001b[2m   Use a production WSGI server instead.\u001b[0m\n",
      " * Debug mode: off\n"
     ]
    },
    {
     "name": "stderr",
     "output_type": "stream",
     "text": [
      " * Running on http://0.0.0.0:8050/ (Press CTRL+C to quit)\n",
      "192.168.8.192 - - [10/Jul/2021 14:10:31] \"\u001b[37mGET / HTTP/1.1\u001b[0m\" 200 -\n",
      "192.168.8.192 - - [10/Jul/2021 14:10:31] \"\u001b[37mGET /_dash-dependencies HTTP/1.1\u001b[0m\" 200 -\n",
      "192.168.8.192 - - [10/Jul/2021 14:10:31] \"\u001b[37mGET /_dash-layout HTTP/1.1\u001b[0m\" 200 -\n",
      "192.168.8.192 - - [10/Jul/2021 14:10:31] \"\u001b[37mPOST /_dash-update-component HTTP/1.1\u001b[0m\" 200 -\n",
      "192.168.8.192 - - [10/Jul/2021 14:10:31] \"\u001b[37mPOST /_dash-update-component HTTP/1.1\u001b[0m\" 200 -\n",
      "192.168.8.192 - - [10/Jul/2021 14:10:31] \"\u001b[37mPOST /_dash-update-component HTTP/1.1\u001b[0m\" 200 -\n",
      "192.168.8.192 - - [10/Jul/2021 14:10:31] \"\u001b[37mPOST /_dash-update-component HTTP/1.1\u001b[0m\" 200 -\n",
      "192.168.8.192 - - [10/Jul/2021 14:10:31] \"\u001b[37mPOST /_dash-update-component HTTP/1.1\u001b[0m\" 200 -\n",
      "192.168.8.192 - - [10/Jul/2021 14:10:32] \"\u001b[37mPOST /_dash-update-component HTTP/1.1\u001b[0m\" 200 -\n",
      "192.168.8.192 - - [10/Jul/2021 14:10:32] \"\u001b[37mPOST /_dash-update-component HTTP/1.1\u001b[0m\" 200 -\n",
      "192.168.8.192 - - [10/Jul/2021 14:10:32] \"\u001b[37mPOST /_dash-update-component HTTP/1.1\u001b[0m\" 200 -\n",
      "192.168.8.192 - - [10/Jul/2021 14:10:32] \"\u001b[37mPOST /_dash-update-component HTTP/1.1\u001b[0m\" 200 -\n",
      "192.168.8.192 - - [10/Jul/2021 14:10:32] \"\u001b[37mPOST /_dash-update-component HTTP/1.1\u001b[0m\" 200 -\n",
      "192.168.8.192 - - [10/Jul/2021 14:10:32] \"\u001b[37mPOST /_dash-update-component HTTP/1.1\u001b[0m\" 200 -\n",
      "192.168.8.192 - - [10/Jul/2021 14:10:32] \"\u001b[37mPOST /_dash-update-component HTTP/1.1\u001b[0m\" 200 -\n",
      "192.168.8.192 - - [10/Jul/2021 14:10:32] \"\u001b[37mPOST /_dash-update-component HTTP/1.1\u001b[0m\" 200 -\n",
      "192.168.8.192 - - [10/Jul/2021 14:10:32] \"\u001b[37mPOST /_dash-update-component HTTP/1.1\u001b[0m\" 200 -\n",
      "192.168.8.192 - - [10/Jul/2021 14:10:32] \"\u001b[37mPOST /_dash-update-component HTTP/1.1\u001b[0m\" 200 -\n",
      "192.168.8.192 - - [10/Jul/2021 14:10:32] \"\u001b[37mPOST /_dash-update-component HTTP/1.1\u001b[0m\" 200 -\n",
      "192.168.8.192 - - [10/Jul/2021 14:10:32] \"\u001b[37mPOST /_dash-update-component HTTP/1.1\u001b[0m\" 200 -\n",
      "192.168.8.192 - - [10/Jul/2021 14:10:32] \"\u001b[37mPOST /_dash-update-component HTTP/1.1\u001b[0m\" 200 -\n",
      "192.168.8.192 - - [10/Jul/2021 14:10:32] \"\u001b[37mPOST /_dash-update-component HTTP/1.1\u001b[0m\" 200 -\n",
      "192.168.8.192 - - [10/Jul/2021 14:10:32] \"\u001b[37mPOST /_dash-update-component HTTP/1.1\u001b[0m\" 200 -\n",
      "192.168.8.192 - - [10/Jul/2021 14:10:32] \"\u001b[37mPOST /_dash-update-component HTTP/1.1\u001b[0m\" 200 -\n",
      "192.168.8.192 - - [10/Jul/2021 14:10:32] \"\u001b[37mPOST /_dash-update-component HTTP/1.1\u001b[0m\" 200 -\n",
      "192.168.8.192 - - [10/Jul/2021 14:10:32] \"\u001b[37mPOST /_dash-update-component HTTP/1.1\u001b[0m\" 200 -\n",
      "192.168.8.192 - - [10/Jul/2021 14:10:32] \"\u001b[37mPOST /_dash-update-component HTTP/1.1\u001b[0m\" 200 -\n",
      "192.168.8.192 - - [10/Jul/2021 14:10:32] \"\u001b[37mPOST /_dash-update-component HTTP/1.1\u001b[0m\" 200 -\n",
      "192.168.8.192 - - [10/Jul/2021 14:10:32] \"\u001b[37mPOST /_dash-update-component HTTP/1.1\u001b[0m\" 200 -\n",
      "192.168.8.192 - - [10/Jul/2021 14:10:32] \"\u001b[37mPOST /_dash-update-component HTTP/1.1\u001b[0m\" 200 -\n",
      "192.168.8.192 - - [10/Jul/2021 14:10:32] \"\u001b[37mPOST /_dash-update-component HTTP/1.1\u001b[0m\" 200 -\n",
      "192.168.8.192 - - [10/Jul/2021 14:10:32] \"\u001b[37mPOST /_dash-update-component HTTP/1.1\u001b[0m\" 200 -\n",
      "192.168.8.192 - - [10/Jul/2021 14:10:32] \"\u001b[37mPOST /_dash-update-component HTTP/1.1\u001b[0m\" 200 -\n",
      "192.168.8.192 - - [10/Jul/2021 14:10:32] \"\u001b[37mPOST /_dash-update-component HTTP/1.1\u001b[0m\" 200 -\n",
      "192.168.8.192 - - [10/Jul/2021 14:10:33] \"\u001b[37mPOST /_dash-update-component HTTP/1.1\u001b[0m\" 200 -\n",
      "192.168.8.192 - - [10/Jul/2021 14:10:33] \"\u001b[37mPOST /_dash-update-component HTTP/1.1\u001b[0m\" 200 -\n",
      "192.168.8.192 - - [10/Jul/2021 14:10:33] \"\u001b[37mPOST /_dash-update-component HTTP/1.1\u001b[0m\" 204 -\n",
      "192.168.8.192 - - [10/Jul/2021 14:10:33] \"\u001b[37mPOST /_dash-update-component HTTP/1.1\u001b[0m\" 204 -\n",
      "192.168.8.192 - - [10/Jul/2021 14:10:33] \"\u001b[37mPOST /_dash-update-component HTTP/1.1\u001b[0m\" 200 -\n",
      "192.168.8.192 - - [10/Jul/2021 14:10:33] \"\u001b[37mPOST /_dash-update-component HTTP/1.1\u001b[0m\" 204 -\n",
      "192.168.8.192 - - [10/Jul/2021 14:10:33] \"\u001b[37mPOST /_dash-update-component HTTP/1.1\u001b[0m\" 204 -\n",
      "192.168.8.192 - - [10/Jul/2021 14:10:33] \"\u001b[37mPOST /_dash-update-component HTTP/1.1\u001b[0m\" 200 -\n",
      "192.168.8.192 - - [10/Jul/2021 14:10:33] \"\u001b[37mPOST /_dash-update-component HTTP/1.1\u001b[0m\" 200 -\n",
      "192.168.8.192 - - [10/Jul/2021 14:10:33] \"\u001b[37mPOST /_dash-update-component HTTP/1.1\u001b[0m\" 200 -\n",
      "192.168.8.192 - - [10/Jul/2021 14:10:33] \"\u001b[37mPOST /_dash-update-component HTTP/1.1\u001b[0m\" 200 -\n",
      "192.168.8.192 - - [10/Jul/2021 14:10:33] \"\u001b[37mPOST /_dash-update-component HTTP/1.1\u001b[0m\" 200 -\n",
      "192.168.8.192 - - [10/Jul/2021 14:10:33] \"\u001b[37mPOST /_dash-update-component HTTP/1.1\u001b[0m\" 200 -\n",
      "192.168.8.192 - - [10/Jul/2021 14:10:33] \"\u001b[37mPOST /_dash-update-component HTTP/1.1\u001b[0m\" 200 -\n",
      "192.168.8.192 - - [10/Jul/2021 14:10:33] \"\u001b[37mPOST /_dash-update-component HTTP/1.1\u001b[0m\" 200 -\n",
      "192.168.8.192 - - [10/Jul/2021 14:10:33] \"\u001b[37mPOST /_dash-update-component HTTP/1.1\u001b[0m\" 200 -\n",
      "192.168.8.192 - - [10/Jul/2021 14:10:33] \"\u001b[37mPOST /_dash-update-component HTTP/1.1\u001b[0m\" 200 -\n",
      "192.168.8.192 - - [10/Jul/2021 14:10:33] \"\u001b[37mPOST /_dash-update-component HTTP/1.1\u001b[0m\" 200 -\n",
      "192.168.8.192 - - [10/Jul/2021 14:10:33] \"\u001b[37mPOST /_dash-update-component HTTP/1.1\u001b[0m\" 200 -\n",
      "192.168.8.192 - - [10/Jul/2021 14:10:33] \"\u001b[37mPOST /_dash-update-component HTTP/1.1\u001b[0m\" 200 -\n",
      "192.168.8.192 - - [10/Jul/2021 14:10:33] \"\u001b[37mPOST /_dash-update-component HTTP/1.1\u001b[0m\" 200 -\n",
      "192.168.8.192 - - [10/Jul/2021 14:10:33] \"\u001b[37mPOST /_dash-update-component HTTP/1.1\u001b[0m\" 200 -\n",
      "192.168.8.192 - - [10/Jul/2021 14:10:33] \"\u001b[37mPOST /_dash-update-component HTTP/1.1\u001b[0m\" 200 -\n",
      "192.168.8.192 - - [10/Jul/2021 14:10:33] \"\u001b[37mPOST /_dash-update-component HTTP/1.1\u001b[0m\" 200 -\n",
      "192.168.8.192 - - [10/Jul/2021 14:10:33] \"\u001b[37mPOST /_dash-update-component HTTP/1.1\u001b[0m\" 204 -\n",
      "192.168.8.192 - - [10/Jul/2021 14:10:33] \"\u001b[37mPOST /_dash-update-component HTTP/1.1\u001b[0m\" 200 -\n",
      "192.168.8.192 - - [10/Jul/2021 14:10:33] \"\u001b[37mPOST /_dash-update-component HTTP/1.1\u001b[0m\" 200 -\n",
      "192.168.8.192 - - [10/Jul/2021 14:10:33] \"\u001b[37mPOST /_dash-update-component HTTP/1.1\u001b[0m\" 204 -\n",
      "192.168.8.192 - - [10/Jul/2021 14:10:33] \"\u001b[37mPOST /_dash-update-component HTTP/1.1\u001b[0m\" 200 -\n",
      "192.168.8.192 - - [10/Jul/2021 14:10:34] \"\u001b[37mPOST /_dash-update-component HTTP/1.1\u001b[0m\" 200 -\n",
      "192.168.8.192 - - [10/Jul/2021 14:10:34] \"\u001b[37mPOST /_dash-update-component HTTP/1.1\u001b[0m\" 200 -\n",
      "192.168.8.192 - - [10/Jul/2021 14:10:34] \"\u001b[37mPOST /_dash-update-component HTTP/1.1\u001b[0m\" 200 -\n",
      "192.168.8.192 - - [10/Jul/2021 14:10:34] \"\u001b[37mPOST /_dash-update-component HTTP/1.1\u001b[0m\" 200 -\n",
      "192.168.8.192 - - [10/Jul/2021 14:10:34] \"\u001b[37mPOST /_dash-update-component HTTP/1.1\u001b[0m\" 200 -\n",
      "192.168.8.192 - - [10/Jul/2021 14:10:34] \"\u001b[37mPOST /_dash-update-component HTTP/1.1\u001b[0m\" 200 -\n",
      "192.168.8.192 - - [10/Jul/2021 14:10:34] \"\u001b[37mPOST /_dash-update-component HTTP/1.1\u001b[0m\" 200 -\n",
      "192.168.8.192 - - [10/Jul/2021 14:10:34] \"\u001b[37mPOST /_dash-update-component HTTP/1.1\u001b[0m\" 200 -\n",
      "192.168.8.192 - - [10/Jul/2021 14:10:34] \"\u001b[37mPOST /_dash-update-component HTTP/1.1\u001b[0m\" 200 -\n",
      "192.168.8.192 - - [10/Jul/2021 14:10:35] \"\u001b[37mPOST /_dash-update-component HTTP/1.1\u001b[0m\" 200 -\n",
      "192.168.8.192 - - [10/Jul/2021 14:10:35] \"\u001b[37mPOST /_dash-update-component HTTP/1.1\u001b[0m\" 200 -\n",
      "192.168.8.192 - - [10/Jul/2021 14:10:35] \"\u001b[37mPOST /_dash-update-component HTTP/1.1\u001b[0m\" 200 -\n",
      "192.168.8.192 - - [10/Jul/2021 14:10:35] \"\u001b[37mPOST /_dash-update-component HTTP/1.1\u001b[0m\" 200 -\n"
     ]
    }
   ],
   "source": [
    "from explainerdashboard import ClassifierExplainer, ExplainerDashboard, RegressionExplainer\n",
    "X_train, X_test, y_train, y_test = train_test_split(X_new_df, y, test_size = 0.20)\n",
    "model = RandomForestRegressor(n_estimators = 100, max_depth=4)\n",
    "model.fit(X_train,y_train)\n",
    "feature_descriptions = {\n",
    "    \"interior_area\": \"Interior Area of the Apartment\",\n",
    "    \"bathrooms\": \"Number of bathrooms\",\n",
    "    \"rooms\": \"Number of rooms, includes bedrooms and other rooms\"}\n",
    "\n",
    "explainer = RegressionExplainer(model, X_test, y_test, \n",
    "       descriptions=feature_descriptions,\n",
    "       index_name = \"propertiesid\"# defaults to None\n",
    "                                )\n",
    "db = ExplainerDashboard(explainer).run()"
   ]
  },
  {
   "cell_type": "code",
   "execution_count": 58,
   "metadata": {
    "ExecuteTime": {
     "end_time": "2021-07-10T12:28:13.897173Z",
     "start_time": "2021-07-10T12:28:13.468675Z"
    }
   },
   "outputs": [
    {
     "name": "stdout",
     "output_type": "stream",
     "text": [
      "Building ExplainerDashboard..\n",
      "Detected notebook environment, consider setting mode='external', mode='inline' or mode='jupyterlab' to keep the notebook interactive while the dashboard is running...\n",
      "Warning: calculating shap interaction values can be slow! Pass shap_interaction=False to remove interactions tab.\n",
      "Generating layout...\n",
      "Calculating dependencies...\n",
      "Reminder: you can store the explainer (including calculated dependencies) with explainer.dump('explainer.joblib') and reload with e.g. ClassifierExplainer.from_file('explainer.joblib')\n",
      "Registering callbacks...\n",
      "Trying to shut down dashboard on port 8050...\n",
      "Something seems to have failed: HTTPConnectionPool(host='localhost', port=8050): Max retries exceeded with url: /_shutdown_dc953504-7fb3-4968-bf7d-3f343d452ca8 (Caused by NewConnectionError('<urllib3.connection.HTTPConnection object at 0x7f1e2e434190>: Failed to establish a new connection: [Errno 111] Connection refused'))\n"
     ]
    }
   ],
   "source": [
    "ExplainerDashboard(explainer).terminate(8050)"
   ]
  },
  {
   "cell_type": "code",
   "execution_count": 229,
   "metadata": {
    "ExecuteTime": {
     "end_time": "2021-06-12T11:00:14.488685Z",
     "start_time": "2021-06-12T11:00:14.484322Z"
    }
   },
   "outputs": [],
   "source": [
    "# predict_df = pd.DataFrame(data=[{'interior_area':70, 'gros_area':78,'bathrooms':1, 'rooms':2}])\n",
    "# predict(predict_df,'scaler','rfr')"
   ]
  },
  {
   "cell_type": "markdown",
   "metadata": {
    "ExecuteTime": {
     "end_time": "2021-07-10T11:53:57.167009Z",
     "start_time": "2021-07-10T11:53:57.162226Z"
    }
   },
   "source": [
    "# XGBOOST Regressor with EXPLAINER DASHBOARD"
   ]
  },
  {
   "cell_type": "code",
   "execution_count": null,
   "metadata": {},
   "outputs": [],
   "source": [
    "# model = XGBRegressor(colsample_bytree= 0.7, learning_rate= 0.03, max_depth= 5, min_child_weight= 4, n_estimators= 500, nthread= 4, objective= 'reg:linear', silent= 1, subsample= 0.7)\n",
    "# model.fit(X_train, y_train)"
   ]
  },
  {
   "cell_type": "code",
   "execution_count": 20,
   "metadata": {
    "ExecuteTime": {
     "end_time": "2021-07-10T11:58:31.964141Z",
     "start_time": "2021-07-10T11:55:43.997857Z"
    }
   },
   "outputs": [
    {
     "name": "stdout",
     "output_type": "stream",
     "text": [
      "[13:55:44] WARNING: /workspace/src/objective/regression_obj.cu:170: reg:linear is now deprecated in favor of reg:squarederror.\n",
      "[13:55:44] WARNING: /workspace/src/learner.cc:480: \n",
      "Parameters: { silent } might not be used.\n",
      "\n",
      "  This may not be accurate due to some parameters are only used in language bindings but\n",
      "  passed down to XGBoost core.  Or some parameters are not used but slip through this\n",
      "  verification. Please open an issue if you find above cases.\n",
      "\n",
      "\n",
      "[13:55:44] WARNING: /workspace/src/objective/regression_obj.cu:170: reg:linear is now deprecated in favor of reg:squarederror.\n",
      "Changing class type to XGBRegressionExplainer...\n",
      "Generating self.shap_explainer = shap.TreeExplainer(model)\n",
      "Building ExplainerDashboard..\n",
      "Detected notebook environment, consider setting mode='external', mode='inline' or mode='jupyterlab' to keep the notebook interactive while the dashboard is running...\n",
      "Warning: calculating shap interaction values can be slow! Pass shap_interaction=False to remove interactions tab.\n",
      "Generating layout...\n",
      "Calculating shap values...\n",
      "Calculating predictions...\n",
      "Calculating residuals...\n",
      "Calculating absolute residuals...\n",
      "Generating xgboost model dump...\n",
      "Calculating dependencies...\n",
      "Calculating importances...\n",
      "Calculating shap interaction values...\n",
      "Reminder: TreeShap computational complexity is O(TLD^2), where T is the number of trees, L is the maximum number of leaves in any tree and D the maximal depth of any tree. So reducing these will speed up the calculation.\n",
      "Calculating ShadowDecTree for each individual decision tree...\n",
      "Reminder: you can store the explainer (including calculated dependencies) with explainer.dump('explainer.joblib') and reload with e.g. ClassifierExplainer.from_file('explainer.joblib')\n",
      "Registering callbacks...\n",
      "Starting ExplainerDashboard on http://192.168.8.192:8050\n",
      "Dash is running on http://0.0.0.0:8050/\n",
      "\n",
      "Dash is running on http://0.0.0.0:8050/\n",
      "\n",
      "Dash is running on http://0.0.0.0:8050/\n",
      "\n",
      " * Serving Flask app \"explainerdashboard.dashboards\" (lazy loading)\n",
      " * Environment: production\n",
      "\u001b[31m   WARNING: This is a development server. Do not use it in a production deployment.\u001b[0m\n",
      "\u001b[2m   Use a production WSGI server instead.\u001b[0m\n",
      " * Debug mode: off\n"
     ]
    },
    {
     "name": "stderr",
     "output_type": "stream",
     "text": [
      " * Running on http://0.0.0.0:8050/ (Press CTRL+C to quit)\n",
      "192.168.8.192 - - [10/Jul/2021 13:58:09] \"\u001b[37mGET / HTTP/1.1\u001b[0m\" 200 -\n",
      "192.168.8.192 - - [10/Jul/2021 13:58:10] \"\u001b[37mGET /_dash-dependencies HTTP/1.1\u001b[0m\" 200 -\n",
      "192.168.8.192 - - [10/Jul/2021 13:58:10] \"\u001b[37mGET /_dash-layout HTTP/1.1\u001b[0m\" 200 -\n",
      "192.168.8.192 - - [10/Jul/2021 13:58:11] \"\u001b[37mPOST /_dash-update-component HTTP/1.1\u001b[0m\" 200 -\n",
      "192.168.8.192 - - [10/Jul/2021 13:58:11] \"\u001b[37mPOST /_dash-update-component HTTP/1.1\u001b[0m\" 200 -\n",
      "192.168.8.192 - - [10/Jul/2021 13:58:11] \"\u001b[37mPOST /_dash-update-component HTTP/1.1\u001b[0m\" 200 -\n",
      "192.168.8.192 - - [10/Jul/2021 13:58:11] \"\u001b[37mPOST /_dash-update-component HTTP/1.1\u001b[0m\" 200 -\n",
      "192.168.8.192 - - [10/Jul/2021 13:58:11] \"\u001b[37mPOST /_dash-update-component HTTP/1.1\u001b[0m\" 200 -\n",
      "192.168.8.192 - - [10/Jul/2021 13:58:11] \"\u001b[37mPOST /_dash-update-component HTTP/1.1\u001b[0m\" 200 -\n",
      "192.168.8.192 - - [10/Jul/2021 13:58:11] \"\u001b[37mPOST /_dash-update-component HTTP/1.1\u001b[0m\" 200 -\n",
      "192.168.8.192 - - [10/Jul/2021 13:58:11] \"\u001b[37mPOST /_dash-update-component HTTP/1.1\u001b[0m\" 200 -\n",
      "192.168.8.192 - - [10/Jul/2021 13:58:11] \"\u001b[37mPOST /_dash-update-component HTTP/1.1\u001b[0m\" 200 -\n",
      "192.168.8.192 - - [10/Jul/2021 13:58:11] \"\u001b[37mPOST /_dash-update-component HTTP/1.1\u001b[0m\" 200 -\n",
      "192.168.8.192 - - [10/Jul/2021 13:58:11] \"\u001b[37mPOST /_dash-update-component HTTP/1.1\u001b[0m\" 200 -\n",
      "192.168.8.192 - - [10/Jul/2021 13:58:11] \"\u001b[37mPOST /_dash-update-component HTTP/1.1\u001b[0m\" 200 -\n",
      "192.168.8.192 - - [10/Jul/2021 13:58:11] \"\u001b[37mPOST /_dash-update-component HTTP/1.1\u001b[0m\" 200 -\n",
      "192.168.8.192 - - [10/Jul/2021 13:58:11] \"\u001b[37mPOST /_dash-update-component HTTP/1.1\u001b[0m\" 200 -\n",
      "192.168.8.192 - - [10/Jul/2021 13:58:11] \"\u001b[37mPOST /_dash-update-component HTTP/1.1\u001b[0m\" 200 -\n",
      "192.168.8.192 - - [10/Jul/2021 13:58:11] \"\u001b[37mPOST /_dash-update-component HTTP/1.1\u001b[0m\" 200 -\n",
      "192.168.8.192 - - [10/Jul/2021 13:58:11] \"\u001b[37mPOST /_dash-update-component HTTP/1.1\u001b[0m\" 200 -\n",
      "192.168.8.192 - - [10/Jul/2021 13:58:11] \"\u001b[37mPOST /_dash-update-component HTTP/1.1\u001b[0m\" 200 -\n",
      "192.168.8.192 - - [10/Jul/2021 13:58:11] \"\u001b[37mPOST /_dash-update-component HTTP/1.1\u001b[0m\" 200 -\n",
      "192.168.8.192 - - [10/Jul/2021 13:58:11] \"\u001b[37mPOST /_dash-update-component HTTP/1.1\u001b[0m\" 200 -\n",
      "192.168.8.192 - - [10/Jul/2021 13:58:11] \"\u001b[37mPOST /_dash-update-component HTTP/1.1\u001b[0m\" 200 -\n",
      "192.168.8.192 - - [10/Jul/2021 13:58:11] \"\u001b[37mPOST /_dash-update-component HTTP/1.1\u001b[0m\" 200 -\n",
      "192.168.8.192 - - [10/Jul/2021 13:58:11] \"\u001b[37mPOST /_dash-update-component HTTP/1.1\u001b[0m\" 200 -\n",
      "192.168.8.192 - - [10/Jul/2021 13:58:11] \"\u001b[37mPOST /_dash-update-component HTTP/1.1\u001b[0m\" 200 -\n",
      "192.168.8.192 - - [10/Jul/2021 13:58:11] \"\u001b[37mPOST /_dash-update-component HTTP/1.1\u001b[0m\" 200 -\n",
      "192.168.8.192 - - [10/Jul/2021 13:58:11] \"\u001b[37mPOST /_dash-update-component HTTP/1.1\u001b[0m\" 200 -\n",
      "192.168.8.192 - - [10/Jul/2021 13:58:11] \"\u001b[37mPOST /_dash-update-component HTTP/1.1\u001b[0m\" 200 -\n",
      "192.168.8.192 - - [10/Jul/2021 13:58:11] \"\u001b[37mPOST /_dash-update-component HTTP/1.1\u001b[0m\" 200 -\n",
      "192.168.8.192 - - [10/Jul/2021 13:58:11] \"\u001b[37mPOST /_dash-update-component HTTP/1.1\u001b[0m\" 200 -\n",
      "192.168.8.192 - - [10/Jul/2021 13:58:11] \"\u001b[37mPOST /_dash-update-component HTTP/1.1\u001b[0m\" 200 -\n",
      "192.168.8.192 - - [10/Jul/2021 13:58:11] \"\u001b[37mPOST /_dash-update-component HTTP/1.1\u001b[0m\" 200 -\n",
      "192.168.8.192 - - [10/Jul/2021 13:58:11] \"\u001b[37mPOST /_dash-update-component HTTP/1.1\u001b[0m\" 204 -\n",
      "192.168.8.192 - - [10/Jul/2021 13:58:11] \"\u001b[37mPOST /_dash-update-component HTTP/1.1\u001b[0m\" 204 -\n",
      "192.168.8.192 - - [10/Jul/2021 13:58:12] \"\u001b[37mPOST /_dash-update-component HTTP/1.1\u001b[0m\" 200 -\n",
      "192.168.8.192 - - [10/Jul/2021 13:58:12] \"\u001b[37mPOST /_dash-update-component HTTP/1.1\u001b[0m\" 200 -\n",
      "192.168.8.192 - - [10/Jul/2021 13:58:12] \"\u001b[37mPOST /_dash-update-component HTTP/1.1\u001b[0m\" 204 -\n",
      "192.168.8.192 - - [10/Jul/2021 13:58:12] \"\u001b[37mPOST /_dash-update-component HTTP/1.1\u001b[0m\" 204 -\n",
      "192.168.8.192 - - [10/Jul/2021 13:58:12] \"\u001b[37mPOST /_dash-update-component HTTP/1.1\u001b[0m\" 200 -\n",
      "192.168.8.192 - - [10/Jul/2021 13:58:12] \"\u001b[37mPOST /_dash-update-component HTTP/1.1\u001b[0m\" 200 -\n",
      "192.168.8.192 - - [10/Jul/2021 13:58:12] \"\u001b[37mPOST /_dash-update-component HTTP/1.1\u001b[0m\" 200 -\n",
      "192.168.8.192 - - [10/Jul/2021 13:58:12] \"\u001b[37mPOST /_dash-update-component HTTP/1.1\u001b[0m\" 200 -\n",
      "192.168.8.192 - - [10/Jul/2021 13:58:12] \"\u001b[37mPOST /_dash-update-component HTTP/1.1\u001b[0m\" 200 -\n",
      "192.168.8.192 - - [10/Jul/2021 13:58:12] \"\u001b[37mPOST /_dash-update-component HTTP/1.1\u001b[0m\" 200 -\n",
      "192.168.8.192 - - [10/Jul/2021 13:58:12] \"\u001b[37mPOST /_dash-update-component HTTP/1.1\u001b[0m\" 200 -\n",
      "192.168.8.192 - - [10/Jul/2021 13:58:12] \"\u001b[37mPOST /_dash-update-component HTTP/1.1\u001b[0m\" 200 -\n",
      "192.168.8.192 - - [10/Jul/2021 13:58:12] \"\u001b[37mPOST /_dash-update-component HTTP/1.1\u001b[0m\" 200 -\n",
      "192.168.8.192 - - [10/Jul/2021 13:58:12] \"\u001b[37mPOST /_dash-update-component HTTP/1.1\u001b[0m\" 200 -\n",
      "192.168.8.192 - - [10/Jul/2021 13:58:12] \"\u001b[37mPOST /_dash-update-component HTTP/1.1\u001b[0m\" 200 -\n",
      "192.168.8.192 - - [10/Jul/2021 13:58:12] \"\u001b[37mPOST /_dash-update-component HTTP/1.1\u001b[0m\" 200 -\n",
      "192.168.8.192 - - [10/Jul/2021 13:58:12] \"\u001b[37mPOST /_dash-update-component HTTP/1.1\u001b[0m\" 200 -\n",
      "192.168.8.192 - - [10/Jul/2021 13:58:12] \"\u001b[37mPOST /_dash-update-component HTTP/1.1\u001b[0m\" 200 -\n",
      "192.168.8.192 - - [10/Jul/2021 13:58:12] \"\u001b[37mPOST /_dash-update-component HTTP/1.1\u001b[0m\" 200 -\n",
      "192.168.8.192 - - [10/Jul/2021 13:58:12] \"\u001b[37mPOST /_dash-update-component HTTP/1.1\u001b[0m\" 200 -\n",
      "192.168.8.192 - - [10/Jul/2021 13:58:12] \"\u001b[37mPOST /_dash-update-component HTTP/1.1\u001b[0m\" 200 -\n",
      "192.168.8.192 - - [10/Jul/2021 13:58:12] \"\u001b[37mPOST /_dash-update-component HTTP/1.1\u001b[0m\" 200 -\n",
      "192.168.8.192 - - [10/Jul/2021 13:58:12] \"\u001b[37mPOST /_dash-update-component HTTP/1.1\u001b[0m\" 204 -\n",
      "192.168.8.192 - - [10/Jul/2021 13:58:12] \"\u001b[37mPOST /_dash-update-component HTTP/1.1\u001b[0m\" 200 -\n",
      "192.168.8.192 - - [10/Jul/2021 13:58:12] \"\u001b[37mPOST /_dash-update-component HTTP/1.1\u001b[0m\" 200 -\n",
      "192.168.8.192 - - [10/Jul/2021 13:58:12] \"\u001b[37mPOST /_dash-update-component HTTP/1.1\u001b[0m\" 200 -\n",
      "192.168.8.192 - - [10/Jul/2021 13:58:12] \"\u001b[37mPOST /_dash-update-component HTTP/1.1\u001b[0m\" 200 -\n",
      "192.168.8.192 - - [10/Jul/2021 13:58:12] \"\u001b[37mPOST /_dash-update-component HTTP/1.1\u001b[0m\" 200 -\n",
      "192.168.8.192 - - [10/Jul/2021 13:58:12] \"\u001b[37mPOST /_dash-update-component HTTP/1.1\u001b[0m\" 204 -\n",
      "192.168.8.192 - - [10/Jul/2021 13:58:12] \"\u001b[37mPOST /_dash-update-component HTTP/1.1\u001b[0m\" 200 -\n"
     ]
    },
    {
     "name": "stdout",
     "output_type": "stream",
     "text": [
      "Exception on /_dash-update-component [POST]\n",
      "Traceback (most recent call last):\n",
      "  File \"/home/serena/.local/lib/python3.8/site-packages/flask/app.py\", line 2447, in wsgi_app\n",
      "    response = self.full_dispatch_request()\n",
      "  File \"/home/serena/.local/lib/python3.8/site-packages/flask/app.py\", line 1952, in full_dispatch_request\n",
      "    rv = self.handle_user_exception(e)\n",
      "  File \"/home/serena/.local/lib/python3.8/site-packages/flask/app.py\", line 1821, in handle_user_exception\n",
      "    reraise(exc_type, exc_value, tb)\n",
      "  File \"/home/serena/.local/lib/python3.8/site-packages/flask/_compat.py\", line 39, in reraise\n",
      "    raise value\n",
      "  File \"/home/serena/.local/lib/python3.8/site-packages/flask/app.py\", line 1950, in full_dispatch_request\n",
      "    rv = self.dispatch_request()\n",
      "  File \"/home/serena/.local/lib/python3.8/site-packages/flask/app.py\", line 1936, in dispatch_request\n",
      "    return self.view_functions[rule.endpoint](**req.view_args)\n",
      "  File \"/home/serena/.local/lib/python3.8/site-packages/dash/dash.py\", line 1079, in dispatch\n",
      "    response.set_data(func(*args, outputs_list=outputs_list))\n",
      "  File \"/home/serena/.local/lib/python3.8/site-packages/dash/dash.py\", line 1010, in add_context\n",
      "    output_value = func(*args, **kwargs)  # %% callback invoked %%\n",
      "  File \"/home/serena/.local/lib/python3.8/site-packages/explainerdashboard/dashboard_components/decisiontree_components.py\", line 152, in update_tree_graph\n",
      "    return self.explainer.plot_trees(index,\n",
      "  File \"/home/serena/.local/lib/python3.8/site-packages/explainerdashboard/explainers.py\", line 48, in inner\n",
      "    return func(self, *args, **kwargs)\n",
      "  File \"/home/serena/.local/lib/python3.8/site-packages/explainerdashboard/explainers.py\", line 3885, in plot_trees\n",
      "    xgboost_preds_df = get_xgboost_preds_df(self.model, X_row)\n",
      "  File \"/home/serena/.local/lib/python3.8/site-packages/explainerdashboard/explainer_methods.py\", line 1426, in get_xgboost_preds_df\n",
      "    preds = [xgbmodel.predict(X_row, iteration_range=(0, i+1), output_margin=True)[0] for i in range(n_trees)]\n",
      "  File \"/home/serena/.local/lib/python3.8/site-packages/explainerdashboard/explainer_methods.py\", line 1426, in <listcomp>\n",
      "    preds = [xgbmodel.predict(X_row, iteration_range=(0, i+1), output_margin=True)[0] for i in range(n_trees)]\n",
      "TypeError: predict() got an unexpected keyword argument 'iteration_range'\n"
     ]
    },
    {
     "name": "stderr",
     "output_type": "stream",
     "text": [
      "192.168.8.192 - - [10/Jul/2021 13:58:12] \"\u001b[37mPOST /_dash-update-component HTTP/1.1\u001b[0m\" 200 -\n"
     ]
    },
    {
     "name": "stdout",
     "output_type": "stream",
     "text": [
      "Exception on /_dash-update-component [POST]\n",
      "Traceback (most recent call last):\n",
      "  File \"/home/serena/.local/lib/python3.8/site-packages/flask/app.py\", line 2447, in wsgi_app\n",
      "    response = self.full_dispatch_request()\n",
      "  File \"/home/serena/.local/lib/python3.8/site-packages/flask/app.py\", line 1952, in full_dispatch_request\n",
      "    rv = self.handle_user_exception(e)\n",
      "  File \"/home/serena/.local/lib/python3.8/site-packages/flask/app.py\", line 1821, in handle_user_exception\n",
      "    reraise(exc_type, exc_value, tb)\n",
      "  File \"/home/serena/.local/lib/python3.8/site-packages/flask/_compat.py\", line 39, in reraise\n",
      "    raise value\n",
      "  File \"/home/serena/.local/lib/python3.8/site-packages/flask/app.py\", line 1950, in full_dispatch_request\n",
      "    rv = self.dispatch_request()\n",
      "  File \"/home/serena/.local/lib/python3.8/site-packages/flask/app.py\", line 1936, in dispatch_request\n",
      "    return self.view_functions[rule.endpoint](**req.view_args)\n",
      "  File \"/home/serena/.local/lib/python3.8/site-packages/dash/dash.py\", line 1079, in dispatch\n",
      "    response.set_data(func(*args, outputs_list=outputs_list))\n",
      "  File \"/home/serena/.local/lib/python3.8/site-packages/dash/dash.py\", line 1010, in add_context\n",
      "    output_value = func(*args, **kwargs)  # %% callback invoked %%\n",
      "  File \"/home/serena/.local/lib/python3.8/site-packages/explainerdashboard/dashboard_components/decisiontree_components.py\", line 152, in update_tree_graph\n",
      "    return self.explainer.plot_trees(index,\n",
      "  File \"/home/serena/.local/lib/python3.8/site-packages/explainerdashboard/explainers.py\", line 48, in inner\n",
      "    return func(self, *args, **kwargs)\n",
      "  File \"/home/serena/.local/lib/python3.8/site-packages/explainerdashboard/explainers.py\", line 3885, in plot_trees\n",
      "    xgboost_preds_df = get_xgboost_preds_df(self.model, X_row)\n",
      "  File \"/home/serena/.local/lib/python3.8/site-packages/explainerdashboard/explainer_methods.py\", line 1426, in get_xgboost_preds_df\n",
      "    preds = [xgbmodel.predict(X_row, iteration_range=(0, i+1), output_margin=True)[0] for i in range(n_trees)]\n",
      "  File \"/home/serena/.local/lib/python3.8/site-packages/explainerdashboard/explainer_methods.py\", line 1426, in <listcomp>\n",
      "    preds = [xgbmodel.predict(X_row, iteration_range=(0, i+1), output_margin=True)[0] for i in range(n_trees)]\n",
      "TypeError: predict() got an unexpected keyword argument 'iteration_range'\n",
      "Exception on /_dash-update-component [POST]\n",
      "Traceback (most recent call last):\n",
      "  File \"/home/serena/.local/lib/python3.8/site-packages/flask/app.py\", line 2447, in wsgi_app\n",
      "    response = self.full_dispatch_request()\n",
      "  File \"/home/serena/.local/lib/python3.8/site-packages/flask/app.py\", line 1952, in full_dispatch_request\n",
      "    rv = self.handle_user_exception(e)\n",
      "  File \"/home/serena/.local/lib/python3.8/site-packages/flask/app.py\", line 1821, in handle_user_exception\n",
      "    reraise(exc_type, exc_value, tb)\n",
      "  File \"/home/serena/.local/lib/python3.8/site-packages/flask/_compat.py\", line 39, in reraise\n",
      "    raise value\n",
      "  File \"/home/serena/.local/lib/python3.8/site-packages/flask/app.py\", line 1950, in full_dispatch_request\n",
      "    rv = self.dispatch_request()\n",
      "  File \"/home/serena/.local/lib/python3.8/site-packages/flask/app.py\", line 1936, in dispatch_request\n",
      "    return self.view_functions[rule.endpoint](**req.view_args)\n",
      "  File \"/home/serena/.local/lib/python3.8/site-packages/dash/dash.py\", line 1079, in dispatch\n",
      "    response.set_data(func(*args, outputs_list=outputs_list))\n",
      "  File \"/home/serena/.local/lib/python3.8/site-packages/dash/dash.py\", line 1010, in add_context\n",
      "    output_value = func(*args, **kwargs)  # %% callback invoked %%\n",
      "  File \"/home/serena/.local/lib/python3.8/site-packages/explainerdashboard/dashboard_components/decisiontree_components.py\", line 152, in update_tree_graph\n",
      "    return self.explainer.plot_trees(index,\n",
      "  File \"/home/serena/.local/lib/python3.8/site-packages/explainerdashboard/explainers.py\", line 48, in inner\n",
      "    return func(self, *args, **kwargs)\n",
      "  File \"/home/serena/.local/lib/python3.8/site-packages/explainerdashboard/explainers.py\", line 3885, in plot_trees\n",
      "    xgboost_preds_df = get_xgboost_preds_df(self.model, X_row)\n",
      "  File \"/home/serena/.local/lib/python3.8/site-packages/explainerdashboard/explainer_methods.py\", line 1426, in get_xgboost_preds_df\n",
      "    preds = [xgbmodel.predict(X_row, iteration_range=(0, i+1), output_margin=True)[0] for i in range(n_trees)]\n",
      "  File \"/home/serena/.local/lib/python3.8/site-packages/explainerdashboard/explainer_methods.py\", line 1426, in <listcomp>\n",
      "    preds = [xgbmodel.predict(X_row, iteration_range=(0, i+1), output_margin=True)[0] for i in range(n_trees)]\n",
      "TypeError: predict() got an unexpected keyword argument 'iteration_range'\n"
     ]
    },
    {
     "name": "stderr",
     "output_type": "stream",
     "text": [
      "192.168.8.192 - - [10/Jul/2021 13:58:12] \"\u001b[35m\u001b[1mPOST /_dash-update-component HTTP/1.1\u001b[0m\" 500 -\n",
      "192.168.8.192 - - [10/Jul/2021 13:58:12] \"\u001b[37mPOST /_dash-update-component HTTP/1.1\u001b[0m\" 200 -\n",
      "192.168.8.192 - - [10/Jul/2021 13:58:12] \"\u001b[37mPOST /_dash-update-component HTTP/1.1\u001b[0m\" 200 -\n",
      "192.168.8.192 - - [10/Jul/2021 13:58:13] \"\u001b[37mPOST /_dash-update-component HTTP/1.1\u001b[0m\" 200 -\n",
      "192.168.8.192 - - [10/Jul/2021 13:58:13] \"\u001b[37mPOST /_dash-update-component HTTP/1.1\u001b[0m\" 200 -\n",
      "192.168.8.192 - - [10/Jul/2021 13:58:13] \"\u001b[37mPOST /_dash-update-component HTTP/1.1\u001b[0m\" 200 -\n",
      "192.168.8.192 - - [10/Jul/2021 13:58:13] \"\u001b[37mPOST /_dash-update-component HTTP/1.1\u001b[0m\" 200 -\n",
      "192.168.8.192 - - [10/Jul/2021 13:58:13] \"\u001b[37mPOST /_dash-update-component HTTP/1.1\u001b[0m\" 200 -\n",
      "192.168.8.192 - - [10/Jul/2021 13:58:13] \"\u001b[37mPOST /_dash-update-component HTTP/1.1\u001b[0m\" 200 -\n"
     ]
    }
   ],
   "source": [
    "from explainerdashboard import ClassifierExplainer, ExplainerDashboard, RegressionExplainer\n",
    "X_train, X_test, y_train, y_test = train_test_split(X_new_df, y, test_size = 0.20)\n",
    "model = XGBRegressor(colsample_bytree= 0.7, learning_rate= 0.03, max_depth= 5, min_child_weight= 4, n_estimators= 500, nthread= 4, objective= 'reg:linear', silent= 1, subsample= 0.7)\n",
    "model.fit(X_train,y_train)\n",
    "feature_descriptions = {\n",
    "    \"property_status\": \"Property Status\",\n",
    "    \"interior_area\": \"Interior Area of the Apartment\",\n",
    "    \"gros_area\": \"Gross Area of the Apartment\",\n",
    "    \"bathrooms\": \"Number of bathrooms\",\n",
    "    \"rooms\": \"Number of rooms, includes bedrooms and other rooms\"}\n",
    "\n",
    "explainer = RegressionExplainer(model, X_test, y_test, \n",
    "       descriptions=feature_descriptions,\n",
    "       index_name = \"propertiesid\"# defaults to None\n",
    "                                )\n",
    "db = ExplainerDashboard(explainer).run()"
   ]
  }
 ],
 "metadata": {
  "hide_input": false,
  "kernelspec": {
   "display_name": "Python 3",
   "language": "python",
   "name": "python3"
  },
  "language_info": {
   "codemirror_mode": {
    "name": "ipython",
    "version": 3
   },
   "file_extension": ".py",
   "mimetype": "text/x-python",
   "name": "python",
   "nbconvert_exporter": "python",
   "pygments_lexer": "ipython3",
   "version": "3.8.10"
  },
  "toc": {
   "base_numbering": 1,
   "nav_menu": {},
   "number_sections": true,
   "sideBar": true,
   "skip_h1_title": false,
   "title_cell": "Table of Contents",
   "title_sidebar": "Contents",
   "toc_cell": false,
   "toc_position": {},
   "toc_section_display": true,
   "toc_window_display": false
  }
 },
 "nbformat": 4,
 "nbformat_minor": 4
}
