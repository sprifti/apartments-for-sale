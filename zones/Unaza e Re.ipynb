{
 "cells": [
  {
   "cell_type": "code",
   "execution_count": 28,
   "metadata": {
    "ExecuteTime": {
     "end_time": "2021-07-11T12:02:57.861091Z",
     "start_time": "2021-07-11T12:02:57.832654Z"
    }
   },
   "outputs": [
    {
     "data": {
      "text/html": [
       "<style>.container { width:100% !important; }</style>"
      ],
      "text/plain": [
       "<IPython.core.display.HTML object>"
      ]
     },
     "metadata": {},
     "output_type": "display_data"
    },
    {
     "data": {
      "text/html": [
       "<style>.container { width:100% !important; }</style>"
      ],
      "text/plain": [
       "<IPython.core.display.HTML object>"
      ]
     },
     "metadata": {},
     "output_type": "display_data"
    }
   ],
   "source": [
    "import numpy as np # linear algebra\n",
    "import pandas as pd # data processing, CSV file I/O (e.g. pd.read_csv)\n",
    "import matplotlib.pyplot as plt\n",
    "from sklearn import preprocessing\n",
    "from sklearn import metrics\n",
    "from datetime import datetime as dt, timedelta\n",
    "from pandas_profiling import ProfileReport\n",
    "plt.figure(num=None, figsize=(10, 8), dpi=80, facecolor='w', edgecolor='k')\n",
    "import seaborn as sns; sns.set()  # for plot styling\n",
    "from sklearn.pipeline import Pipeline\n",
    "import plotly.graph_objects as go\n",
    "import datetime\n",
    "%matplotlib inline\n",
    "from IPython.core.display import display, HTML\n",
    "display(HTML(\"<style>.container { width:100% !important; }</style>\"))\n",
    "import warnings\n",
    "warnings.filterwarnings('ignore')\n",
    "from sklearn import preprocessing\n",
    "display(HTML(\"<style>.container { width:100% !important; }</style>\"))\n",
    "from plotly.subplots import make_subplots\n",
    "import plotly.express as px\n",
    "from statsmodels.tsa.stattools import adfuller\n",
    "from sklearn.metrics import mean_squared_error,r2_score\n",
    "import math\n",
    "from sklearn.model_selection import train_test_split\n",
    "import xlsxwriter\n",
    "from numpy import asarray\n",
    "from numpy import mean\n",
    "from numpy import std\n",
    "from sklearn.datasets import make_regression\n",
    "from xgboost import XGBRegressor\n",
    "from sklearn.model_selection import cross_val_score\n",
    "from sklearn.model_selection import RepeatedKFold\n",
    "from matplotlib import pyplot\n",
    "from openpyxl import load_workbook\n",
    "from xgboost import XGBRegressor\n",
    "from sklearn.model_selection import cross_val_score\n",
    "from sklearn.model_selection import RepeatedKFold\n",
    "from sklearn.model_selection import GridSearchCV\n",
    "from sklearn.preprocessing import StandardScaler, RobustScaler\n",
    "from sklearn.ensemble import RandomForestClassifier\n",
    "from explainerdashboard import ClassifierExplainer, ExplainerDashboard, RegressionExplainer\n",
    "import pickle\n",
    "from sklearn.preprocessing import StandardScaler, RobustScaler\n",
    "# writer = pd.ExcelWriter('output.xlsx', engine = 'xlsxwriter')\n",
    "import gspread\n",
    "from oauth2client.service_account import ServiceAccountCredentials\n",
    "import gspread_dataframe as gd\n",
    "SCOPE = ['https://www.googleapis.com/auth/drive']\n",
    "CREDENTIALS = ServiceAccountCredentials.from_json_keyfile_name('../expanded-bonbon-239019-ed390949c71b.json', SCOPE)"
   ]
  },
  {
   "cell_type": "code",
   "execution_count": 29,
   "metadata": {
    "ExecuteTime": {
     "end_time": "2021-07-11T12:03:13.863971Z",
     "start_time": "2021-07-11T12:03:13.858449Z"
    }
   },
   "outputs": [],
   "source": [
    "def save_model(model, file):\n",
    "    filename = file + '.sav'\n",
    "    pickle.dump(model, open(filename, 'wb'))"
   ]
  },
  {
   "cell_type": "code",
   "execution_count": 30,
   "metadata": {
    "ExecuteTime": {
     "end_time": "2021-07-11T12:03:14.913332Z",
     "start_time": "2021-07-11T12:03:14.906438Z"
    }
   },
   "outputs": [],
   "source": [
    "def plot_results(y_test, predicted, name):\n",
    "    \n",
    "    df = pd.DataFrame({'Actual': y_test, 'Predicted': predicted})\n",
    "    df.to_excel(\"output.xlsx\", sheet_name=name)  \n",
    "    df1 = df.head(50)\n",
    "    df1.plot(kind='bar',figsize=(20,12))\n",
    "    plt.grid(which='major', linestyle='-', linewidth='0.5', color='green')\n",
    "    plt.grid(which='minor', linestyle=':', linewidth='0.5', color='black')\n",
    "    return df"
   ]
  },
  {
   "cell_type": "code",
   "execution_count": 31,
   "metadata": {
    "ExecuteTime": {
     "end_time": "2021-07-11T12:03:15.637849Z",
     "start_time": "2021-07-11T12:03:15.631176Z"
    }
   },
   "outputs": [],
   "source": [
    "def predict(predict_df, scaler, model):\n",
    "    scaler = pickle.load(open('../models/'+ scaler +'.sav', 'rb'))\n",
    "    predict_df_scaled = scaler.transform(predict_df)\n",
    "    predict_df_scaled = pd.DataFrame(data=predict_df_scaled, columns=[predict_df.columns])\n",
    "    # predict_df_scaled\n",
    "    xgb = pickle.load(open('../models/'+ model +'.sav', 'rb'))\n",
    "    predicted = xgb.predict(predict_df_scaled)\n",
    "    print(predicted)"
   ]
  },
  {
   "cell_type": "code",
   "execution_count": 32,
   "metadata": {
    "ExecuteTime": {
     "end_time": "2021-07-11T12:03:16.587489Z",
     "start_time": "2021-07-11T12:03:16.497812Z"
    }
   },
   "outputs": [],
   "source": [
    "%store -r unaza_e_re_new\n",
    "unaza_e_re_df = unaza_e_re_new.copy()"
   ]
  },
  {
   "cell_type": "markdown",
   "metadata": {},
   "source": [
    "# Scaling"
   ]
  },
  {
   "cell_type": "code",
   "execution_count": 17,
   "metadata": {
    "ExecuteTime": {
     "end_time": "2021-07-10T11:48:45.964189Z",
     "start_time": "2021-07-10T11:48:45.949552Z"
    }
   },
   "outputs": [],
   "source": [
    "scaler = RobustScaler()\n",
    "\n",
    "X = unaza_e_re_df.drop(['price','propertiesid', 'gros_area'],1)\n",
    "\n",
    "y = unaza_e_re_df['price']\n",
    "columns = X.columns \n",
    "\n",
    "scaler = scaler.fit(X)\n",
    "# save_model(scaler, '../models/scaler')\n",
    "X = scaler.transform(X)\n",
    "X = pd.DataFrame(X, columns=[columns])\n",
    "# X_train\n",
    "X_train, X_test, y_train, y_test = train_test_split(X, y, test_size = 0.20)"
   ]
  },
  {
   "cell_type": "markdown",
   "metadata": {
    "ExecuteTime": {
     "end_time": "2021-06-06T20:42:19.813780Z",
     "start_time": "2021-06-06T20:42:19.811556Z"
    }
   },
   "source": [
    "# XGBoost"
   ]
  },
  {
   "cell_type": "markdown",
   "metadata": {},
   "source": [
    "## GridSearch"
   ]
  },
  {
   "cell_type": "code",
   "execution_count": 8,
   "metadata": {
    "ExecuteTime": {
     "end_time": "2021-06-12T09:33:56.898792Z",
     "start_time": "2021-06-12T09:33:56.873478Z"
    }
   },
   "outputs": [],
   "source": [
    "# xgb1 = XGBRegressor()\n",
    "# parameters = {'nthread':[4], #when use hyperthread, xgboost may become slower\n",
    "#               'objective':['reg:linear'],\n",
    "#               'learning_rate': [.03, 0.05, .07], #so called `eta` value\n",
    "#               'max_depth': [5, 6, 7],\n",
    "#               'min_child_weight': [4],\n",
    "#               'silent': [1],\n",
    "#               'subsample': [0.7],\n",
    "#               'colsample_bytree': [0.7],\n",
    "#               'n_estimators': [500]}\n",
    "\n",
    "# xgb_grid = GridSearchCV(xgb1,\n",
    "#                         parameters,\n",
    "#                         cv = 2,\n",
    "#                         n_jobs = 5,\n",
    "#                         verbose=True)\n",
    "\n",
    "# xgb_grid.fit(X_train, y_train)\n",
    "\n",
    "# print(xgb_grid.best_score_)\n",
    "# print(xgb_grid.best_params_)"
   ]
  },
  {
   "cell_type": "markdown",
   "metadata": {},
   "source": [
    "## CrossFold Validation"
   ]
  },
  {
   "cell_type": "code",
   "execution_count": 9,
   "metadata": {
    "ExecuteTime": {
     "end_time": "2021-06-12T09:33:56.929592Z",
     "start_time": "2021-06-12T09:33:56.901503Z"
    }
   },
   "outputs": [],
   "source": [
    "# model = XGBRegressor(colsample_bytree= 0.7, learning_rate= 0.03, max_depth= 5, min_child_weight= 4, n_estimators= 500, nthread= 4, objective= 'reg:linear', silent= 1, subsample= 0.7)\n",
    "# cv = RepeatedKFold(n_splits=10, n_repeats=3, random_state=1)\n",
    "# n_scores = cross_val_score(model, X, y, scoring='neg_mean_absolute_error', cv=cv, n_jobs=-1, error_score='raise')\n",
    "# print('MAE: %.3f (%.3f)' % (mean(n_scores), std(n_scores)))"
   ]
  },
  {
   "cell_type": "code",
   "execution_count": 61,
   "metadata": {
    "ExecuteTime": {
     "end_time": "2021-06-12T21:39:02.879118Z",
     "start_time": "2021-06-12T21:39:02.875697Z"
    }
   },
   "outputs": [],
   "source": [
    "# model = XGBRegressor(colsample_bytree= 0.7, learning_rate= 0.03, max_depth= 5, min_child_weight= 4, n_estimators= 500, nthread= 4, objective= 'reg:linear', silent= 1, subsample= 0.7)\n",
    "# model.fit(X_train, y_train)\n",
    "# save_model(model, \"../models/xgbregressor\")"
   ]
  },
  {
   "cell_type": "code",
   "execution_count": 60,
   "metadata": {
    "ExecuteTime": {
     "end_time": "2021-06-12T21:38:51.016318Z",
     "start_time": "2021-06-12T21:38:51.006995Z"
    },
    "scrolled": true
   },
   "outputs": [
    {
     "name": "stdout",
     "output_type": "stream",
     "text": [
      "R Squared: 0.5304502608405224\n",
      "Mean Absolute Error: 8516.577267530487\n",
      "Mean Squared Error: 134610565.79929385\n",
      "Root Mean Squared Error: 11602.17935559065\n"
     ]
    }
   ],
   "source": [
    "# predicted = model.predict(X_test)\n",
    "# print('R Squared:', metrics.r2_score(y_test, predicted))\n",
    "# print('Mean Absolute Error:', metrics.mean_absolute_error(y_test, predicted))  \n",
    "# print('Mean Squared Error:', metrics.mean_squared_error(y_test, predicted))  \n",
    "# print('Root Mean Squared Error:', np.sqrt(metrics.mean_squared_error(y_test, predicted)))"
   ]
  },
  {
   "cell_type": "code",
   "execution_count": 14,
   "metadata": {
    "ExecuteTime": {
     "end_time": "2021-06-12T17:53:18.220484Z",
     "start_time": "2021-06-12T17:53:18.216846Z"
    }
   },
   "outputs": [],
   "source": [
    "# predict_df = pd.DataFrame(data=[{'interior_area':70, 'gros_area':78,'bathrooms':1, 'rooms':2}])\n",
    "# predict(predict_df,'scaler','xgbregressor')"
   ]
  },
  {
   "cell_type": "code",
   "execution_count": null,
   "metadata": {
    "ExecuteTime": {
     "end_time": "2021-06-12T09:33:57.581642Z",
     "start_time": "2021-06-12T09:33:54.770Z"
    }
   },
   "outputs": [],
   "source": [
    "# plot_results(y_test, predicted,'XGBoost')"
   ]
  },
  {
   "cell_type": "markdown",
   "metadata": {},
   "source": [
    "# Random Forest Regressor"
   ]
  },
  {
   "cell_type": "code",
   "execution_count": 7,
   "metadata": {
    "ExecuteTime": {
     "end_time": "2021-07-10T11:44:32.812810Z",
     "start_time": "2021-07-10T11:44:32.808672Z"
    }
   },
   "outputs": [],
   "source": [
    "from sklearn.ensemble import RandomForestRegressor"
   ]
  },
  {
   "cell_type": "code",
   "execution_count": 8,
   "metadata": {
    "ExecuteTime": {
     "end_time": "2021-07-10T11:44:57.575862Z",
     "start_time": "2021-07-10T11:44:35.160102Z"
    }
   },
   "outputs": [
    {
     "name": "stdout",
     "output_type": "stream",
     "text": [
      "0.5663791376759277\n",
      "{'max_depth': 3, 'n_estimators': 100}\n"
     ]
    }
   ],
   "source": [
    "parameters = {\n",
    "    'n_estimators': [100, 150, 200, 250, 300],\n",
    "    'max_depth': [1,2,3,4],\n",
    "}\n",
    "regr = RandomForestRegressor(random_state=0)\n",
    "\n",
    "clf = GridSearchCV(regr, parameters)\n",
    "clf.fit(X_train, y_train)\n",
    "\n",
    "print(clf.best_score_)\n",
    "print(clf.best_params_)"
   ]
  },
  {
   "cell_type": "code",
   "execution_count": 10,
   "metadata": {
    "ExecuteTime": {
     "end_time": "2021-07-10T11:45:14.890071Z",
     "start_time": "2021-07-10T11:45:14.748078Z"
    }
   },
   "outputs": [],
   "source": [
    "model_rfr = RandomForestRegressor(n_estimators = 100, max_depth=3)\n",
    "model_rfr.fit(X_train, y_train)\n",
    "predicted_rfr = model_rfr.predict(X_test)\n",
    "# save_model(model_rfr, \"../models/rfr\")"
   ]
  },
  {
   "cell_type": "code",
   "execution_count": 12,
   "metadata": {
    "ExecuteTime": {
     "end_time": "2021-07-10T11:45:28.893559Z",
     "start_time": "2021-07-10T11:45:28.868287Z"
    }
   },
   "outputs": [
    {
     "name": "stdout",
     "output_type": "stream",
     "text": [
      "R Squared: 0.5772022069016698\n",
      "Mean Absolute Error: 7474.202457181513\n",
      "Mean Squared Error: 97188602.0771683\n",
      "Root Mean Squared Error: 9858.427971901418\n"
     ]
    }
   ],
   "source": [
    "predicted = model_rfr.predict(X_test)\n",
    "print('R Squared:', metrics.r2_score(y_test, predicted))\n",
    "print('Mean Absolute Error:', metrics.mean_absolute_error(y_test, predicted))  \n",
    "print('Mean Squared Error:', metrics.mean_squared_error(y_test, predicted))  \n",
    "print('Root Mean Squared Error:', np.sqrt(metrics.mean_squared_error(y_test, predicted)))"
   ]
  },
  {
   "cell_type": "markdown",
   "metadata": {},
   "source": [
    "# ExplainerDashboard RandomForestClassifier"
   ]
  },
  {
   "cell_type": "code",
   "execution_count": 42,
   "metadata": {
    "ExecuteTime": {
     "end_time": "2021-07-11T12:05:38.239909Z",
     "start_time": "2021-07-11T12:05:38.220638Z"
    }
   },
   "outputs": [],
   "source": [
    "scaler = RobustScaler()\n",
    "\n",
    "X = unaza_e_re_df.drop(['price', 'gros_area'],1)\n",
    "y = unaza_e_re_df['price']\n",
    "\n",
    "columns = ['interior_area', 'bathrooms','rooms']\n",
    "X.set_index('propertiesid', inplace=True)\n",
    "scaler = scaler.fit(X)\n",
    "\n",
    "X_scaled = scaler.transform(X)\n",
    "\n",
    "X_df = pd.DataFrame(X_scaled, columns=columns)\n",
    "\n",
    "X.reset_index(inplace=True)\n",
    "properties = X[['propertiesid']]\n",
    "X_new_df = properties.merge(X_df, left_index=True, right_index=True)\n",
    "X_new_df.set_index('propertiesid', inplace=True)"
   ]
  },
  {
   "cell_type": "code",
   "execution_count": 47,
   "metadata": {
    "ExecuteTime": {
     "end_time": "2021-07-11T12:07:50.884317Z",
     "start_time": "2021-07-11T12:07:50.880105Z"
    }
   },
   "outputs": [],
   "source": [
    "save_model(scaler, 'unaza_e_re_scaler')"
   ]
  },
  {
   "cell_type": "code",
   "execution_count": 46,
   "metadata": {
    "ExecuteTime": {
     "end_time": "2021-07-11T12:06:32.892452Z",
     "start_time": "2021-07-11T12:06:32.875397Z"
    }
   },
   "outputs": [],
   "source": [
    "save_model(model, \"unaza_e_re\")"
   ]
  },
  {
   "cell_type": "code",
   "execution_count": 43,
   "metadata": {
    "ExecuteTime": {
     "end_time": "2021-07-11T12:06:23.817243Z",
     "start_time": "2021-07-11T12:05:39.186375Z"
    },
    "scrolled": true
   },
   "outputs": [
    {
     "name": "stdout",
     "output_type": "stream",
     "text": [
      "Changing class type to RandomForestRegressionExplainer...\n",
      "Generating self.shap_explainer = shap.TreeExplainer(model)\n",
      "Building ExplainerDashboard..\n",
      "Detected notebook environment, consider setting mode='external', mode='inline' or mode='jupyterlab' to keep the notebook interactive while the dashboard is running...\n",
      "Warning: calculating shap interaction values can be slow! Pass shap_interaction=False to remove interactions tab.\n",
      "Generating layout...\n",
      "Calculating shap values...\n",
      "Calculating predictions...\n",
      "Calculating residuals...\n",
      "Calculating absolute residuals...\n",
      "Calculating dependencies...\n",
      "Calculating importances...\n",
      "Calculating shap interaction values...\n",
      "Reminder: TreeShap computational complexity is O(TLD^2), where T is the number of trees, L is the maximum number of leaves in any tree and D the maximal depth of any tree. So reducing these will speed up the calculation.\n",
      "Calculating ShadowDecTree for each individual decision tree...\n",
      "Reminder: you can store the explainer (including calculated dependencies) with explainer.dump('explainer.joblib') and reload with e.g. ClassifierExplainer.from_file('explainer.joblib')\n",
      "Registering callbacks...\n",
      "Starting ExplainerDashboard on http://192.168.8.192:8050\n",
      "Dash is running on http://0.0.0.0:8050/\n",
      "\n",
      "Dash is running on http://0.0.0.0:8050/\n",
      "\n",
      "Dash is running on http://0.0.0.0:8050/\n",
      "\n",
      "Dash is running on http://0.0.0.0:8050/\n",
      "\n",
      "Dash is running on http://0.0.0.0:8050/\n",
      "\n",
      "Dash is running on http://0.0.0.0:8050/\n",
      "\n",
      "Dash is running on http://0.0.0.0:8050/\n",
      "\n",
      "Dash is running on http://0.0.0.0:8050/\n",
      "\n",
      "Dash is running on http://0.0.0.0:8050/\n",
      "\n",
      "Dash is running on http://0.0.0.0:8050/\n",
      "\n",
      "Dash is running on http://0.0.0.0:8050/\n",
      "\n",
      "Dash is running on http://0.0.0.0:8050/\n",
      "\n",
      "Dash is running on http://0.0.0.0:8050/\n",
      "\n",
      " * Serving Flask app \"explainerdashboard.dashboards\" (lazy loading)\n",
      " * Environment: production\n",
      "\u001b[31m   WARNING: This is a development server. Do not use it in a production deployment.\u001b[0m\n",
      "\u001b[2m   Use a production WSGI server instead.\u001b[0m\n",
      " * Debug mode: off\n"
     ]
    },
    {
     "name": "stderr",
     "output_type": "stream",
     "text": [
      " * Running on http://0.0.0.0:8050/ (Press CTRL+C to quit)\n",
      "192.168.8.192 - - [11/Jul/2021 14:05:41] \"\u001b[37mGET / HTTP/1.1\u001b[0m\" 200 -\n",
      "192.168.8.192 - - [11/Jul/2021 14:05:42] \"\u001b[37mGET /_dash-dependencies HTTP/1.1\u001b[0m\" 200 -\n",
      "192.168.8.192 - - [11/Jul/2021 14:05:42] \"\u001b[37mGET /_dash-layout HTTP/1.1\u001b[0m\" 200 -\n",
      "192.168.8.192 - - [11/Jul/2021 14:05:42] \"\u001b[37mPOST /_dash-update-component HTTP/1.1\u001b[0m\" 200 -\n",
      "192.168.8.192 - - [11/Jul/2021 14:05:42] \"\u001b[37mPOST /_dash-update-component HTTP/1.1\u001b[0m\" 200 -\n",
      "192.168.8.192 - - [11/Jul/2021 14:05:42] \"\u001b[37mPOST /_dash-update-component HTTP/1.1\u001b[0m\" 200 -\n",
      "192.168.8.192 - - [11/Jul/2021 14:05:42] \"\u001b[37mPOST /_dash-update-component HTTP/1.1\u001b[0m\" 200 -\n",
      "192.168.8.192 - - [11/Jul/2021 14:05:42] \"\u001b[37mPOST /_dash-update-component HTTP/1.1\u001b[0m\" 200 -\n",
      "192.168.8.192 - - [11/Jul/2021 14:05:42] \"\u001b[37mPOST /_dash-update-component HTTP/1.1\u001b[0m\" 200 -\n",
      "192.168.8.192 - - [11/Jul/2021 14:05:42] \"\u001b[37mPOST /_dash-update-component HTTP/1.1\u001b[0m\" 200 -\n",
      "192.168.8.192 - - [11/Jul/2021 14:05:42] \"\u001b[37mPOST /_dash-update-component HTTP/1.1\u001b[0m\" 200 -\n",
      "192.168.8.192 - - [11/Jul/2021 14:05:42] \"\u001b[37mPOST /_dash-update-component HTTP/1.1\u001b[0m\" 200 -\n",
      "192.168.8.192 - - [11/Jul/2021 14:05:42] \"\u001b[37mPOST /_dash-update-component HTTP/1.1\u001b[0m\" 200 -\n",
      "192.168.8.192 - - [11/Jul/2021 14:05:42] \"\u001b[37mPOST /_dash-update-component HTTP/1.1\u001b[0m\" 200 -\n",
      "192.168.8.192 - - [11/Jul/2021 14:05:42] \"\u001b[37mPOST /_dash-update-component HTTP/1.1\u001b[0m\" 200 -\n",
      "192.168.8.192 - - [11/Jul/2021 14:05:42] \"\u001b[37mPOST /_dash-update-component HTTP/1.1\u001b[0m\" 200 -\n",
      "192.168.8.192 - - [11/Jul/2021 14:05:42] \"\u001b[37mPOST /_dash-update-component HTTP/1.1\u001b[0m\" 200 -\n",
      "192.168.8.192 - - [11/Jul/2021 14:05:42] \"\u001b[37mPOST /_dash-update-component HTTP/1.1\u001b[0m\" 200 -\n",
      "192.168.8.192 - - [11/Jul/2021 14:05:42] \"\u001b[37mPOST /_dash-update-component HTTP/1.1\u001b[0m\" 200 -\n",
      "192.168.8.192 - - [11/Jul/2021 14:05:42] \"\u001b[37mPOST /_dash-update-component HTTP/1.1\u001b[0m\" 200 -\n",
      "192.168.8.192 - - [11/Jul/2021 14:05:42] \"\u001b[37mPOST /_dash-update-component HTTP/1.1\u001b[0m\" 200 -\n",
      "192.168.8.192 - - [11/Jul/2021 14:05:42] \"\u001b[37mPOST /_dash-update-component HTTP/1.1\u001b[0m\" 200 -\n",
      "192.168.8.192 - - [11/Jul/2021 14:05:42] \"\u001b[37mPOST /_dash-update-component HTTP/1.1\u001b[0m\" 200 -\n",
      "192.168.8.192 - - [11/Jul/2021 14:05:42] \"\u001b[37mPOST /_dash-update-component HTTP/1.1\u001b[0m\" 200 -\n",
      "192.168.8.192 - - [11/Jul/2021 14:05:42] \"\u001b[37mPOST /_dash-update-component HTTP/1.1\u001b[0m\" 200 -\n",
      "192.168.8.192 - - [11/Jul/2021 14:05:42] \"\u001b[37mPOST /_dash-update-component HTTP/1.1\u001b[0m\" 200 -\n",
      "192.168.8.192 - - [11/Jul/2021 14:05:42] \"\u001b[37mPOST /_dash-update-component HTTP/1.1\u001b[0m\" 200 -\n",
      "192.168.8.192 - - [11/Jul/2021 14:05:43] \"\u001b[37mPOST /_dash-update-component HTTP/1.1\u001b[0m\" 200 -\n",
      "192.168.8.192 - - [11/Jul/2021 14:05:43] \"\u001b[37mPOST /_dash-update-component HTTP/1.1\u001b[0m\" 200 -\n",
      "192.168.8.192 - - [11/Jul/2021 14:05:43] \"\u001b[37mPOST /_dash-update-component HTTP/1.1\u001b[0m\" 200 -\n",
      "192.168.8.192 - - [11/Jul/2021 14:05:43] \"\u001b[37mPOST /_dash-update-component HTTP/1.1\u001b[0m\" 200 -\n",
      "192.168.8.192 - - [11/Jul/2021 14:05:43] \"\u001b[37mPOST /_dash-update-component HTTP/1.1\u001b[0m\" 200 -\n",
      "192.168.8.192 - - [11/Jul/2021 14:05:43] \"\u001b[37mPOST /_dash-update-component HTTP/1.1\u001b[0m\" 200 -\n",
      "192.168.8.192 - - [11/Jul/2021 14:05:43] \"\u001b[37mPOST /_dash-update-component HTTP/1.1\u001b[0m\" 200 -\n",
      "192.168.8.192 - - [11/Jul/2021 14:05:43] \"\u001b[37mPOST /_dash-update-component HTTP/1.1\u001b[0m\" 200 -\n",
      "192.168.8.192 - - [11/Jul/2021 14:05:43] \"\u001b[37mPOST /_dash-update-component HTTP/1.1\u001b[0m\" 200 -\n",
      "192.168.8.192 - - [11/Jul/2021 14:05:43] \"\u001b[37mPOST /_dash-update-component HTTP/1.1\u001b[0m\" 204 -\n",
      "192.168.8.192 - - [11/Jul/2021 14:05:43] \"\u001b[37mPOST /_dash-update-component HTTP/1.1\u001b[0m\" 204 -\n",
      "192.168.8.192 - - [11/Jul/2021 14:05:43] \"\u001b[37mPOST /_dash-update-component HTTP/1.1\u001b[0m\" 200 -\n",
      "192.168.8.192 - - [11/Jul/2021 14:05:43] \"\u001b[37mPOST /_dash-update-component HTTP/1.1\u001b[0m\" 200 -\n",
      "192.168.8.192 - - [11/Jul/2021 14:05:43] \"\u001b[37mPOST /_dash-update-component HTTP/1.1\u001b[0m\" 204 -\n",
      "192.168.8.192 - - [11/Jul/2021 14:05:43] \"\u001b[37mPOST /_dash-update-component HTTP/1.1\u001b[0m\" 204 -\n",
      "192.168.8.192 - - [11/Jul/2021 14:05:43] \"\u001b[37mPOST /_dash-update-component HTTP/1.1\u001b[0m\" 200 -\n",
      "192.168.8.192 - - [11/Jul/2021 14:05:43] \"\u001b[37mPOST /_dash-update-component HTTP/1.1\u001b[0m\" 200 -\n",
      "192.168.8.192 - - [11/Jul/2021 14:05:43] \"\u001b[37mPOST /_dash-update-component HTTP/1.1\u001b[0m\" 200 -\n",
      "192.168.8.192 - - [11/Jul/2021 14:05:43] \"\u001b[37mPOST /_dash-update-component HTTP/1.1\u001b[0m\" 200 -\n",
      "192.168.8.192 - - [11/Jul/2021 14:05:43] \"\u001b[37mPOST /_dash-update-component HTTP/1.1\u001b[0m\" 200 -\n",
      "192.168.8.192 - - [11/Jul/2021 14:05:43] \"\u001b[37mPOST /_dash-update-component HTTP/1.1\u001b[0m\" 200 -\n",
      "192.168.8.192 - - [11/Jul/2021 14:05:43] \"\u001b[37mPOST /_dash-update-component HTTP/1.1\u001b[0m\" 200 -\n",
      "192.168.8.192 - - [11/Jul/2021 14:05:43] \"\u001b[37mPOST /_dash-update-component HTTP/1.1\u001b[0m\" 200 -\n",
      "192.168.8.192 - - [11/Jul/2021 14:05:43] \"\u001b[37mPOST /_dash-update-component HTTP/1.1\u001b[0m\" 200 -\n",
      "192.168.8.192 - - [11/Jul/2021 14:05:43] \"\u001b[37mPOST /_dash-update-component HTTP/1.1\u001b[0m\" 200 -\n",
      "192.168.8.192 - - [11/Jul/2021 14:05:43] \"\u001b[37mPOST /_dash-update-component HTTP/1.1\u001b[0m\" 200 -\n",
      "192.168.8.192 - - [11/Jul/2021 14:05:43] \"\u001b[37mPOST /_dash-update-component HTTP/1.1\u001b[0m\" 200 -\n",
      "192.168.8.192 - - [11/Jul/2021 14:05:43] \"\u001b[37mPOST /_dash-update-component HTTP/1.1\u001b[0m\" 200 -\n",
      "192.168.8.192 - - [11/Jul/2021 14:05:43] \"\u001b[37mPOST /_dash-update-component HTTP/1.1\u001b[0m\" 200 -\n",
      "192.168.8.192 - - [11/Jul/2021 14:05:43] \"\u001b[37mPOST /_dash-update-component HTTP/1.1\u001b[0m\" 200 -\n",
      "192.168.8.192 - - [11/Jul/2021 14:05:43] \"\u001b[37mPOST /_dash-update-component HTTP/1.1\u001b[0m\" 200 -\n",
      "192.168.8.192 - - [11/Jul/2021 14:05:43] \"\u001b[37mPOST /_dash-update-component HTTP/1.1\u001b[0m\" 204 -\n",
      "192.168.8.192 - - [11/Jul/2021 14:05:43] \"\u001b[37mPOST /_dash-update-component HTTP/1.1\u001b[0m\" 200 -\n",
      "192.168.8.192 - - [11/Jul/2021 14:05:44] \"\u001b[37mPOST /_dash-update-component HTTP/1.1\u001b[0m\" 200 -\n",
      "192.168.8.192 - - [11/Jul/2021 14:05:44] \"\u001b[37mPOST /_dash-update-component HTTP/1.1\u001b[0m\" 204 -\n",
      "192.168.8.192 - - [11/Jul/2021 14:05:44] \"\u001b[37mPOST /_dash-update-component HTTP/1.1\u001b[0m\" 200 -\n",
      "192.168.8.192 - - [11/Jul/2021 14:05:44] \"\u001b[37mPOST /_dash-update-component HTTP/1.1\u001b[0m\" 200 -\n",
      "192.168.8.192 - - [11/Jul/2021 14:05:44] \"\u001b[37mPOST /_dash-update-component HTTP/1.1\u001b[0m\" 200 -\n",
      "192.168.8.192 - - [11/Jul/2021 14:05:45] \"\u001b[37mPOST /_dash-update-component HTTP/1.1\u001b[0m\" 200 -\n",
      "192.168.8.192 - - [11/Jul/2021 14:05:45] \"\u001b[37mPOST /_dash-update-component HTTP/1.1\u001b[0m\" 200 -\n",
      "192.168.8.192 - - [11/Jul/2021 14:05:45] \"\u001b[37mPOST /_dash-update-component HTTP/1.1\u001b[0m\" 200 -\n",
      "192.168.8.192 - - [11/Jul/2021 14:05:45] \"\u001b[37mPOST /_dash-update-component HTTP/1.1\u001b[0m\" 200 -\n",
      "192.168.8.192 - - [11/Jul/2021 14:05:45] \"\u001b[37mPOST /_dash-update-component HTTP/1.1\u001b[0m\" 200 -\n",
      "192.168.8.192 - - [11/Jul/2021 14:05:45] \"\u001b[37mPOST /_dash-update-component HTTP/1.1\u001b[0m\" 200 -\n",
      "192.168.8.192 - - [11/Jul/2021 14:05:45] \"\u001b[37mPOST /_dash-update-component HTTP/1.1\u001b[0m\" 200 -\n",
      "192.168.8.192 - - [11/Jul/2021 14:05:45] \"\u001b[37mPOST /_dash-update-component HTTP/1.1\u001b[0m\" 200 -\n",
      "192.168.8.192 - - [11/Jul/2021 14:05:45] \"\u001b[37mPOST /_dash-update-component HTTP/1.1\u001b[0m\" 200 -\n",
      "192.168.8.192 - - [11/Jul/2021 14:05:45] \"\u001b[37mPOST /_dash-update-component HTTP/1.1\u001b[0m\" 200 -\n",
      "192.168.8.192 - - [11/Jul/2021 14:05:46] \"\u001b[37mPOST /_dash-update-component HTTP/1.1\u001b[0m\" 200 -\n"
     ]
    }
   ],
   "source": [
    "from sklearn.ensemble import RandomForestClassifier\n",
    "from explainerdashboard import ClassifierExplainer, ExplainerDashboard, RegressionExplainer\n",
    "X_train, X_test, y_train, y_test = train_test_split(X_new_df, y, test_size = 0.20)\n",
    "model = RandomForestRegressor(n_estimators = 300, max_depth=4)\n",
    "model.fit(X_train,y_train)\n",
    "feature_descriptions = {\n",
    "    \"interior_area\": \"Interior Area of the Apartment\",\n",
    "    \"gros_area\": \"Gross Area of the Apartment\",\n",
    "    \"bathrooms\": \"Number of bathrooms\",\n",
    "    \"rooms\": \"Number of rooms, includes bedrooms and other rooms\"}\n",
    "\n",
    "explainer = RegressionExplainer(model, X_test, y_test, \n",
    "       descriptions=feature_descriptions,\n",
    "       index_name = \"propertiesid\"# defaults to None\n",
    "                                )\n",
    "explainer.dump(\"randomforest.joblib\")\n",
    "db = ExplainerDashboard(explainer).run()"
   ]
  },
  {
   "cell_type": "code",
   "execution_count": 45,
   "metadata": {
    "ExecuteTime": {
     "end_time": "2021-07-11T12:06:25.456320Z",
     "start_time": "2021-07-11T12:06:25.193515Z"
    },
    "scrolled": true
   },
   "outputs": [
    {
     "name": "stdout",
     "output_type": "stream",
     "text": [
      "Building ExplainerDashboard..\n",
      "Detected notebook environment, consider setting mode='external', mode='inline' or mode='jupyterlab' to keep the notebook interactive while the dashboard is running...\n",
      "Warning: calculating shap interaction values can be slow! Pass shap_interaction=False to remove interactions tab.\n",
      "Generating layout...\n",
      "Calculating dependencies...\n",
      "Reminder: you can store the explainer (including calculated dependencies) with explainer.dump('explainer.joblib') and reload with e.g. ClassifierExplainer.from_file('explainer.joblib')\n",
      "Registering callbacks...\n",
      "Trying to shut down dashboard on port 8050...\n",
      "Something seems to have failed: HTTPConnectionPool(host='localhost', port=8050): Max retries exceeded with url: /_shutdown_e6901fd2-bd62-489c-8ff8-0f4355498923 (Caused by NewConnectionError('<urllib3.connection.HTTPConnection object at 0x7f6eb8a969d0>: Failed to establish a new connection: [Errno 111] Connection refused'))\n"
     ]
    }
   ],
   "source": [
    "ExplainerDashboard(explainer).terminate(8050)"
   ]
  },
  {
   "cell_type": "code",
   "execution_count": 229,
   "metadata": {
    "ExecuteTime": {
     "end_time": "2021-06-12T11:00:14.488685Z",
     "start_time": "2021-06-12T11:00:14.484322Z"
    }
   },
   "outputs": [],
   "source": [
    "# predict_df = pd.DataFrame(data=[{'interior_area':70, 'gros_area':78,'bathrooms':1, 'rooms':2}])\n",
    "# predict(predict_df,'scaler','rfr')"
   ]
  },
  {
   "cell_type": "markdown",
   "metadata": {},
   "source": [
    "# ExplainerDashboard XGBRegressor"
   ]
  },
  {
   "cell_type": "code",
   "execution_count": 28,
   "metadata": {
    "ExecuteTime": {
     "end_time": "2021-06-12T18:10:06.902506Z",
     "start_time": "2021-06-12T18:09:58.738673Z"
    },
    "scrolled": true
   },
   "outputs": [
    {
     "name": "stdout",
     "output_type": "stream",
     "text": [
      "[20:09:58] WARNING: ../src/objective/regression_obj.cu:170: reg:linear is now deprecated in favor of reg:squarederror.\n",
      "[20:09:58] WARNING: ../src/learner.cc:541: \n",
      "Parameters: { silent } might not be used.\n",
      "\n",
      "  This may not be accurate due to some parameters are only used in language bindings but\n",
      "  passed down to XGBoost core.  Or some parameters are not used but slip through this\n",
      "  verification. Please open an issue if you find above cases.\n",
      "\n",
      "\n",
      "Changing class type to XGBRegressionExplainer...\n",
      "Generating self.shap_explainer = shap.TreeExplainer(model)\n",
      "Building ExplainerDashboard..\n",
      "Detected notebook environment, consider setting mode='external', mode='inline' or mode='jupyterlab' to keep the notebook interactive while the dashboard is running...\n",
      "Warning: calculating shap interaction values can be slow! Pass shap_interaction=False to remove interactions tab.\n",
      "Generating layout...\n",
      "Calculating shap values...\n",
      "Calculating predictions...\n",
      "Calculating residuals...\n",
      "Calculating absolute residuals...\n",
      "Generating xgboost model dump...\n",
      "Calculating dependencies...\n",
      "Calculating importances...\n",
      "Calculating shap interaction values...\n",
      "Reminder: TreeShap computational complexity is O(TLD^2), where T is the number of trees, L is the maximum number of leaves in any tree and D the maximal depth of any tree. So reducing these will speed up the calculation.\n",
      "Calculating ShadowDecTree for each individual decision tree...\n",
      "Reminder: you can store the explainer (including calculated dependencies) with explainer.dump('explainer.joblib') and reload with e.g. ClassifierExplainer.from_file('explainer.joblib')\n",
      "Registering callbacks...\n",
      "Starting ExplainerDashboard on http://192.168.1.225:8050\n",
      "Dash is running on http://0.0.0.0:8050/\n",
      "\n",
      "Dash is running on http://0.0.0.0:8050/\n",
      "\n",
      "Dash is running on http://0.0.0.0:8050/\n",
      "\n",
      "Dash is running on http://0.0.0.0:8050/\n",
      "\n",
      "Dash is running on http://0.0.0.0:8050/\n",
      "\n",
      " * Serving Flask app \"explainerdashboard.dashboards\" (lazy loading)\n",
      " * Environment: production\n",
      "\u001b[31m   WARNING: This is a development server. Do not use it in a production deployment.\u001b[0m\n",
      "\u001b[2m   Use a production WSGI server instead.\u001b[0m\n",
      " * Debug mode: off\n"
     ]
    },
    {
     "name": "stderr",
     "output_type": "stream",
     "text": [
      " * Running on http://0.0.0.0:8050/ (Press CTRL+C to quit)\n"
     ]
    }
   ],
   "source": [
    "\n",
    "X_train, X_test, y_train, y_test = train_test_split(X_new_df, y, test_size = 0.20)\n",
    "model = XGBRegressor(colsample_bytree= 0.7, learning_rate= 0.03, max_depth= 5, min_child_weight= 4, n_estimators= 500, nthread= 4, objective= 'reg:linear', silent= 1, subsample= 0.7)\n",
    "model.fit(X_train,y_train)\n",
    "feature_descriptions = {\n",
    "    \"interior_area\": \"Interior Area of the Apartment\",\n",
    "    \"gros_area\": \"Gross Area of the Apartment\",\n",
    "    \"bathrooms\": \"Number of bathrooms\",\n",
    "    \"rooms\": \"Number of rooms, includes bedrooms and other rooms\"}\n",
    "\n",
    "explainer = RegressionExplainer(model, X_test, y_test, \n",
    "       descriptions=feature_descriptions,\n",
    "       index_name = \"propertiesid\"# defaults to None\n",
    "                                )\n",
    "explainer.dump(\"xgbregressor.joblib\")\n",
    "db = ExplainerDashboard(explainer).run()"
   ]
  },
  {
   "cell_type": "code",
   "execution_count": null,
   "metadata": {
    "ExecuteTime": {
     "start_time": "2021-06-16T21:38:48.315Z"
    }
   },
   "outputs": [],
   "source": [
    "# Importing the packages that we will use\n",
    "import lazypredict\n",
    "from lazypredict.Supervised import LazyRegressor\n",
    "# Running all the models\n",
    "# clf = LazyRegressor(verbose=0,ignore_warnings=True)\n",
    "# models, predictions = clf.fit(X_train, X_test, y_train, y_test)\n",
    "# models"
   ]
  }
 ],
 "metadata": {
  "hide_input": false,
  "kernelspec": {
   "display_name": "Python 3",
   "language": "python",
   "name": "python3"
  },
  "language_info": {
   "codemirror_mode": {
    "name": "ipython",
    "version": 3
   },
   "file_extension": ".py",
   "mimetype": "text/x-python",
   "name": "python",
   "nbconvert_exporter": "python",
   "pygments_lexer": "ipython3",
   "version": "3.8.10"
  },
  "toc": {
   "base_numbering": 1,
   "nav_menu": {},
   "number_sections": true,
   "sideBar": true,
   "skip_h1_title": false,
   "title_cell": "Table of Contents",
   "title_sidebar": "Contents",
   "toc_cell": false,
   "toc_position": {},
   "toc_section_display": true,
   "toc_window_display": false
  }
 },
 "nbformat": 4,
 "nbformat_minor": 4
}
